{
  "nbformat": 4,
  "nbformat_minor": 0,
  "metadata": {
    "colab": {
      "provenance": []
    },
    "kernelspec": {
      "name": "python3",
      "display_name": "Python 3"
    },
    "language_info": {
      "name": "python"
    }
  },
  "cells": [
    {
      "cell_type": "markdown",
      "source": [
        "# 1. 클래스 코드 연습"
      ],
      "metadata": {
        "id": "OxonTeN0q4QC"
      }
    },
    {
      "cell_type": "code",
      "execution_count": null,
      "metadata": {
        "id": "UdH_yuIFqxAF"
      },
      "outputs": [],
      "source": [
        "# Person 클래스 연습\n",
        "\n",
        "class Person:\n",
        "    def __init__(self, name, age):\n",
        "        self.name = name\n",
        "        self.age = age\n",
        "\n",
        "    def greet(self):\n",
        "        print(f'Hello {self.name}')"
      ]
    },
    {
      "cell_type": "code",
      "source": [
        "human1 = Person('Jonh', 25)"
      ],
      "metadata": {
        "id": "eNggF_tjrjKC"
      },
      "execution_count": null,
      "outputs": []
    },
    {
      "cell_type": "code",
      "source": [
        "human1.greet()"
      ],
      "metadata": {
        "colab": {
          "base_uri": "https://localhost:8080/"
        },
        "id": "bvx2fZsfrrVZ",
        "outputId": "3f393cb3-b9ff-4abf-97dc-0763c5c747bb"
      },
      "execution_count": null,
      "outputs": [
        {
          "output_type": "stream",
          "name": "stdout",
          "text": [
            "Hello Jonh\n"
          ]
        }
      ]
    },
    {
      "cell_type": "code",
      "source": [
        "# 두 명 추가하기\n",
        "p1 = Person('Alice', 30)\n",
        "p2 = Person('Bob', 40)"
      ],
      "metadata": {
        "id": "WddATN2Jru-y"
      },
      "execution_count": null,
      "outputs": []
    },
    {
      "cell_type": "code",
      "source": [
        "p1.greet()\n",
        "p2.greet()"
      ],
      "metadata": {
        "colab": {
          "base_uri": "https://localhost:8080/"
        },
        "id": "f8Krby3osSrq",
        "outputId": "2f95fe06-ac9d-4f4a-a6db-1fd43e5bfb7a"
      },
      "execution_count": null,
      "outputs": [
        {
          "output_type": "stream",
          "name": "stdout",
          "text": [
            "Hello Alice\n",
            "Hello Bob\n"
          ]
        }
      ]
    },
    {
      "cell_type": "markdown",
      "source": [
        "# 2. 은행 클래스"
      ],
      "metadata": {
        "id": "pNDBiPazsaOy"
      }
    },
    {
      "cell_type": "code",
      "source": [
        "class BankAccount:\n",
        "    def __init__(self, owner, balance=0):\n",
        "        self.owner = owner\n",
        "        self.balance = balance\n",
        "\n",
        "    # 입금 기능 구현\n",
        "    def deposit(self, amount):\n",
        "        self.balance += amount\n",
        "        return f'{amount}원이 입금됨. 현재 잔액: {self.balance}원.'\n",
        "\n",
        "    # 출금 기능 구현\n",
        "    def withdraw(self, amount):\n",
        "        if amount > self.balance:\n",
        "            return '잔액이 부족.'\n",
        "        self.balance -= amount\n",
        "        return f'{amount}원이 출금됨. 현재 잔액: {self.balance}원.'\n",
        "\n",
        "    # 이체 기능 구현\n",
        "    def transfer(self, target_amount, amount):\n",
        "        if amount > self.balance:\n",
        "            return '이체 실패 - 잔액 부족'\n",
        "        self.balance -= amount\n",
        "        target_amount.balance += amount\n",
        "        return (f'{amount}원 {target_amount.owner}님께 이체 완료\\n'\n",
        "                f'내 잔액: {self.balance}원')"
      ],
      "metadata": {
        "id": "oTDsq6EfsWL8"
      },
      "execution_count": null,
      "outputs": []
    },
    {
      "cell_type": "code",
      "source": [
        "a1 = BankAccount('홍길동')\n",
        "print(a1.deposit(10000))"
      ],
      "metadata": {
        "colab": {
          "base_uri": "https://localhost:8080/"
        },
        "id": "ecJq5jQlyGIq",
        "outputId": "2fc13536-6c22-4754-ac20-4a51a1b3afb7"
      },
      "execution_count": null,
      "outputs": [
        {
          "output_type": "stream",
          "name": "stdout",
          "text": [
            "10000원이 입금됨. 현재 잔액: 10000원.\n"
          ]
        }
      ]
    },
    {
      "cell_type": "code",
      "source": [
        "a1.withdraw(3000)"
      ],
      "metadata": {
        "colab": {
          "base_uri": "https://localhost:8080/",
          "height": 35
        },
        "id": "zr2jZ-YdyQMc",
        "outputId": "e916569e-5dc9-438a-ff1b-4d702148f83c"
      },
      "execution_count": null,
      "outputs": [
        {
          "output_type": "execute_result",
          "data": {
            "text/plain": [
              "'3000원이 출금됨. 현재 잔액: 7000원.'"
            ],
            "application/vnd.google.colaboratory.intrinsic+json": {
              "type": "string"
            }
          },
          "metadata": {},
          "execution_count": 17
        }
      ]
    },
    {
      "cell_type": "code",
      "source": [
        "a2 = BankAccount('이순신')\n",
        "print(a2.deposit(5000))"
      ],
      "metadata": {
        "colab": {
          "base_uri": "https://localhost:8080/"
        },
        "id": "p_tKOGu3yW3R",
        "outputId": "a09d28eb-68ee-4755-f704-a7ff34e45bb9"
      },
      "execution_count": null,
      "outputs": [
        {
          "output_type": "stream",
          "name": "stdout",
          "text": [
            "5000원이 입금됨. 현재 잔액: 5000원.\n"
          ]
        }
      ]
    },
    {
      "cell_type": "code",
      "source": [
        "a2.withdraw(30000)"
      ],
      "metadata": {
        "colab": {
          "base_uri": "https://localhost:8080/",
          "height": 35
        },
        "id": "o6O7xbLhygsh",
        "outputId": "ac759f01-b334-4d40-b76d-0112edbd2733"
      },
      "execution_count": null,
      "outputs": [
        {
          "output_type": "execute_result",
          "data": {
            "text/plain": [
              "'잔액이 부족.'"
            ],
            "application/vnd.google.colaboratory.intrinsic+json": {
              "type": "string"
            }
          },
          "metadata": {},
          "execution_count": 19
        }
      ]
    },
    {
      "cell_type": "code",
      "source": [
        "a1.transfer(a2, 3000)"
      ],
      "metadata": {
        "colab": {
          "base_uri": "https://localhost:8080/",
          "height": 35
        },
        "id": "_SJO6Vdeyj4O",
        "outputId": "a6898bdd-ffc6-47f6-e652-2bc7deb2f12b"
      },
      "execution_count": null,
      "outputs": [
        {
          "output_type": "execute_result",
          "data": {
            "text/plain": [
              "'3000원 이순신님께 이체 완료\\n내 잔액: 4000원'"
            ],
            "application/vnd.google.colaboratory.intrinsic+json": {
              "type": "string"
            }
          },
          "metadata": {},
          "execution_count": 20
        }
      ]
    },
    {
      "cell_type": "code",
      "source": [
        "# 위의 은행 클래스 init없이 구현\n",
        "class BankAccount:\n",
        "\n",
        "    # 입금 기능 구현\n",
        "    def deposit(self, amount):\n",
        "        self.balance += amount\n",
        "        return f'{amount}원이 입금됨. 현재 잔액: {self.balance}원.'\n",
        "\n",
        "    # 출금 기능 구현\n",
        "    def withdraw(self, amount):\n",
        "        if amount > self.balance:\n",
        "            return '잔액이 부족.'\n",
        "        self.balance -= amount\n",
        "        return f'{amount}원이 출금됨. 현재 잔액: {self.balance}원.'\n",
        "\n",
        "    # 이체 기능 구현\n",
        "    def transfer(self, target_amount, amount):\n",
        "        if amount > self.balance:\n",
        "            return '이체 실패 - 잔액 부족'\n",
        "        self.balance -= amount\n",
        "        target_amount.balance += amount\n",
        "        return (f'{amount}원 {target_amount.owner}님께 이체 완료\\n'\n",
        "                f'내 잔액: {self.balance}원')"
      ],
      "metadata": {
        "id": "qB_nsm74yvfH"
      },
      "execution_count": null,
      "outputs": []
    },
    {
      "cell_type": "code",
      "source": [
        "a1 = BankAccount('홍길동', 10000)\n",
        "print(a1.deposit(10000))"
      ],
      "metadata": {
        "colab": {
          "base_uri": "https://localhost:8080/",
          "height": 163
        },
        "id": "8wRFisimzGMV",
        "outputId": "897cf9a8-837d-4cf2-b9d4-c4c8f5a59805"
      },
      "execution_count": null,
      "outputs": [
        {
          "output_type": "error",
          "ename": "TypeError",
          "evalue": "BankAccount() takes no arguments",
          "traceback": [
            "\u001b[0;31m---------------------------------------------------------------------------\u001b[0m",
            "\u001b[0;31mTypeError\u001b[0m                                 Traceback (most recent call last)",
            "\u001b[0;32m/tmp/ipython-input-1617144861.py\u001b[0m in \u001b[0;36m<cell line: 0>\u001b[0;34m()\u001b[0m\n\u001b[0;32m----> 1\u001b[0;31m \u001b[0ma1\u001b[0m \u001b[0;34m=\u001b[0m \u001b[0mBankAccount\u001b[0m\u001b[0;34m(\u001b[0m\u001b[0;34m'홍길동'\u001b[0m\u001b[0;34m)\u001b[0m\u001b[0;34m\u001b[0m\u001b[0;34m\u001b[0m\u001b[0m\n\u001b[0m\u001b[1;32m      2\u001b[0m \u001b[0mprint\u001b[0m\u001b[0;34m(\u001b[0m\u001b[0ma1\u001b[0m\u001b[0;34m.\u001b[0m\u001b[0mdeposit\u001b[0m\u001b[0;34m(\u001b[0m\u001b[0;36m10000\u001b[0m\u001b[0;34m)\u001b[0m\u001b[0;34m)\u001b[0m\u001b[0;34m\u001b[0m\u001b[0;34m\u001b[0m\u001b[0m\n",
            "\u001b[0;31mTypeError\u001b[0m: BankAccount() takes no arguments"
          ]
        }
      ]
    },
    {
      "cell_type": "code",
      "source": [
        "a1 = BankAccount()\n",
        "a1.owner = \"장보고\"\n",
        "a1.balance = 10000\n",
        "\n",
        "a2 = BankAccount()\n",
        "a2.owner = \"이순신\"\n",
        "a2.balance = 5000"
      ],
      "metadata": {
        "id": "8WN21LeizVO_"
      },
      "execution_count": null,
      "outputs": []
    },
    {
      "cell_type": "code",
      "source": [
        "a1.deposit(3000)"
      ],
      "metadata": {
        "colab": {
          "base_uri": "https://localhost:8080/",
          "height": 35
        },
        "id": "Qjl-4mK3zczm",
        "outputId": "7b1f9474-2faa-43cb-882d-cf60fda72bbc"
      },
      "execution_count": null,
      "outputs": [
        {
          "output_type": "execute_result",
          "data": {
            "text/plain": [
              "'3000원이 입금됨. 현재 잔액: 13000원.'"
            ],
            "application/vnd.google.colaboratory.intrinsic+json": {
              "type": "string"
            }
          },
          "metadata": {},
          "execution_count": 25
        }
      ]
    },
    {
      "cell_type": "code",
      "source": [
        "# 실습문제1 상품 클래스 구현하기 문제\n",
        "class Product:\n",
        "    def __init__(self, name, price, stock=0):\n",
        "        self.name = name\n",
        "        self.price = price\n",
        "        self.stock = stock\n",
        "\n",
        "    def restock(self, amount):\n",
        "        self.stock += amount\n",
        "        return f'{amount}개가 추가 되었습니다. 현재 재고: {self.stock}개'\n",
        "\n",
        "    def info(self):\n",
        "        return f'{self.name} | 가격: {self.price}원 | 재고: {self.stock}개'\n",
        "\n",
        "    def sell(self, quantity):\n",
        "        if quantity > self.stock:\n",
        "            return '재고 부족'\n",
        "        self.stock -= quantity\n",
        "        return f'{quantity}개 판매되었습니다. 남은 재고: {self.stock}'"
      ],
      "metadata": {
        "id": "YKwxkinqzgdF"
      },
      "execution_count": null,
      "outputs": []
    },
    {
      "cell_type": "code",
      "source": [
        "x = Product('사과', 800)\n",
        "y = Product('바나나', 2000)"
      ],
      "metadata": {
        "id": "SM0I5oCG2n_7"
      },
      "execution_count": null,
      "outputs": []
    },
    {
      "cell_type": "code",
      "source": [
        "y.restock(20)"
      ],
      "metadata": {
        "colab": {
          "base_uri": "https://localhost:8080/",
          "height": 35
        },
        "id": "qBbuSZVT2wf-",
        "outputId": "22754e6a-a17d-46fe-8617-28c0e3fd8f92"
      },
      "execution_count": null,
      "outputs": [
        {
          "output_type": "execute_result",
          "data": {
            "text/plain": [
              "'20개가 추가 되었습니다. 현재 재고: 20개'"
            ],
            "application/vnd.google.colaboratory.intrinsic+json": {
              "type": "string"
            }
          },
          "metadata": {},
          "execution_count": 28
        }
      ]
    },
    {
      "cell_type": "code",
      "source": [
        "# 실습2 문제 - 인스턴스 변수 초기화 예외 처리\n",
        "class Person:\n",
        "    def __init__(self, name, age, email=None):\n",
        "        if not (0<= age <= 120):\n",
        "            raise ValueError(\"유효한 나이를 입력하세요\")\n",
        "        self.name=name\n",
        "        self.age=age\n",
        "        self.email=email or 'unknown@email.com'\n",
        "\n",
        "    def greet(self):\n",
        "        print(f\"{self.name} ({self.age}세) - {self.email} 님, 안녕하세요!\")"
      ],
      "metadata": {
        "id": "Kk904hNu2zMw"
      },
      "execution_count": null,
      "outputs": []
    },
    {
      "cell_type": "code",
      "source": [
        "p1 = Person('Alice', 1000)"
      ],
      "metadata": {
        "colab": {
          "base_uri": "https://localhost:8080/",
          "height": 270
        },
        "id": "R8YAaP1_6Kvg",
        "outputId": "59ea5195-ffab-48e5-90be-39468fb06d45"
      },
      "execution_count": null,
      "outputs": [
        {
          "output_type": "error",
          "ename": "ValueError",
          "evalue": "유효한 나이를 입력하세요",
          "traceback": [
            "\u001b[0;31m---------------------------------------------------------------------------\u001b[0m",
            "\u001b[0;31mValueError\u001b[0m                                Traceback (most recent call last)",
            "\u001b[0;32m/tmp/ipython-input-3502883969.py\u001b[0m in \u001b[0;36m<cell line: 0>\u001b[0;34m()\u001b[0m\n\u001b[0;32m----> 1\u001b[0;31m \u001b[0mp1\u001b[0m \u001b[0;34m=\u001b[0m \u001b[0mPerson\u001b[0m\u001b[0;34m(\u001b[0m\u001b[0;34m'Alice'\u001b[0m\u001b[0;34m,\u001b[0m \u001b[0;36m1000\u001b[0m\u001b[0;34m)\u001b[0m\u001b[0;34m\u001b[0m\u001b[0;34m\u001b[0m\u001b[0m\n\u001b[0m",
            "\u001b[0;32m/tmp/ipython-input-1163494196.py\u001b[0m in \u001b[0;36m__init__\u001b[0;34m(self, name, age, email)\u001b[0m\n\u001b[1;32m      3\u001b[0m     \u001b[0;32mdef\u001b[0m \u001b[0m__init__\u001b[0m\u001b[0;34m(\u001b[0m\u001b[0mself\u001b[0m\u001b[0;34m,\u001b[0m \u001b[0mname\u001b[0m\u001b[0;34m,\u001b[0m \u001b[0mage\u001b[0m\u001b[0;34m,\u001b[0m \u001b[0memail\u001b[0m\u001b[0;34m=\u001b[0m\u001b[0;32mNone\u001b[0m\u001b[0;34m)\u001b[0m\u001b[0;34m:\u001b[0m\u001b[0;34m\u001b[0m\u001b[0;34m\u001b[0m\u001b[0m\n\u001b[1;32m      4\u001b[0m         \u001b[0;32mif\u001b[0m \u001b[0;32mnot\u001b[0m \u001b[0;34m(\u001b[0m\u001b[0;36m0\u001b[0m\u001b[0;34m<=\u001b[0m \u001b[0mage\u001b[0m \u001b[0;34m<=\u001b[0m \u001b[0;36m120\u001b[0m\u001b[0;34m)\u001b[0m\u001b[0;34m:\u001b[0m\u001b[0;34m\u001b[0m\u001b[0;34m\u001b[0m\u001b[0m\n\u001b[0;32m----> 5\u001b[0;31m             \u001b[0;32mraise\u001b[0m \u001b[0mValueError\u001b[0m\u001b[0;34m(\u001b[0m\u001b[0;34m\"유효한 나이를 입력하세요\"\u001b[0m\u001b[0;34m)\u001b[0m\u001b[0;34m\u001b[0m\u001b[0;34m\u001b[0m\u001b[0m\n\u001b[0m\u001b[1;32m      6\u001b[0m         \u001b[0mself\u001b[0m\u001b[0;34m.\u001b[0m\u001b[0mname\u001b[0m\u001b[0;34m=\u001b[0m\u001b[0mname\u001b[0m\u001b[0;34m\u001b[0m\u001b[0;34m\u001b[0m\u001b[0m\n\u001b[1;32m      7\u001b[0m         \u001b[0mself\u001b[0m\u001b[0;34m.\u001b[0m\u001b[0mage\u001b[0m\u001b[0;34m=\u001b[0m\u001b[0mage\u001b[0m\u001b[0;34m\u001b[0m\u001b[0;34m\u001b[0m\u001b[0m\n",
            "\u001b[0;31mValueError\u001b[0m: 유효한 나이를 입력하세요"
          ]
        }
      ]
    },
    {
      "cell_type": "code",
      "source": [
        "p2 = Person('Bob', 50)\n",
        "print(p2.greet())"
      ],
      "metadata": {
        "colab": {
          "base_uri": "https://localhost:8080/"
        },
        "id": "2DUxnONl6Qq1",
        "outputId": "5ba95d20-ebd5-41ce-aac3-109b6695311f"
      },
      "execution_count": null,
      "outputs": [
        {
          "output_type": "stream",
          "name": "stdout",
          "text": [
            "Bob (50세) - unknown@email.com 님, 안녕하세요!\n",
            "None\n"
          ]
        }
      ]
    },
    {
      "cell_type": "markdown",
      "source": [
        "# 3. 다양한 메소드"
      ],
      "metadata": {
        "id": "h7CUb6GmCX7s"
      }
    },
    {
      "cell_type": "code",
      "source": [
        "# __str__메소드\n",
        "\n",
        "class Book:\n",
        "    def __init__(self, title, author, year):\n",
        "        self.title = title\n",
        "        self.author = author\n",
        "        self.year = year\n",
        "\n",
        "    def __repr__(self):\n",
        "        return f'Book(title={self.title}, author={self.author}, year={self.year})'\n",
        "\n",
        "    def __str__(self):\n",
        "        return f'{self.title} by {self.author} ({self.year})'"
      ],
      "metadata": {
        "id": "igPgxHpp6cCz"
      },
      "execution_count": null,
      "outputs": []
    },
    {
      "cell_type": "code",
      "source": [
        "book1 = Book(\"노인과 바다\", \"헤밍웨이\", \"1952\")\n",
        "book2 = Book(\"소년이 온다\", \"한강\", \"2014\")"
      ],
      "metadata": {
        "id": "l1bLwBM7Df3n"
      },
      "execution_count": null,
      "outputs": []
    },
    {
      "cell_type": "code",
      "source": [
        "print(repr(book1))\n",
        "print(str(book2))"
      ],
      "metadata": {
        "colab": {
          "base_uri": "https://localhost:8080/"
        },
        "id": "oRvNqtk3DrKw",
        "outputId": "bef447a7-6294-4971-cac3-32dbd534d6be"
      },
      "execution_count": null,
      "outputs": [
        {
          "output_type": "stream",
          "name": "stdout",
          "text": [
            "Book(title=노인과 바다, author=헤밍웨이, year=1952)\n",
            "소년이 온다 by 한강 (2014)\n"
          ]
        }
      ]
    },
    {
      "cell_type": "code",
      "source": [
        "print(book1)\n",
        "print(book2)"
      ],
      "metadata": {
        "colab": {
          "base_uri": "https://localhost:8080/"
        },
        "id": "ED0VFiAbDw31",
        "outputId": "bfa8d046-625d-44ff-dd5a-042676a10b8d"
      },
      "execution_count": null,
      "outputs": [
        {
          "output_type": "stream",
          "name": "stdout",
          "text": [
            "노인과 바다 by 헤밍웨이 (1952)\n",
            "소년이 온다 by 한강 (2014)\n"
          ]
        }
      ]
    },
    {
      "cell_type": "code",
      "source": [
        "book1"
      ],
      "metadata": {
        "colab": {
          "base_uri": "https://localhost:8080/"
        },
        "id": "DJXDKAo2D0sy",
        "outputId": "13ca3a28-0cf7-4e9c-81dd-71ec9bd06209"
      },
      "execution_count": null,
      "outputs": [
        {
          "output_type": "execute_result",
          "data": {
            "text/plain": [
              "Book(title=노인과 바다, author=헤밍웨이, year=1952)"
            ]
          },
          "metadata": {},
          "execution_count": 5
        }
      ]
    },
    {
      "cell_type": "code",
      "source": [
        "book2"
      ],
      "metadata": {
        "id": "a2wgIntCD5Er",
        "outputId": "1f153e10-7029-415d-e401-e4141c57c5eb",
        "colab": {
          "base_uri": "https://localhost:8080/"
        }
      },
      "execution_count": null,
      "outputs": [
        {
          "output_type": "execute_result",
          "data": {
            "text/plain": [
              "Book(title=소년이 온다, author=한강, year=2014)"
            ]
          },
          "metadata": {},
          "execution_count": 6
        }
      ]
    },
    {
      "cell_type": "code",
      "source": [],
      "metadata": {
        "id": "f9wH3bwPD6zd"
      },
      "execution_count": null,
      "outputs": []
    }
  ]
}