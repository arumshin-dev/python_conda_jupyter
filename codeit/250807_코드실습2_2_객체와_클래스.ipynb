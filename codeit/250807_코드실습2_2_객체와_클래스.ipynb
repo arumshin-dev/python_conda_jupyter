{
  "nbformat": 4,
  "nbformat_minor": 0,
  "metadata": {
    "colab": {
      "provenance": [],
      "authorship_tag": "ABX9TyPtG1T/yN9FDkWohriUZLfH",
      "include_colab_link": true
    },
    "kernelspec": {
      "name": "python3",
      "display_name": "Python 3"
    },
    "language_info": {
      "name": "python"
    }
  },
  "cells": [
    {
      "cell_type": "markdown",
      "metadata": {
        "id": "view-in-github",
        "colab_type": "text"
      },
      "source": [
        "<a href=\"https://colab.research.google.com/github/arumshin-dev/python_conda_jupyter/blob/main/codeit/250807_%EC%BD%94%EB%93%9C%EC%8B%A4%EC%8A%B52_2_%EA%B0%9D%EC%B2%B4%EC%99%80_%ED%81%B4%EB%9E%98%EC%8A%A4.ipynb\" target=\"_parent\"><img src=\"https://colab.research.google.com/assets/colab-badge.svg\" alt=\"Open In Colab\"/></a>"
      ]
    },
    {
      "cell_type": "markdown",
      "source": [
        "1. 클래스 코드 연습"
      ],
      "metadata": {
        "id": "WqsXovvUrTeU"
      }
    },
    {
      "cell_type": "code",
      "execution_count": null,
      "metadata": {
        "id": "j5_qXsrTrONN"
      },
      "outputs": [],
      "source": [
        "#Person 클래스 연습\n",
        "class Person:\n",
        "  def __init__(self, name, age):\n",
        "    self.name = name\n",
        "    self.age = age\n",
        "\n",
        "  def greet(self):\n",
        "    print(f'안녕하세요, {self.name}')"
      ]
    },
    {
      "cell_type": "code",
      "source": [
        "human1=Person('John', 25)\n",
        "human1.greet()"
      ],
      "metadata": {
        "colab": {
          "base_uri": "https://localhost:8080/"
        },
        "id": "LsH1t0yesCQQ",
        "outputId": "4492fc59-aa26-41a1-b082-dcb4c8918441"
      },
      "execution_count": null,
      "outputs": [
        {
          "output_type": "stream",
          "name": "stdout",
          "text": [
            "안녕하세요, John\n"
          ]
        }
      ]
    },
    {
      "cell_type": "code",
      "source": [
        "p1 = Person('Alice', 30)\n",
        "p2 = Person('Bob', 25)"
      ],
      "metadata": {
        "id": "l-f-bGqMsZ1_"
      },
      "execution_count": null,
      "outputs": []
    },
    {
      "cell_type": "code",
      "source": [
        "p1.greet()\n",
        "p2.greet()"
      ],
      "metadata": {
        "colab": {
          "base_uri": "https://localhost:8080/"
        },
        "id": "H9QBKNl6sgq7",
        "outputId": "1e877f0d-66fe-4ffa-89c5-215388204ee3"
      },
      "execution_count": null,
      "outputs": [
        {
          "output_type": "stream",
          "name": "stdout",
          "text": [
            "안녕하세요, Alice\n",
            "안녕하세요, Bob\n"
          ]
        }
      ]
    },
    {
      "cell_type": "markdown",
      "source": [
        "2. 은행 클래스"
      ],
      "metadata": {
        "id": "XtL7knNZsknX"
      }
    },
    {
      "cell_type": "code",
      "source": [
        "class BankAccount:\n",
        "  def __init__(self, owner, balance=0):\n",
        "    self.owner = owner\n",
        "    self.balance = balance\n",
        "\n",
        "  # 입금 기능 구현\n",
        "  def deposit(self, amount):\n",
        "    self.balance += amount\n",
        "    return f'{amount}원이 입금되었습니다. 현재 잔액은 {self.balance}원입니다.'\n",
        "\n",
        "  #출금\n",
        "  '''\n",
        "  def withdraw(self, amount):\n",
        "    if self.balance >= amount:\n",
        "      self.balance -= amount\n",
        "      return f'{amount}원이 출금되었습니다. 현재 잔액은 {self.balance}원입니다.'\n",
        "    else :\n",
        "      return '잔액이 부족합니다.'\n",
        "  '''\n",
        "  # 출금 기능 구현\n",
        "  def withdraw(self, amount):\n",
        "      if amount > self.balance:\n",
        "          return '잔액이 부족.'\n",
        "      self.balance -= amount\n",
        "      return f'{amount}원이 출금됨. 현재 잔액: {self.balance}원.'\n",
        "\n",
        "  # 이체 기능 구현\n",
        "  def transfer(self, target_amount, amount):\n",
        "      if amount > self.balance:\n",
        "          return '이체 실패 - 잔액 부족'\n",
        "      self.balance -= amount\n",
        "      target_amount.balance += amount\n",
        "      return (f'{amount}원 {target_amount.owner}님께 이체 완료\\n'\n",
        "              f'내 잔액: {self.balance}원')"
      ],
      "metadata": {
        "id": "CdZNfpiOsm_X"
      },
      "execution_count": null,
      "outputs": []
    },
    {
      "cell_type": "code",
      "source": [
        "a1 = BankAccount('홍길동')\n",
        "print(a1.deposit(10000))"
      ],
      "metadata": {
        "colab": {
          "base_uri": "https://localhost:8080/"
        },
        "id": "i-tov3AutIAF",
        "outputId": "32eb5dc5-24fd-4fb0-cc41-e5e73c22de15"
      },
      "execution_count": null,
      "outputs": [
        {
          "output_type": "stream",
          "name": "stdout",
          "text": [
            "10000원이 입금되었습니다. 현재 잔액은 10000원입니다.\n"
          ]
        }
      ]
    },
    {
      "cell_type": "code",
      "source": [
        "a1.withdraw(3000)"
      ],
      "metadata": {
        "colab": {
          "base_uri": "https://localhost:8080/",
          "height": 36
        },
        "id": "zr2jZ-YdyQMc",
        "outputId": "85690b25-f8a2-4232-a7ad-a20f86d947f3"
      },
      "execution_count": null,
      "outputs": [
        {
          "output_type": "execute_result",
          "data": {
            "text/plain": [
              "'3000원이 출금됨. 현재 잔액: 7000원.'"
            ],
            "application/vnd.google.colaboratory.intrinsic+json": {
              "type": "string"
            }
          },
          "metadata": {},
          "execution_count": 7
        }
      ]
    },
    {
      "cell_type": "code",
      "source": [
        "a2 = BankAccount('이순신')\n",
        "print(a2.deposit(5000))"
      ],
      "metadata": {
        "colab": {
          "base_uri": "https://localhost:8080/"
        },
        "id": "p_tKOGu3yW3R",
        "outputId": "c161aaea-fa8f-4c2d-9016-f32c7daa6a38"
      },
      "execution_count": null,
      "outputs": [
        {
          "output_type": "stream",
          "name": "stdout",
          "text": [
            "5000원이 입금되었습니다. 현재 잔액은 5000원입니다.\n"
          ]
        }
      ]
    },
    {
      "cell_type": "code",
      "source": [
        "a2.withdraw(30000)"
      ],
      "metadata": {
        "colab": {
          "base_uri": "https://localhost:8080/",
          "height": 36
        },
        "id": "o6O7xbLhygsh",
        "outputId": "585d25cf-79ec-453d-c504-ab0f6e1bac62"
      },
      "execution_count": null,
      "outputs": [
        {
          "output_type": "execute_result",
          "data": {
            "text/plain": [
              "'잔액이 부족.'"
            ],
            "application/vnd.google.colaboratory.intrinsic+json": {
              "type": "string"
            }
          },
          "metadata": {},
          "execution_count": 9
        }
      ]
    },
    {
      "cell_type": "code",
      "source": [
        "a1.transfer(a2, 3000)"
      ],
      "metadata": {
        "colab": {
          "base_uri": "https://localhost:8080/",
          "height": 36
        },
        "id": "_SJO6Vdeyj4O",
        "outputId": "c4c1efd5-4d9a-4368-bc7e-08e1a11acbe4"
      },
      "execution_count": null,
      "outputs": [
        {
          "output_type": "execute_result",
          "data": {
            "text/plain": [
              "'3000원 이순신님께 이체 완료\\n내 잔액: 4000원'"
            ],
            "application/vnd.google.colaboratory.intrinsic+json": {
              "type": "string"
            }
          },
          "metadata": {},
          "execution_count": 10
        }
      ]
    },
    {
      "cell_type": "code",
      "source": [
        "# 위의 은행 클래스 init없이 구현\n",
        "class BankAccount:\n",
        "\n",
        "    # 입금 기능 구현\n",
        "    def deposit(self, amount):\n",
        "        self.balance += amount\n",
        "        return f'{amount}원이 입금됨. 현재 잔액: {self.balance}원.'\n",
        "\n",
        "    # 출금 기능 구현\n",
        "    def withdraw(self, amount):\n",
        "        if amount > self.balance:\n",
        "            return '잔액이 부족.'\n",
        "        self.balance -= amount\n",
        "        return f'{amount}원이 출금됨. 현재 잔액: {self.balance}원.'\n",
        "\n",
        "    # 이체 기능 구현\n",
        "    def transfer(self, target_amount, amount):\n",
        "        if amount > self.balance:\n",
        "            return '이체 실패 - 잔액 부족'\n",
        "        self.balance -= amount\n",
        "        target_amount.balance += amount\n",
        "        return (f'{amount}원 {target_amount.owner}님께 이체 완료\\n'\n",
        "                f'내 잔액: {self.balance}원')"
      ],
      "metadata": {
        "id": "qB_nsm74yvfH"
      },
      "execution_count": null,
      "outputs": []
    },
    {
      "cell_type": "code",
      "source": [
        "a1 = BankAccount('홍길동', 10000)\n",
        "print(a1.deposit(10000))"
      ],
      "metadata": {
        "colab": {
          "base_uri": "https://localhost:8080/",
          "height": 167
        },
        "id": "8wRFisimzGMV",
        "outputId": "b077b7a8-4fa0-46e6-a963-8089cd2b878e"
      },
      "execution_count": null,
      "outputs": [
        {
          "output_type": "error",
          "ename": "TypeError",
          "evalue": "BankAccount() takes no arguments",
          "traceback": [
            "\u001b[0;31m---------------------------------------------------------------------------\u001b[0m",
            "\u001b[0;31mTypeError\u001b[0m                                 Traceback (most recent call last)",
            "\u001b[0;32m/tmp/ipython-input-1134893131.py\u001b[0m in \u001b[0;36m<cell line: 0>\u001b[0;34m()\u001b[0m\n\u001b[0;32m----> 1\u001b[0;31m \u001b[0ma1\u001b[0m \u001b[0;34m=\u001b[0m \u001b[0mBankAccount\u001b[0m\u001b[0;34m(\u001b[0m\u001b[0;34m'홍길동'\u001b[0m\u001b[0;34m,\u001b[0m \u001b[0;36m10000\u001b[0m\u001b[0;34m)\u001b[0m\u001b[0;34m\u001b[0m\u001b[0;34m\u001b[0m\u001b[0m\n\u001b[0m\u001b[1;32m      2\u001b[0m \u001b[0mprint\u001b[0m\u001b[0;34m(\u001b[0m\u001b[0ma1\u001b[0m\u001b[0;34m.\u001b[0m\u001b[0mdeposit\u001b[0m\u001b[0;34m(\u001b[0m\u001b[0;36m10000\u001b[0m\u001b[0;34m)\u001b[0m\u001b[0;34m)\u001b[0m\u001b[0;34m\u001b[0m\u001b[0;34m\u001b[0m\u001b[0m\n",
            "\u001b[0;31mTypeError\u001b[0m: BankAccount() takes no arguments"
          ]
        }
      ]
    },
    {
      "cell_type": "code",
      "source": [
        "a1 = BankAccount()\n",
        "a1.owner = \"장보고\"\n",
        "a1.balance = 10000\n",
        "\n",
        "a2 = BankAccount()\n",
        "a2.owner = \"이순신\"\n",
        "a2.balance = 5000"
      ],
      "metadata": {
        "id": "8WN21LeizVO_"
      },
      "execution_count": null,
      "outputs": []
    },
    {
      "cell_type": "code",
      "source": [
        "a1.deposit(3000)"
      ],
      "metadata": {
        "colab": {
          "base_uri": "https://localhost:8080/",
          "height": 36
        },
        "id": "Qjl-4mK3zczm",
        "outputId": "4fdd05de-348e-4f32-e678-ff239c69ebbf"
      },
      "execution_count": null,
      "outputs": [
        {
          "output_type": "execute_result",
          "data": {
            "text/plain": [
              "'3000원이 입금됨. 현재 잔액: 13000원.'"
            ],
            "application/vnd.google.colaboratory.intrinsic+json": {
              "type": "string"
            }
          },
          "metadata": {},
          "execution_count": 14
        }
      ]
    },
    {
      "cell_type": "code",
      "source": [
        "# 실습문제1 상품 클래스 구현하기 문제\n",
        "class Product:\n",
        "    def __init__(self, name, price, stock=0):\n",
        "        #### 여기에 구현 ####\n",
        "        self.name = name\n",
        "        self.price = price\n",
        "        self.stock = stock\n",
        "\n",
        "    def restock(self, amount):\n",
        "        #### 재고 추가 구현 ####\n",
        "        self.stock += amount\n",
        "        return f'{self.name}의 재고가 {amount}개 추가되었습니다. 현재 재고: {self.stock}개'\n",
        "\n",
        "    def info(self):\n",
        "        #### 상품 설명 구현 ####\n",
        "        return f'{self.name} - {self.price}원 - 재고: {self.stock}'\n",
        "\n",
        "    def sell(self, quantity):\n",
        "        #### 판매 정보 구현 ####\n",
        "        if quantity > self.stock:\n",
        "            return '재고가 부족합니다.'\n",
        "        self.stock -= quantity\n",
        "        return f'{self.name}이 {quantity}개 판매되었습니다.'"
      ],
      "metadata": {
        "id": "_VzsB4UC00f8"
      },
      "execution_count": null,
      "outputs": []
    },
    {
      "cell_type": "code",
      "source": [
        "p1=Product('책', 10000)\n",
        "print(p1.restock(1))\n",
        "print(p1.sell(2))\n",
        "print(p1.info())"
      ],
      "metadata": {
        "colab": {
          "base_uri": "https://localhost:8080/"
        },
        "id": "n8L_ReD01nPx",
        "outputId": "c1b5c5c8-095e-443a-e833-d7f337947ac8"
      },
      "execution_count": null,
      "outputs": [
        {
          "output_type": "stream",
          "name": "stdout",
          "text": [
            "책의 재고가 1개 추가되었습니다. 현재 재고: 1개\n",
            "재고가 부족합니다.\n",
            "책 - 10000원 - 재고: 1\n"
          ]
        }
      ]
    },
    {
      "cell_type": "code",
      "source": [
        "x=Product('사과', 800)\n",
        "y=Product('qksksk', 2000)"
      ],
      "metadata": {
        "id": "LQaY50p-2uMW"
      },
      "execution_count": null,
      "outputs": []
    },
    {
      "cell_type": "code",
      "source": [
        "y.restock(20)"
      ],
      "metadata": {
        "colab": {
          "base_uri": "https://localhost:8080/",
          "height": 36
        },
        "id": "fRn3tZ2_24co",
        "outputId": "f1b094fa-5b50-4c6c-f552-72fd9ba8dc56"
      },
      "execution_count": null,
      "outputs": [
        {
          "output_type": "execute_result",
          "data": {
            "text/plain": [
              "'qksksk의 재고가 20개 추가되었습니다. 현재 재고: 20개'"
            ],
            "application/vnd.google.colaboratory.intrinsic+json": {
              "type": "string"
            }
          },
          "metadata": {},
          "execution_count": 18
        }
      ]
    },
    {
      "cell_type": "code",
      "source": [
        "# 실습2 문제 - 인스턴스 변수 초기화 예외 처리\n",
        "class Person:\n",
        "    def __init__(self, name, age, email=None):\n",
        "        # age는 0~120 사이\n",
        "        ####### 여기에 메소드를 정의하세요 #######\n",
        "        if not (0 <= age <= 120):\n",
        "            raise ValueError(\"나이는 0에서 120 사이의 값이어야 합니다.\")\n",
        "\n",
        "        self.age = age\n",
        "        self.name = name\n",
        "        self.email = email or 'unkonwn@email.com'\n",
        "\n",
        "    def greet(self):\n",
        "        print(f\"{self.name} ({self.age}세) - {self.email} 님, 안녕하세요!\")"
      ],
      "metadata": {
        "id": "pUk4tA2k5nxY"
      },
      "execution_count": null,
      "outputs": []
    },
    {
      "cell_type": "code",
      "source": [
        "p1 = Person('Alice', 1000)"
      ],
      "metadata": {
        "colab": {
          "base_uri": "https://localhost:8080/",
          "height": 279
        },
        "id": "MH6wr2q66TeG",
        "outputId": "65c22c85-2ee1-4a38-897e-7f28dbe46c6e"
      },
      "execution_count": null,
      "outputs": [
        {
          "output_type": "error",
          "ename": "ValueError",
          "evalue": "나이는 0에서 120 사이의 값이어야 합니다.",
          "traceback": [
            "\u001b[0;31m---------------------------------------------------------------------------\u001b[0m",
            "\u001b[0;31mValueError\u001b[0m                                Traceback (most recent call last)",
            "\u001b[0;32m/tmp/ipython-input-3502883969.py\u001b[0m in \u001b[0;36m<cell line: 0>\u001b[0;34m()\u001b[0m\n\u001b[0;32m----> 1\u001b[0;31m \u001b[0mp1\u001b[0m \u001b[0;34m=\u001b[0m \u001b[0mPerson\u001b[0m\u001b[0;34m(\u001b[0m\u001b[0;34m'Alice'\u001b[0m\u001b[0;34m,\u001b[0m \u001b[0;36m1000\u001b[0m\u001b[0;34m)\u001b[0m\u001b[0;34m\u001b[0m\u001b[0;34m\u001b[0m\u001b[0m\n\u001b[0m",
            "\u001b[0;32m/tmp/ipython-input-1411994253.py\u001b[0m in \u001b[0;36m__init__\u001b[0;34m(self, name, age, email)\u001b[0m\n\u001b[1;32m      5\u001b[0m         \u001b[0;31m####### 여기에 메소드를 정의하세요 #######\u001b[0m\u001b[0;34m\u001b[0m\u001b[0;34m\u001b[0m\u001b[0m\n\u001b[1;32m      6\u001b[0m         \u001b[0;32mif\u001b[0m \u001b[0;32mnot\u001b[0m \u001b[0;34m(\u001b[0m\u001b[0;36m0\u001b[0m \u001b[0;34m<=\u001b[0m \u001b[0mage\u001b[0m \u001b[0;34m<=\u001b[0m \u001b[0;36m120\u001b[0m\u001b[0;34m)\u001b[0m\u001b[0;34m:\u001b[0m\u001b[0;34m\u001b[0m\u001b[0;34m\u001b[0m\u001b[0m\n\u001b[0;32m----> 7\u001b[0;31m             \u001b[0;32mraise\u001b[0m \u001b[0mValueError\u001b[0m\u001b[0;34m(\u001b[0m\u001b[0;34m\"나이는 0에서 120 사이의 값이어야 합니다.\"\u001b[0m\u001b[0;34m)\u001b[0m\u001b[0;34m\u001b[0m\u001b[0;34m\u001b[0m\u001b[0m\n\u001b[0m\u001b[1;32m      8\u001b[0m \u001b[0;34m\u001b[0m\u001b[0m\n\u001b[1;32m      9\u001b[0m         \u001b[0mself\u001b[0m\u001b[0;34m.\u001b[0m\u001b[0mage\u001b[0m \u001b[0;34m=\u001b[0m \u001b[0mage\u001b[0m\u001b[0;34m\u001b[0m\u001b[0;34m\u001b[0m\u001b[0m\n",
            "\u001b[0;31mValueError\u001b[0m: 나이는 0에서 120 사이의 값이어야 합니다."
          ]
        }
      ]
    },
    {
      "cell_type": "code",
      "source": [
        "p2 = Person('Bob',50)"
      ],
      "metadata": {
        "id": "xPV61Jlg6YdC"
      },
      "execution_count": null,
      "outputs": []
    },
    {
      "cell_type": "code",
      "source": [
        "p2.greet()"
      ],
      "metadata": {
        "colab": {
          "base_uri": "https://localhost:8080/"
        },
        "id": "wRUIEakk6gsj",
        "outputId": "8b55c048-f273-4c35-e91b-f345304ef96a"
      },
      "execution_count": null,
      "outputs": [
        {
          "output_type": "stream",
          "name": "stdout",
          "text": [
            "Bob (50세) - unkonwn@email.com 님, 안녕하세요!\n"
          ]
        }
      ]
    }
  ]
}