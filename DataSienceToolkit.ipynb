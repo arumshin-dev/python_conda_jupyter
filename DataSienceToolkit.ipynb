{
 "cells": [
  {
   "cell_type": "markdown",
   "id": "bf146f18-712c-410a-8af6-eef5bbae1d6b",
   "metadata": {},
   "source": [
    "주피터 노트북이 현재 어떤 환경에서 실행되고 있는지 확인하는 방법\n",
    "주피터 노트북을 폴더에서 바로 실행하면, 어떤 가상환경(예: conda 환경, base 등)에서 실행 중인지 헷갈릴 수 있습니다. 아래 방법으로 현재 노트북이 사용하는 환경을 쉽게 확인할 수 있습니다."
   ]
  },
  {
   "cell_type": "code",
   "execution_count": 1,
   "id": "c0d4fcea-fdcd-4e59-930a-d03ce3587c20",
   "metadata": {},
   "outputs": [
    {
     "name": "stdout",
     "output_type": "stream",
     "text": [
      "C:\\Users\\82109\\miniconda3\\python.exe\n"
     ]
    }
   ],
   "source": [
    "#환경 확인\n",
    "import sys\n",
    "print(sys.executable)\n"
   ]
  },
  {
   "cell_type": "markdown",
   "id": "2b60b4b9-8787-48fd-babe-fdfdbdadab1b",
   "metadata": {},
   "source": [
    "환경 이름만 간단히 확인"
   ]
  },
  {
   "cell_type": "code",
   "execution_count": 2,
   "id": "9d38a8e9-74e8-4161-877a-a55570a7d9a0",
   "metadata": {},
   "outputs": [
    {
     "name": "stdout",
     "output_type": "stream",
     "text": [
      "base\n"
     ]
    }
   ],
   "source": [
    "import os\n",
    "print(os.environ.get('CONDA_DEFAULT_ENV'))"
   ]
  },
  {
   "cell_type": "code",
   "execution_count": 3,
   "id": "3736c128-5ed1-45a9-9941-745d11520f7c",
   "metadata": {},
   "outputs": [
    {
     "name": "stdout",
     "output_type": "stream",
     "text": [
      "2.3.1\n"
     ]
    }
   ],
   "source": [
    "import numpy as np\n",
    "print(np.__version__)"
   ]
  },
  {
   "cell_type": "code",
   "execution_count": 4,
   "id": "0c8f29f0-0730-4058-b5ca-097d2424a28c",
   "metadata": {},
   "outputs": [
    {
     "data": {
      "text/plain": [
       "array([1, 3, 5, 6, 7, 9])"
      ]
     },
     "execution_count": 4,
     "metadata": {},
     "output_type": "execute_result"
    }
   ],
   "source": [
    "# 1. 1차원 배열 생성\n",
    "array1 = np.array([1,3,5,6,7,9])   # [1, 3, 5, 6, 7, 9]로 구성된 1차원 배열 생성\n",
    "array1                             # 배열 내용 출력"
   ]
  },
  {
   "cell_type": "code",
   "execution_count": 5,
   "id": "11a04959-91d4-4a0a-814d-1eea3324923c",
   "metadata": {},
   "outputs": [
    {
     "data": {
      "text/plain": [
       "array([0., 0., 0., 0., 0.])"
      ]
     },
     "execution_count": 5,
     "metadata": {},
     "output_type": "execute_result"
    }
   ],
   "source": [
    "# 2. 0으로 채워진 배열 생성\n",
    "np.zeros(5)                        # 0으로 채워진 길이 5짜리 1차원 배열 생성"
   ]
  },
  {
   "cell_type": "code",
   "execution_count": 6,
   "id": "eadfcfdd-cdf8-413d-a737-1782d7c72841",
   "metadata": {},
   "outputs": [
    {
     "data": {
      "text/plain": [
       "array([0, 1, 2, 3, 4, 5, 6, 7, 8, 9])"
      ]
     },
     "execution_count": 6,
     "metadata": {},
     "output_type": "execute_result"
    }
   ],
   "source": [
    "# 3. 연속된 정수 배열 생성\n",
    "np.arange(10)                      # 0부터 9까지의 정수로 이루어진 1차원 배열 생성 (10은 포함하지 않음)"
   ]
  },
  {
   "cell_type": "code",
   "execution_count": 7,
   "id": "c7a03155-971f-4b1c-84cd-882e1e34c2c4",
   "metadata": {},
   "outputs": [
    {
     "data": {
      "text/plain": [
       "array([2, 3, 4, 5, 6, 7, 8, 9])"
      ]
     },
     "execution_count": 7,
     "metadata": {},
     "output_type": "execute_result"
    }
   ],
   "source": [
    "np.arange(2,10)                    # 2부터 9까지의 정수로 이루어진 1차원 배열 생성 (10은 포함하지 않음)"
   ]
  },
  {
   "cell_type": "code",
   "execution_count": 8,
   "id": "4f3d5c97-8539-4aab-9d10-bb3b8a65d6e0",
   "metadata": {},
   "outputs": [
    {
     "data": {
      "text/plain": [
       "array([ 4,  7, 10, 13, 16])"
      ]
     },
     "execution_count": 8,
     "metadata": {},
     "output_type": "execute_result"
    }
   ],
   "source": [
    "np.arange(4,17,3)                  # 4부터 16까지 3씩 증가하는 값들로 이루어진 배열 생성 (17은 포함하지 않음)"
   ]
  },
  {
   "cell_type": "code",
   "execution_count": 9,
   "id": "4a01547c-00cb-43f8-b8f8-14f3f2e9644e",
   "metadata": {},
   "outputs": [
    {
     "data": {
      "text/plain": [
       "numpy.ndarray"
      ]
     },
     "execution_count": 9,
     "metadata": {},
     "output_type": "execute_result"
    }
   ],
   "source": [
    "# 4. 배열의 타입 확인\n",
    "type(array1)                       # array1의 자료형(타입) 확인, 보통 <class 'numpy.ndarray'>로 출력됨"
   ]
  },
  {
   "cell_type": "code",
   "execution_count": 10,
   "id": "5123af35-bee4-480b-97f5-ab717bba78cc",
   "metadata": {},
   "outputs": [
    {
     "data": {
      "text/plain": [
       "array([[ 1,  2,  3,  4],\n",
       "       [ 5,  6,  7,  8],\n",
       "       [ 9, 10, 11, 12]])"
      ]
     },
     "execution_count": 10,
     "metadata": {},
     "output_type": "execute_result"
    }
   ],
   "source": [
    "# 5. 2차원 배열 생성\n",
    "array2 = np.array([\n",
    "    [1,2,3,4],\n",
    "    [5,6,7,8],\n",
    "    [9,10,11,12]\n",
    "])                                 # 3행 4열의 2차원 배열 생성\n",
    "array2                             # 배열 내용 출력"
   ]
  },
  {
   "cell_type": "code",
   "execution_count": 11,
   "id": "822b6950-7dd4-44ac-8d68-c020537c4d2c",
   "metadata": {},
   "outputs": [
    {
     "data": {
      "text/plain": [
       "numpy.ndarray"
      ]
     },
     "execution_count": 11,
     "metadata": {},
     "output_type": "execute_result"
    }
   ],
   "source": [
    "# 6. 2차원 배열의 타입 확인\n",
    "type(array2)                       # array2의 자료형(타입) 확인, <class 'numpy.ndarray'>"
   ]
  },
  {
   "cell_type": "code",
   "execution_count": 12,
   "id": "f879bc3c-2870-4a72-9dd7-7ec588c7e324",
   "metadata": {},
   "outputs": [
    {
     "data": {
      "text/plain": [
       "6"
      ]
     },
     "execution_count": 12,
     "metadata": {},
     "output_type": "execute_result"
    }
   ],
   "source": [
    "# 7. 배열의 원소 개수 및 형태 확인\n",
    "array1.size                        # array1의 전체 원소 개수 (6)"
   ]
  },
  {
   "cell_type": "code",
   "execution_count": 13,
   "id": "a2da8092-0072-45e8-9f4b-78390ae4d59a",
   "metadata": {},
   "outputs": [
    {
     "data": {
      "text/plain": [
       "(6,)"
      ]
     },
     "execution_count": 13,
     "metadata": {},
     "output_type": "execute_result"
    }
   ],
   "source": [
    "array1.shape                       # array1의 배열 형태(차원), (6,) → 1차원에 6개 원소"
   ]
  },
  {
   "cell_type": "code",
   "execution_count": 14,
   "id": "2ea502f2-e7e6-420a-a64f-0a01a4259148",
   "metadata": {},
   "outputs": [
    {
     "data": {
      "text/plain": [
       "12"
      ]
     },
     "execution_count": 14,
     "metadata": {},
     "output_type": "execute_result"
    }
   ],
   "source": [
    "array2.size                        # array2의 전체 원소 개수 (12)"
   ]
  },
  {
   "cell_type": "code",
   "execution_count": 15,
   "id": "aec9b211-5d45-44f7-8fca-d54fb4906594",
   "metadata": {},
   "outputs": [
    {
     "data": {
      "text/plain": [
       "(3, 4)"
      ]
     },
     "execution_count": 15,
     "metadata": {},
     "output_type": "execute_result"
    }
   ],
   "source": [
    "array2.shape                       # array2의 배열 형태(차원), (3, 4) → 3행 4열"
   ]
  },
  {
   "cell_type": "code",
   "execution_count": 16,
   "id": "6d8c56c1-b632-45e5-a87e-136508c2338d",
   "metadata": {},
   "outputs": [
    {
     "data": {
      "text/plain": [
       "array([ 6610,  7637,  8127,  8885, 10385, 12565, 13403, 12398,  8282,\n",
       "       10672])"
      ]
     },
     "execution_count": 16,
     "metadata": {},
     "output_type": "execute_result"
    }
   ],
   "source": [
    "# 1. GDP 데이터로 1차원 넘파이 배열 생성\n",
    "gdp_array = np.array([6610, 7637, 8127, 8885, 10385, 12565, 13403, 12398, 8282, 10672])\n",
    "gdp_array  # 배열 전체 출력"
   ]
  },
  {
   "cell_type": "code",
   "execution_count": 17,
   "id": "8edaa224-0fd7-407f-a0ff-83883c184947",
   "metadata": {},
   "outputs": [
    {
     "data": {
      "text/plain": [
       "np.int64(10672)"
      ]
     },
     "execution_count": 17,
     "metadata": {},
     "output_type": "execute_result"
    }
   ],
   "source": [
    "# 2. 배열의 마지막 원소 조회 (음수 인덱스 사용) \n",
    "#  0 1 2 3 4 5 6 7 8 9\n",
    "#-10-9-8-7-6-5-4-3-2-1\n",
    "gdp_array[-1]  # 10672 (마지막 연도의 GDP)"
   ]
  },
  {
   "cell_type": "code",
   "execution_count": 18,
   "id": "65d28033-bddc-4f75-a81c-2d5b99838f06",
   "metadata": {},
   "outputs": [
    {
     "data": {
      "text/plain": [
       "array([ 7637,  8885, 10385])"
      ]
     },
     "execution_count": 18,
     "metadata": {},
     "output_type": "execute_result"
    }
   ],
   "source": [
    "# 3. 배열에서 여러 개의 특정 위치 값만 추출 (Fancy Indexing)\n",
    "gdp_array[[1, 3, 4]]  # [7637, 8885, 10385] (2번째, 4번째, 5번째 값)"
   ]
  },
  {
   "cell_type": "code",
   "execution_count": 19,
   "id": "e7adf15d-8234-4d37-85d3-437dc98d51b0",
   "metadata": {},
   "outputs": [
    {
     "data": {
      "text/plain": [
       "array([ 8127,  7637,  8885, 12565])"
      ]
     },
     "execution_count": 19,
     "metadata": {},
     "output_type": "execute_result"
    }
   ],
   "source": [
    "# 4. 다른 배열을 인덱스로 사용해 값 추출\n",
    "arr1 = np.array([2, 1, 3, 5])\n",
    "gdp_array[arr1]  # [8127, 7637, 8885, 12565] (arr1이 지정한 위치의 값들)"
   ]
  },
  {
   "cell_type": "code",
   "execution_count": 20,
   "id": "83135a86-ace1-4ac8-936d-bbd3787171f9",
   "metadata": {},
   "outputs": [
    {
     "data": {
      "text/plain": [
       "array([8127, 8885])"
      ]
     },
     "execution_count": 20,
     "metadata": {},
     "output_type": "execute_result"
    }
   ],
   "source": [
    "# 5. 슬라이싱: 2번째부터 3번째까지 (인덱스 2~3)\n",
    "gdp_array[2:4]  # [8127, 8885] (3번째, 4번째 값)"
   ]
  },
  {
   "cell_type": "code",
   "execution_count": 21,
   "id": "b1776581-4977-4f51-978a-a254b267655a",
   "metadata": {},
   "outputs": [
    {
     "data": {
      "text/plain": [
       "array([6610, 7637, 8127])"
      ]
     },
     "execution_count": 21,
     "metadata": {},
     "output_type": "execute_result"
    }
   ],
   "source": [
    "# 6. 슬라이싱: 처음부터 2번째까지 (인덱스 0~2)\n",
    "gdp_array[:3]  # [6610, 7637, 8127] (처음 3개 값)"
   ]
  },
  {
   "cell_type": "code",
   "execution_count": 22,
   "id": "ced21b18-8013-4bdb-a199-cf4448930dff",
   "metadata": {},
   "outputs": [
    {
     "data": {
      "text/plain": [
       "array([12398,  8282, 10672])"
      ]
     },
     "execution_count": 22,
     "metadata": {},
     "output_type": "execute_result"
    }
   ],
   "source": [
    "# 7. 슬라이싱: 8번째부터 끝까지 (인덱스 7~끝)\n",
    "gdp_array[7:]  # [12398, 8282, 10672] (마지막 3개 값)"
   ]
  },
  {
   "cell_type": "code",
   "execution_count": 23,
   "id": "43ca5c3a-4ff7-4da1-bf63-34364a96d4d2",
   "metadata": {
    "scrolled": true
   },
   "outputs": [
    {
     "data": {
      "text/plain": [
       "array([ 7637, 10385, 12398])"
      ]
     },
     "execution_count": 23,
     "metadata": {},
     "output_type": "execute_result"
    }
   ],
   "source": [
    "# 8. 슬라이싱: 2번째부터 8번째까지, 3칸씩 건너뛰며 추출 (인덱스 1, 4, 7)\n",
    "gdp_array[1:8:3]  # [7637, 10385, 12398]"
   ]
  },
  {
   "cell_type": "code",
   "execution_count": 24,
   "id": "dada1284-caf0-4a44-ba65-0c2fefcb42c6",
   "metadata": {
    "scrolled": true
   },
   "outputs": [],
   "source": [
    "# 4개 국가(대한민국, 일본, 중국, 미국)의 연도별 GDP 데이터로 2차원 배열 생성\n",
    "gdp_array2 = np.array([\n",
    "    [12257, 11561, 13165, 14673, 16496, 19403],  # 대한민국\n",
    "    [39169, 34406, 32821, 35387, 38299, 37813],  # 일본\n",
    "    [959, 1053, 1149, 1289, 1509, 1753],         # 중국\n",
    "    [36335, 37133, 38023, 39496, 41713, 44115]   # 미국\n",
    "])"
   ]
  },
  {
   "cell_type": "code",
   "execution_count": 25,
   "id": "e749aeb3-1b1c-4ce5-9aac-3d9f245478cb",
   "metadata": {
    "scrolled": true
   },
   "outputs": [
    {
     "data": {
      "text/plain": [
       "array([[12257, 11561, 13165, 14673, 16496, 19403],\n",
       "       [39169, 34406, 32821, 35387, 38299, 37813],\n",
       "       [  959,  1053,  1149,  1289,  1509,  1753],\n",
       "       [36335, 37133, 38023, 39496, 41713, 44115]])"
      ]
     },
     "execution_count": 25,
     "metadata": {},
     "output_type": "execute_result"
    }
   ],
   "source": [
    "gdp_array2  # 전체 2차원 배열 출력 (4개 국가 x 6개 연도)"
   ]
  },
  {
   "cell_type": "code",
   "execution_count": 26,
   "id": "ec4c0fdc-7fc6-4a9c-852e-1ef7235cb868",
   "metadata": {
    "scrolled": true
   },
   "outputs": [
    {
     "data": {
      "text/plain": [
       "array([39169, 34406, 32821, 35387, 38299, 37813])"
      ]
     },
     "execution_count": 26,
     "metadata": {},
     "output_type": "execute_result"
    }
   ],
   "source": [
    "gdp_array2[1]        # 일본의 모든 연도별 GDP (2번째 행 전체 추출)"
   ]
  },
  {
   "cell_type": "code",
   "execution_count": 27,
   "id": "a89f7ac0-1f50-48b8-aa13-1a93a508daa7",
   "metadata": {
    "scrolled": true
   },
   "outputs": [
    {
     "data": {
      "text/plain": [
       "np.int64(35387)"
      ]
     },
     "execution_count": 27,
     "metadata": {},
     "output_type": "execute_result"
    }
   ],
   "source": [
    "gdp_array2[1][3]     # 일본의 4번째 연도 GDP (2번째 행, 4번째 열 값: 35387)"
   ]
  },
  {
   "cell_type": "code",
   "execution_count": 28,
   "id": "d0d4a37e-40f0-43c2-b228-e95721d3157b",
   "metadata": {
    "scrolled": true
   },
   "outputs": [
    {
     "data": {
      "text/plain": [
       "array([[32821, 35387, 38299],\n",
       "       [ 1149,  1289,  1509]])"
      ]
     },
     "execution_count": 28,
     "metadata": {},
     "output_type": "execute_result"
    }
   ],
   "source": [
    "gdp_array2[1:3,2:5]  # 일본, 중국(2~3번째 행)의 3~5번째 연도 GDP (열 index 2~4)"
   ]
  },
  {
   "cell_type": "code",
   "execution_count": 29,
   "id": "fd831327-18ed-4257-a6b3-2e9de42ca5ec",
   "metadata": {
    "scrolled": true
   },
   "outputs": [
    {
     "data": {
      "text/plain": [
       "array([[32821, 35387, 38299, 37813],\n",
       "       [ 1149,  1289,  1509,  1753]])"
      ]
     },
     "execution_count": 29,
     "metadata": {},
     "output_type": "execute_result"
    }
   ],
   "source": [
    "gdp_array2[1:3,2:]   # 일본, 중국의 3번째 연도부터 마지막까지 GDP (열 index 2~끝)"
   ]
  },
  {
   "cell_type": "code",
   "execution_count": 30,
   "id": "400c0d6c-d2be-4e61-996a-3a155f8dd54a",
   "metadata": {
    "scrolled": true
   },
   "outputs": [
    {
     "data": {
      "text/plain": [
       "array([[13165, 14673, 16496],\n",
       "       [32821, 35387, 38299],\n",
       "       [ 1149,  1289,  1509]])"
      ]
     },
     "execution_count": 30,
     "metadata": {},
     "output_type": "execute_result"
    }
   ],
   "source": [
    "gdp_array2[:3, 2:5]  # 대한민국, 일본, 중국(0~2번째 행)의 3~5번째 연도 GDP"
   ]
  },
  {
   "cell_type": "code",
   "execution_count": 31,
   "id": "9ce7ef83-6fd3-412c-b214-de64a02263b5",
   "metadata": {
    "scrolled": true
   },
   "outputs": [
    {
     "data": {
      "text/plain": [
       "array([[13165, 14673, 16496],\n",
       "       [32821, 35387, 38299],\n",
       "       [ 1149,  1289,  1509],\n",
       "       [38023, 39496, 41713]])"
      ]
     },
     "execution_count": 31,
     "metadata": {},
     "output_type": "execute_result"
    }
   ],
   "source": [
    "gdp_array2[:,2:5]    # 모든 국가의 3~5번째 연도 GDP (열 index 2~4)"
   ]
  },
  {
   "cell_type": "code",
   "execution_count": 32,
   "id": "aeaafa68-2d2b-47a3-9f4f-7b21d2115692",
   "metadata": {
    "scrolled": true
   },
   "outputs": [
    {
     "data": {
      "text/plain": [
       "array([[39169, 34406, 32821, 35387, 38299, 37813],\n",
       "       [  959,  1053,  1149,  1289,  1509,  1753]])"
      ]
     },
     "execution_count": 32,
     "metadata": {},
     "output_type": "execute_result"
    }
   ],
   "source": [
    "gdp_array2[1:3,:]    # 일본, 중국(1~2번째 행)의 모든 연도 GDP (전체 열)"
   ]
  },
  {
   "cell_type": "code",
   "execution_count": 33,
   "id": "f068c10b-bbd4-4282-aa49-9ca07f6ce64b",
   "metadata": {},
   "outputs": [
    {
     "data": {
      "text/plain": [
       "array([False, False, False, False,  True,  True,  True,  True, False,\n",
       "        True])"
      ]
     },
     "execution_count": 33,
     "metadata": {},
     "output_type": "execute_result"
    }
   ],
   "source": [
    "# 1. 각 값이 10000보다 큰지 비교 (Boolean 배열 생성)\n",
    "gdp_array > 10000              # [False False False False  True  True  True  True False  True]"
   ]
  },
  {
   "cell_type": "code",
   "execution_count": 34,
   "id": "38ea6998-29c8-4b34-9d1c-6889ce316cb8",
   "metadata": {},
   "outputs": [],
   "source": [
    "# 2. 10000보다 큰 값만 골라내는 마스크(조건) 생성\n",
    "mask = gdp_array > 10000       # mask: [False False False False  True  True  True  True False  True]"
   ]
  },
  {
   "cell_type": "code",
   "execution_count": 35,
   "id": "50665c14-3331-45a4-adb5-93499a53e7be",
   "metadata": {},
   "outputs": [
    {
     "data": {
      "text/plain": [
       "array([10385, 12565, 13403, 12398, 10672])"
      ]
     },
     "execution_count": 35,
     "metadata": {},
     "output_type": "execute_result"
    }
   ],
   "source": [
    "# 3. 마스크를 사용해 10000 초과 값만 추출 (Boolean 인덱싱)\n",
    "gdp_array[mask]                # [10385 12565 13403 12398 10672]"
   ]
  },
  {
   "cell_type": "code",
   "execution_count": 36,
   "id": "99eaf893-1872-4d08-8a8f-a3cc5e43cd4e",
   "metadata": {},
   "outputs": [
    {
     "data": {
      "text/plain": [
       "array([10385, 12565, 13403, 12398, 10672])"
      ]
     },
     "execution_count": 36,
     "metadata": {},
     "output_type": "execute_result"
    }
   ],
   "source": [
    "# 4. 조건식을 바로 인덱싱에 사용해도 동일 (inline Boolean 인덱싱)\n",
    "gdp_array[gdp_array > 10000]   # [10385 12565 13403 12398 10672]"
   ]
  },
  {
   "cell_type": "code",
   "execution_count": 37,
   "id": "9b398529-2d9c-4103-9ab1-6a92e4577e5e",
   "metadata": {},
   "outputs": [
    {
     "data": {
      "text/plain": [
       "array([False, False, False, False,  True,  True,  True,  True, False,\n",
       "        True])"
      ]
     },
     "execution_count": 37,
     "metadata": {},
     "output_type": "execute_result"
    }
   ],
   "source": [
    "# 5. 각 값이 10000보다 큰지 Boolean 배열로 확인\n",
    "gdp_array > 10000              # [False False False False  True  True  True  True False  True]"
   ]
  },
  {
   "cell_type": "code",
   "execution_count": 38,
   "id": "35a370c1-9911-455a-bc8b-5b8e4ac2cdfe",
   "metadata": {},
   "outputs": [
    {
     "data": {
      "text/plain": [
       "array([ True,  True, False, False, False, False, False, False, False,\n",
       "       False])"
      ]
     },
     "execution_count": 38,
     "metadata": {},
     "output_type": "execute_result"
    }
   ],
   "source": [
    "# 6. 각 값이 8000보다 작은지 Boolean 배열로 확인\n",
    "gdp_array < 8000               # [ True  True False False False False False False  True False]"
   ]
  },
  {
   "cell_type": "code",
   "execution_count": 39,
   "id": "865a1a36-9daf-4fec-b1bf-f7d331403cf7",
   "metadata": {},
   "outputs": [
    {
     "data": {
      "text/plain": [
       "array([ True,  True, False, False,  True,  True,  True,  True, False,\n",
       "        True])"
      ]
     },
     "execution_count": 39,
     "metadata": {},
     "output_type": "execute_result"
    }
   ],
   "source": [
    "# 7. 10000 초과 또는 8000 미만인 값 찾기 (조건 결합: OR)\n",
    "(gdp_array > 10000) | (gdp_array < 8000)  # [ True  True False False  True  True  True  True  True  True]"
   ]
  },
  {
   "cell_type": "code",
   "execution_count": 40,
   "id": "01a7f87e-5525-4020-9b78-5544c5e7786a",
   "metadata": {},
   "outputs": [
    {
     "data": {
      "text/plain": [
       "array([ 6610,  7637, 10385, 12565, 13403, 12398, 10672])"
      ]
     },
     "execution_count": 40,
     "metadata": {},
     "output_type": "execute_result"
    }
   ],
   "source": [
    "# 8. 위 조건을 만족하는 값들만 추출\n",
    "gdp_array[(gdp_array > 10000) | (gdp_array < 8000)]  # [ 6610  7637 10385 12565 13403 12398  8282 10672]"
   ]
  },
  {
   "cell_type": "code",
   "execution_count": 41,
   "id": "bdd8f1d3-631f-4555-a90e-bf65db5dc2b3",
   "metadata": {},
   "outputs": [
    {
     "data": {
      "text/plain": [
       "array([8127, 8885, 8282])"
      ]
     },
     "execution_count": 41,
     "metadata": {},
     "output_type": "execute_result"
    }
   ],
   "source": [
    "# 9. 8000 이상 10000 이하인 값만 추출 (조건 결합: AND)\n",
    "gdp_array[(gdp_array <= 10000) & (gdp_array >= 8000)]  # [8127 8885]"
   ]
  },
  {
   "cell_type": "code",
   "execution_count": 42,
   "id": "9af1aa1f-a014-4998-a3fb-e3d05acebe06",
   "metadata": {
    "scrolled": true
   },
   "outputs": [
    {
     "data": {
      "text/plain": [
       "array([12257, 11561, 13165, 14673, 16496, 19403])"
      ]
     },
     "execution_count": 42,
     "metadata": {},
     "output_type": "execute_result"
    }
   ],
   "source": [
    "# 대한민국의 연도별 GDP 데이터만 추출 (1차원 배열)\n",
    "gdp_korea_array = gdp_array2[0]\n",
    "gdp_korea_array  # [12257, 11561, 13165, 14673, 16496, 19403]"
   ]
  },
  {
   "cell_type": "code",
   "execution_count": 43,
   "id": "5dfaa3e5-b045-49e1-b2f5-a60387beb936",
   "metadata": {
    "scrolled": true
   },
   "outputs": [
    {
     "data": {
      "text/plain": [
       "np.float64(14592.5)"
      ]
     },
     "execution_count": 43,
     "metadata": {},
     "output_type": "execute_result"
    }
   ],
   "source": [
    "# 대한민국 GDP의 평균값 계산\n",
    "gdp_korea_array.mean()  # 배열의 평균 (평균 GDP)"
   ]
  },
  {
   "cell_type": "code",
   "execution_count": 44,
   "id": "9464ac17-fece-4588-b8f9-cc97acf189a5",
   "metadata": {
    "scrolled": true
   },
   "outputs": [
    {
     "data": {
      "text/plain": [
       "np.int64(87555)"
      ]
     },
     "execution_count": 44,
     "metadata": {},
     "output_type": "execute_result"
    }
   ],
   "source": [
    "# 대한민국 GDP의 총합 계산\n",
    "gdp_korea_array.sum()   # 배열의 합계 (전체 기간 GDP 합)"
   ]
  },
  {
   "cell_type": "code",
   "execution_count": 45,
   "id": "a057e39c-be99-43b1-bc6f-8fe52b6e922b",
   "metadata": {
    "scrolled": true
   },
   "outputs": [
    {
     "data": {
      "text/plain": [
       "np.int64(11561)"
      ]
     },
     "execution_count": 45,
     "metadata": {},
     "output_type": "execute_result"
    }
   ],
   "source": [
    "# 대한민국 GDP 중 최소값 찾기\n",
    "gdp_korea_array.min()   # 배열의 최소값 (가장 낮은 연도 GDP)"
   ]
  },
  {
   "cell_type": "code",
   "execution_count": 46,
   "id": "ac92fdde-e991-4d5e-ac1e-a05da38ba3ff",
   "metadata": {
    "scrolled": true
   },
   "outputs": [
    {
     "data": {
      "text/plain": [
       "np.int64(19403)"
      ]
     },
     "execution_count": 46,
     "metadata": {},
     "output_type": "execute_result"
    }
   ],
   "source": [
    "# 대한민국 GDP 중 최대값 찾기\n",
    "gdp_korea_array.max()   # 배열의 최대값 (가장 높은 연도 GDP)"
   ]
  },
  {
   "cell_type": "code",
   "execution_count": 47,
   "id": "4cb7b12d-dfc6-48ad-9817-72d8930f6834",
   "metadata": {
    "scrolled": true
   },
   "outputs": [
    {
     "data": {
      "text/plain": [
       "array([14708400, 13873200, 15798000, 17607600, 19795200, 23283600])"
      ]
     },
     "execution_count": 47,
     "metadata": {},
     "output_type": "execute_result"
    }
   ],
   "source": [
    "# # for문으로 각 원소에 1200 곱하기 (주석 처리, 아래 벡터 연산으로 대체)\n",
    "# for i in range(len(gdp_korea_array)):\n",
    "#     gdp_korea_array[i] = gdp_korea_array[i] * 1200\n",
    "\n",
    "# 벡터 연산: 배열 전체에 1200 곱하기 (원본은 변하지 않음)\n",
    "gdp_korea_array * 1200  # 모든 연도 GDP를 1200배 (예: 달러→원 환산 등)"
   ]
  },
  {
   "cell_type": "code",
   "execution_count": 48,
   "id": "3e1aea6d-c064-4338-be2a-fe41786f96d3",
   "metadata": {
    "scrolled": true
   },
   "outputs": [
    {
     "data": {
      "text/plain": [
       "array([12257, 11561, 13165, 14673, 16496, 19403])"
      ]
     },
     "execution_count": 48,
     "metadata": {},
     "output_type": "execute_result"
    }
   ],
   "source": [
    "# 원본 배열은 그대로 유지됨\n",
    "gdp_korea_array  # [12257, 11561, 13165, 14673, 16496, 19403]"
   ]
  },
  {
   "cell_type": "code",
   "execution_count": 49,
   "id": "7c94e808-a1fe-4600-8fc5-918e74bd15e2",
   "metadata": {
    "scrolled": true
   },
   "outputs": [
    {
     "data": {
      "text/plain": [
       "array([14708400, 13873200, 15798000, 17607600, 19795200, 23283600])"
      ]
     },
     "execution_count": 49,
     "metadata": {},
     "output_type": "execute_result"
    }
   ],
   "source": [
    "# 배열 전체에 1200 곱한 결과를 다시 변수에 저장 (원본 덮어쓰기)\n",
    "gdp_korea_array = gdp_korea_array * 1200\n",
    "gdp_korea_array  # [14708400, 13873200, 15798000, 17607600, 19795200, 23283600]"
   ]
  },
  {
   "cell_type": "code",
   "execution_count": 50,
   "id": "8ab3769c-4658-4168-bdf5-ca14fac116fe",
   "metadata": {
    "scrolled": true
   },
   "outputs": [
    {
     "data": {
      "text/plain": [
       "array([12257., 11561., 13165., 14673., 16496., 19403.])"
      ]
     },
     "execution_count": 50,
     "metadata": {},
     "output_type": "execute_result"
    }
   ],
   "source": [
    "# 배열 전체를 1200으로 나눠서 다시 원래 값으로 복원\n",
    "gdp_korea_array = gdp_korea_array / 1200\n",
    "gdp_korea_array  # [12257., 11561., 13165., 14673., 16496., 19403.]"
   ]
  },
  {
   "cell_type": "code",
   "execution_count": 51,
   "id": "f0caa43d-fdf1-41e0-bb48-7f72eca988f3",
   "metadata": {
    "scrolled": true
   },
   "outputs": [],
   "source": [
    "# 다시 대한민국 GDP 원본 배열로 복원\n",
    "gdp_korea_array = gdp_array2[0]"
   ]
  },
  {
   "cell_type": "code",
   "execution_count": 52,
   "id": "802a3a47-cba0-429a-a6a1-8cecb8507d03",
   "metadata": {
    "scrolled": true
   },
   "outputs": [],
   "source": [
    "# 미국의 연도별 GDP 데이터 추출\n",
    "gdp_us_array = gdp_array2[3]"
   ]
  },
  {
   "cell_type": "code",
   "execution_count": 53,
   "id": "009623af-e6b4-405c-9f3b-104cf4d9a460",
   "metadata": {
    "scrolled": true
   },
   "outputs": [
    {
     "data": {
      "text/plain": [
       "array([24078, 25572, 24858, 24823, 25217, 24712])"
      ]
     },
     "execution_count": 53,
     "metadata": {},
     "output_type": "execute_result"
    }
   ],
   "source": [
    "# 미국 GDP에서 대한민국 GDP를 뺀 차이 (각 연도별 국가 간 GDP 차이)\n",
    "gdp_us_array - gdp_korea_array  # [24078, 25572, 24858, 24823, 25217, 24712]"
   ]
  },
  {
   "cell_type": "code",
   "execution_count": 54,
   "id": "255f88cd-2774-4378-84e6-379e3df89e78",
   "metadata": {
    "scrolled": true
   },
   "outputs": [
    {
     "data": {
      "text/plain": [
       "array([2.96442849, 3.21191938, 2.88818838, 2.69174675, 2.52867362,\n",
       "       2.27361748])"
      ]
     },
     "execution_count": 54,
     "metadata": {},
     "output_type": "execute_result"
    }
   ],
   "source": [
    "# 미국 GDP를 대한민국 GDP로 나눈 비율 (각 연도별 미국/한국 GDP 배수)\n",
    "gdp_us_array / gdp_korea_array  # [2.965..., 3.214..., 2.889..., 2.694..., 2.529..., 2.273...]"
   ]
  },
  {
   "cell_type": "code",
   "execution_count": 55,
   "id": "9413afcf-d7fe-472e-9da5-ff3b4a90d821",
   "metadata": {},
   "outputs": [
    {
     "data": {
      "text/plain": [
       "array([  2,   4,   6,   8,  10,  12,  14,  16,  18,  20,  22,  24,  26,\n",
       "        28,  30,  32,  34,  36,  38,  40,  42,  44,  46,  48,  50,  52,\n",
       "        54,  56,  58,  60,  62,  64,  66,  68,  70,  72,  74,  76,  78,\n",
       "        80,  82,  84,  86,  88,  90,  92,  94,  96,  98, 100])"
      ]
     },
     "execution_count": 55,
     "metadata": {},
     "output_type": "execute_result"
    }
   ],
   "source": [
    "# 1부터 100까지의 정수로 이루어진 1차원 배열 생성 (100 포함)\n",
    "numbers_array = np.arange(1, 101)\n",
    "\n",
    "# numbers_array에서 2로 나누어 떨어지는(짝수) 값만 추출 (Boolean 인덱싱)\n",
    "numbers_array[numbers_array % 2 == 0]\n",
    "# → numbers_array의 각 원소에 대해 2로 나눈 나머지가 0인 값(짝수)만 골라서 반환\n",
    "# 결과: [  2   4   6 ... 100]"
   ]
  },
  {
   "cell_type": "code",
   "execution_count": 56,
   "id": "0cd2b97a-3c57-4437-ad5b-8bae060153a9",
   "metadata": {},
   "outputs": [
    {
     "name": "stdout",
     "output_type": "stream",
     "text": [
      "2.2.3\n",
      "3.10.0\n"
     ]
    }
   ],
   "source": [
    "import pandas as pd\n",
    "import matplotlib\n",
    "print(pd.__version__)\n",
    "print(matplotlib.__version__)"
   ]
  },
  {
   "cell_type": "code",
   "execution_count": 57,
   "id": "660fd0c4-3fbd-46b0-af7d-eaeb4de51b71",
   "metadata": {},
   "outputs": [
    {
     "data": {
      "image/png": "[encoded data removed]",
      "text/plain": [
       "<Figure size 640x480 with 1 Axes>"
      ]
     },
     "metadata": {},
     "output_type": "display_data"
    }
   ],
   "source": [
    "#matplotlib 데이터 시각화 그래프 그리기\n",
    "import matplotlib.pyplot as plt\n",
    "\n",
    "# 1. 선 그래프 (Line Plot)\n",
    "year_array = np.arange(2011, 2021)  # 2011~2020년까지 연도 배열 생성\n",
    "stock_array = np.array([14.46, 19.01, 20.04, 27.59, 26.32, 28.96, 42.31, 39.44, 73.41, 132.69])  # 연도별 주가 데이터\n",
    "\n",
    "plt.plot(year_array, stock_array)      # x축: 연도, y축: 주가로 선 그래프 그리기\n",
    "plt.show()                             # 그래프 화면에 출력"
   ]
  },
  {
   "cell_type": "code",
   "execution_count": 58,
   "id": "6c6b964b-3c96-4a99-a0ba-7224a2d23871",
   "metadata": {},
   "outputs": [
    {
     "data": {
      "image/png": "[encoded data removed]",
      "text/plain": [
       "<Figure size 640x480 with 1 Axes>"
      ]
     },
     "metadata": {},
     "output_type": "display_data"
    }
   ],
   "source": [
    "# 2. 막대 그래프 (Bar Plot)\n",
    "name_array = np.array(['a', 'b', 'c', 'd', 'e'])      # 이름(범주) 배열\n",
    "votes_array = np.array([5, 10, 6, 8, 3])              # 각 이름별 득표수 배열\n",
    "\n",
    "plt.bar(name_array, votes_array)        # x축: 이름, y축: 득표수로 막대 그래프 그리기\n",
    "plt.show()                              # 그래프 화면에 출력"
   ]
  },
  {
   "cell_type": "code",
   "execution_count": 108,
   "id": "ae545429-9737-4eb2-a4d1-859b7c99c60b",
   "metadata": {},
   "outputs": [
    {
     "data": {
      "image/png": "[encoded data removed]",
      "text/plain": [
       "<Figure size 500x500 with 1 Axes>"
      ]
     },
     "metadata": {},
     "output_type": "display_data"
    }
   ],
   "source": [
    "#import koreanize_matplotlib\n",
    "# 3. 산점도 그래프 (Scatter Plot)\n",
    "height_array = np.array([\n",
    "    165, 164, 155, 151, 157, 162, 155, 157, 165, 162,\n",
    "    165, 167, 167, 183, 180, 184, 177, 178, 175, 181,\n",
    "    172, 173, 169, 172, 177, 178, 185, 186, 190, 187\n",
    "])  # 키 데이터 배열\n",
    "\n",
    "weight_array = np.array([\n",
    "    62, 59, 57, 55, 60, 58, 51, 56, 68, 64,\n",
    "    57, 58, 64, 79, 73, 76, 61, 65, 83, 80,\n",
    "    67, 82, 88, 62, 61, 79, 81, 68, 83, 80\n",
    "])  # 몸무게 데이터 배열\n",
    "\n",
    "plt.scatter(height_array, weight_array, c='#6500C3', marker='+')     # x축: 키, y축: 몸무게로 산점도 그리기, c:색상, \n",
    "#marker:모양옵션('s': 사각형, 'o': 원, '+': 플러스, '*': 별 등)\n",
    "plt.rc('font', family='Malgun Gothic') #네모네모 나옴 # Malgun Gothic\n",
    "#사용 중인 운영체제에서 실제로 설치된 한글 폰트 이름을 확인하고, 그 이름을 정확히 지정해야 합니다.\n",
    "#윈도우: 'Malgun Gothic', 맥: 'AppleGothic', 리눅스: 'NanumGothic' 등이 대표적입니다.\n",
    "# 폰트 설정을 변경한 후에도 matplotlib의 폰트 캐시가 이전 설정을 유지해서 한글이 계속 깨질 수 있습니다.\n",
    "# 해결 방법:\n",
    "# 폰트 캐시 파일을 삭제하고, 파이썬 커널(또는 주피터 노트북)을 완전히 재시작해야 합니다.\n",
    "# 윈도우: del %USERPROFILE%\\.matplotlib\\fontlist*\n",
    "# 맥/리눅스: rm ~/.matplotlib/fontlist*\n",
    "plt.xlabel('키 (cm)')                   # x축 레이블\n",
    "plt.ylabel('몸무게 (kg)')                   # y축 레이블\n",
    "plt.title('키와 몸무게')               # 그래프 제목\n",
    "plt.show()                                  # 그래프 화면에 출력"
   ]
  },
  {
   "cell_type": "code",
   "execution_count": 60,
   "id": "1e7d09d8-bd1d-4626-ad8e-8f8ff8ff5531",
   "metadata": {},
   "outputs": [
    {
     "data": {
      "image/png": "[encoded data removed]",
      "text/plain": [
       "<Figure size 500x500 with 1 Axes>"
      ]
     },
     "metadata": {},
     "output_type": "display_data"
    }
   ],
   "source": [
    "#https://matplotlib.org/stable/api/markers_api.html#module-matplotlib.markers\n",
    "# 그래프 크기 설정 (가로 5, 세로 5 인치)\n",
    "plt.rcParams['figure.figsize'] = (5, 5)\n",
    "\n",
    "# 산점도 그래프 다시 그리기 (기본 스타일)\n",
    "plt.scatter(height_array, weight_array)     # 키와 몸무게 산점도, 기본 색상/마커 사용\n",
    "plt.title('Scatter Plot')                   # 그래프 제목 지정\n",
    "plt.xlabel('X Label')                       # x축 레이블(임의로 X Label)\n",
    "plt.ylabel('Y Label')                       # y축 레이블(임의로 Y Label)\n",
    "plt.show()                                  # 그래프 화면에 출력"
   ]
  },
  {
   "cell_type": "code",
   "execution_count": 61,
   "id": "2737cf07-5f38-4a4c-9cec-74aa1ab9aacd",
   "metadata": {},
   "outputs": [
    {
     "data": {
      "image/png": "[encoded data removed]",
      "text/plain": [
       "<Figure size 500x500 with 1 Axes>"
      ]
     },
     "metadata": {},
     "output_type": "display_data"
    }
   ],
   "source": [
    "age_array = np.array([\n",
    "    27, 25, 29, 22, 26, 28, 40, 42, 34, 31,\n",
    "    37, 36, 40, 32, 41, 47, 52, 49, 51, 50,\n",
    "    49, 46, 47, 46, 47, 45, 57, 58, 60, 56\n",
    "])\n",
    "\n",
    "salary_array = np.array([\n",
    "    44009, 83450, 95025, 63748, 78652,\n",
    "    58977, 114733, 126353, 121904, 125083,\n",
    "    143739, 140754, 144346, 114899, 125806,\n",
    "    180252, 153374, 171057, 161305, 193786,\n",
    "    167238, 150157, 179843, 195326, 165849,\n",
    "    164887, 131372, 135876, 113796, 143050\n",
    "])\n",
    "\n",
    "plt.scatter(x=age_array, y=salary_array, c='red', marker='s')  # x축: 나이, y축: 연봉, 빨간색(s: 사각형) 마커로 산점도 그리기\n",
    "plt.title('Age and Salary')                                   # 그래프 제목\n",
    "plt.xlabel('Age')                                             # x축 레이블\n",
    "plt.ylabel('Salary($)')                                       # y축 레이블\n",
    "plt.show()                                                    # 그래프 출력"
   ]
  },
  {
   "cell_type": "code",
   "execution_count": 62,
   "id": "8746cfd9-d48c-4b49-9dd4-1366f0dd67e4",
   "metadata": {},
   "outputs": [
    {
     "data": {
      "text/html": [
       "<div>\n",
       "<style scoped>\n",
       "    .dataframe tbody tr th:only-of-type {\n",
       "        vertical-align: middle;\n",
       "    }\n",
       "\n",
       "    .dataframe tbody tr th {\n",
       "        vertical-align: top;\n",
       "    }\n",
       "\n",
       "    .dataframe thead th {\n",
       "        text-align: right;\n",
       "    }\n",
       "</style>\n",
       "<table border=\"1\" class=\"dataframe\">\n",
       "  <thead>\n",
       "    <tr style=\"text-align: right;\">\n",
       "      <th></th>\n",
       "      <th>category</th>\n",
       "      <th>quantity</th>\n",
       "      <th>price</th>\n",
       "    </tr>\n",
       "  </thead>\n",
       "  <tbody>\n",
       "    <tr>\n",
       "      <th>0</th>\n",
       "      <td>skirt</td>\n",
       "      <td>10</td>\n",
       "      <td>30000</td>\n",
       "    </tr>\n",
       "    <tr>\n",
       "      <th>1</th>\n",
       "      <td>sweater</td>\n",
       "      <td>15</td>\n",
       "      <td>60000</td>\n",
       "    </tr>\n",
       "    <tr>\n",
       "      <th>2</th>\n",
       "      <td>coat</td>\n",
       "      <td>6</td>\n",
       "      <td>95000</td>\n",
       "    </tr>\n",
       "    <tr>\n",
       "      <th>3</th>\n",
       "      <td>jeans</td>\n",
       "      <td>11</td>\n",
       "      <td>35000</td>\n",
       "    </tr>\n",
       "  </tbody>\n",
       "</table>\n",
       "</div>"
      ],
      "text/plain": [
       "  category  quantity  price\n",
       "0    skirt        10  30000\n",
       "1  sweater        15  60000\n",
       "2     coat         6  95000\n",
       "3    jeans        11  35000"
      ]
     },
     "execution_count": 62,
     "metadata": {},
     "output_type": "execute_result"
    }
   ],
   "source": [
    "df = pd.DataFrame({\n",
    "    'category': ['skirt', 'sweater', 'coat', 'jeans'],\n",
    "    'quantity': [10, 15, 6, 11],                                     \n",
    "    'price': [30000, 60000, 95000, 35000]\n",
    "})\n",
    "df"
   ]
  },
  {
   "cell_type": "code",
   "execution_count": 63,
   "id": "571c7654-7d32-4e7e-8dd3-edc4e69938c0",
   "metadata": {},
   "outputs": [
    {
     "data": {
      "text/plain": [
       "0    10\n",
       "1    15\n",
       "2     6\n",
       "3    11\n",
       "Name: quantity, dtype: int64"
      ]
     },
     "execution_count": 63,
     "metadata": {},
     "output_type": "execute_result"
    }
   ],
   "source": [
    "df['quantity']"
   ]
  },
  {
   "cell_type": "code",
   "execution_count": 64,
   "id": "2e294a1e-ea20-47f1-a67c-c2cf614fa826",
   "metadata": {},
   "outputs": [
    {
     "data": {
      "text/plain": [
       "pandas.core.series.Series"
      ]
     },
     "execution_count": 64,
     "metadata": {},
     "output_type": "execute_result"
    }
   ],
   "source": [
    "type(df['quantity'])"
   ]
  },
  {
   "cell_type": "code",
   "execution_count": 65,
   "id": "3abb8f07-3a1d-4fe5-b312-2333ac91745a",
   "metadata": {},
   "outputs": [
    {
     "data": {
      "text/plain": [
       "np.float64(10.5)"
      ]
     },
     "execution_count": 65,
     "metadata": {},
     "output_type": "execute_result"
    }
   ],
   "source": [
    "df['quantity'].mean()"
   ]
  },
  {
   "cell_type": "code",
   "execution_count": 66,
   "id": "d2111cd5-892c-440b-993c-73d9d866ee20",
   "metadata": {},
   "outputs": [
    {
     "data": {
      "text/plain": [
       "np.int64(42)"
      ]
     },
     "execution_count": 66,
     "metadata": {},
     "output_type": "execute_result"
    }
   ],
   "source": [
    "df['quantity'].sum()"
   ]
  },
  {
   "cell_type": "code",
   "execution_count": 67,
   "id": "120ccd62-b09f-43e1-ac30-55291f5a628e",
   "metadata": {},
   "outputs": [
    {
     "data": {
      "text/plain": [
       "6"
      ]
     },
     "execution_count": 67,
     "metadata": {},
     "output_type": "execute_result"
    }
   ],
   "source": [
    "df['quantity'].min()"
   ]
  },
  {
   "cell_type": "code",
   "execution_count": 68,
   "id": "26186bf0-8b87-4322-9c45-22e76db5fa03",
   "metadata": {},
   "outputs": [
    {
     "data": {
      "text/plain": [
       "0    300000\n",
       "1    900000\n",
       "2    570000\n",
       "3    385000\n",
       "dtype: int64"
      ]
     },
     "execution_count": 68,
     "metadata": {},
     "output_type": "execute_result"
    }
   ],
   "source": [
    "df['quantity'] * df['price']"
   ]
  },
  {
   "cell_type": "code",
   "execution_count": 69,
   "id": "081ed322-6978-406c-b4c8-b04ae690df6f",
   "metadata": {},
   "outputs": [
    {
     "data": {
      "text/html": [
       "<div>\n",
       "<style scoped>\n",
       "    .dataframe tbody tr th:only-of-type {\n",
       "        vertical-align: middle;\n",
       "    }\n",
       "\n",
       "    .dataframe tbody tr th {\n",
       "        vertical-align: top;\n",
       "    }\n",
       "\n",
       "    .dataframe thead th {\n",
       "        text-align: right;\n",
       "    }\n",
       "</style>\n",
       "<table border=\"1\" class=\"dataframe\">\n",
       "  <thead>\n",
       "    <tr style=\"text-align: right;\">\n",
       "      <th></th>\n",
       "      <th>0</th>\n",
       "      <th>1</th>\n",
       "      <th>2</th>\n",
       "    </tr>\n",
       "  </thead>\n",
       "  <tbody>\n",
       "    <tr>\n",
       "      <th>0</th>\n",
       "      <td>skirt</td>\n",
       "      <td>10</td>\n",
       "      <td>30000</td>\n",
       "    </tr>\n",
       "    <tr>\n",
       "      <th>1</th>\n",
       "      <td>sweater</td>\n",
       "      <td>15</td>\n",
       "      <td>60000</td>\n",
       "    </tr>\n",
       "    <tr>\n",
       "      <th>2</th>\n",
       "      <td>coat</td>\n",
       "      <td>6</td>\n",
       "      <td>95000</td>\n",
       "    </tr>\n",
       "    <tr>\n",
       "      <th>3</th>\n",
       "      <td>jeans</td>\n",
       "      <td>11</td>\n",
       "      <td>35000</td>\n",
       "    </tr>\n",
       "  </tbody>\n",
       "</table>\n",
       "</div>"
      ],
      "text/plain": [
       "         0   1      2\n",
       "0    skirt  10  30000\n",
       "1  sweater  15  60000\n",
       "2     coat   6  95000\n",
       "3    jeans  11  35000"
      ]
     },
     "execution_count": 69,
     "metadata": {},
     "output_type": "execute_result"
    }
   ],
   "source": [
    "two_dimensional_list = [\n",
    "    ['skirt', 10, 30000],\n",
    "    ['sweater', 15, 60000],\n",
    "    ['coat', 6, 95000],\n",
    "    ['jeans', 11, 35000]\n",
    "]\n",
    "two_dimensional_array = np.array(two_dimensional_list)\n",
    "\n",
    "list_df = pd.DataFrame(two_dimensional_list)\n",
    "array_df = pd.DataFrame(two_dimensional_array)\n",
    "#list_df\n",
    "array_df"
   ]
  },
  {
   "cell_type": "code",
   "execution_count": 70,
   "id": "254bb3de-74fa-408c-ac22-c7f4b23cd4a5",
   "metadata": {},
   "outputs": [
    {
     "data": {
      "text/html": [
       "<div>\n",
       "<style scoped>\n",
       "    .dataframe tbody tr th:only-of-type {\n",
       "        vertical-align: middle;\n",
       "    }\n",
       "\n",
       "    .dataframe tbody tr th {\n",
       "        vertical-align: top;\n",
       "    }\n",
       "\n",
       "    .dataframe thead th {\n",
       "        text-align: right;\n",
       "    }\n",
       "</style>\n",
       "<table border=\"1\" class=\"dataframe\">\n",
       "  <thead>\n",
       "    <tr style=\"text-align: right;\">\n",
       "      <th></th>\n",
       "      <th>category</th>\n",
       "      <th>quantity</th>\n",
       "      <th>price</th>\n",
       "    </tr>\n",
       "  </thead>\n",
       "  <tbody>\n",
       "    <tr>\n",
       "      <th>0</th>\n",
       "      <td>skirt</td>\n",
       "      <td>10</td>\n",
       "      <td>30000</td>\n",
       "    </tr>\n",
       "    <tr>\n",
       "      <th>1</th>\n",
       "      <td>sweater</td>\n",
       "      <td>15</td>\n",
       "      <td>60000</td>\n",
       "    </tr>\n",
       "    <tr>\n",
       "      <th>2</th>\n",
       "      <td>coat</td>\n",
       "      <td>6</td>\n",
       "      <td>95000</td>\n",
       "    </tr>\n",
       "    <tr>\n",
       "      <th>3</th>\n",
       "      <td>jeans</td>\n",
       "      <td>11</td>\n",
       "      <td>35000</td>\n",
       "    </tr>\n",
       "  </tbody>\n",
       "</table>\n",
       "</div>"
      ],
      "text/plain": [
       "  category quantity  price\n",
       "0    skirt       10  30000\n",
       "1  sweater       15  60000\n",
       "2     coat        6  95000\n",
       "3    jeans       11  35000"
      ]
     },
     "execution_count": 70,
     "metadata": {},
     "output_type": "execute_result"
    }
   ],
   "source": [
    "list_df = pd.DataFrame(two_dimensional_list, columns=['category', 'quantity', 'price'])\n",
    "array_df = pd.DataFrame(two_dimensional_array, columns=['category', 'quantity', 'price'])\n",
    "#list_df\n",
    "array_df"
   ]
  },
  {
   "cell_type": "code",
   "execution_count": 71,
   "id": "3bbd4629-3201-42df-9eba-262a2bd840eb",
   "metadata": {},
   "outputs": [
    {
     "data": {
      "text/html": [
       "<div>\n",
       "<style scoped>\n",
       "    .dataframe tbody tr th:only-of-type {\n",
       "        vertical-align: middle;\n",
       "    }\n",
       "\n",
       "    .dataframe tbody tr th {\n",
       "        vertical-align: top;\n",
       "    }\n",
       "\n",
       "    .dataframe thead th {\n",
       "        text-align: right;\n",
       "    }\n",
       "</style>\n",
       "<table border=\"1\" class=\"dataframe\">\n",
       "  <thead>\n",
       "    <tr style=\"text-align: right;\">\n",
       "      <th></th>\n",
       "      <th>category</th>\n",
       "      <th>quantity</th>\n",
       "      <th>price</th>\n",
       "    </tr>\n",
       "  </thead>\n",
       "  <tbody>\n",
       "    <tr>\n",
       "      <th>0</th>\n",
       "      <td>skirt</td>\n",
       "      <td>10</td>\n",
       "      <td>30000</td>\n",
       "    </tr>\n",
       "    <tr>\n",
       "      <th>1</th>\n",
       "      <td>sweater</td>\n",
       "      <td>15</td>\n",
       "      <td>60000</td>\n",
       "    </tr>\n",
       "    <tr>\n",
       "      <th>2</th>\n",
       "      <td>coat</td>\n",
       "      <td>6</td>\n",
       "      <td>95000</td>\n",
       "    </tr>\n",
       "    <tr>\n",
       "      <th>3</th>\n",
       "      <td>jeans</td>\n",
       "      <td>11</td>\n",
       "      <td>35000</td>\n",
       "    </tr>\n",
       "  </tbody>\n",
       "</table>\n",
       "</div>"
      ],
      "text/plain": [
       "  category  quantity  price\n",
       "0    skirt        10  30000\n",
       "1  sweater        15  60000\n",
       "2     coat         6  95000\n",
       "3    jeans        11  35000"
      ]
     },
     "execution_count": 71,
     "metadata": {},
     "output_type": "execute_result"
    }
   ],
   "source": [
    "dict_list = [\n",
    "    {'category': 'skirt', 'quantity': 10, 'price': 30000},\n",
    "    {'category': 'sweater', 'quantity': 15, 'price': 60000},\n",
    "    {'category': 'coat', 'quantity': 6, 'price': 95000},\n",
    "    {'category': 'jeans', 'quantity': 11, 'price': 35000}\n",
    "]\n",
    "\n",
    "dict_list_df = pd.DataFrame(dict_list)\n",
    "dict_list_df"
   ]
  },
  {
   "cell_type": "code",
   "execution_count": 72,
   "id": "4384ad60-2a26-4b04-bd8e-58c297f3a793",
   "metadata": {},
   "outputs": [
    {
     "data": {
      "text/html": [
       "<div>\n",
       "<style scoped>\n",
       "    .dataframe tbody tr th:only-of-type {\n",
       "        vertical-align: middle;\n",
       "    }\n",
       "\n",
       "    .dataframe tbody tr th {\n",
       "        vertical-align: top;\n",
       "    }\n",
       "\n",
       "    .dataframe thead th {\n",
       "        text-align: right;\n",
       "    }\n",
       "</style>\n",
       "<table border=\"1\" class=\"dataframe\">\n",
       "  <thead>\n",
       "    <tr style=\"text-align: right;\">\n",
       "      <th></th>\n",
       "      <th>product_name</th>\n",
       "      <th>calories</th>\n",
       "      <th>carb</th>\n",
       "      <th>protein</th>\n",
       "      <th>fat</th>\n",
       "      <th>sodium</th>\n",
       "      <th>category</th>\n",
       "    </tr>\n",
       "  </thead>\n",
       "  <tbody>\n",
       "    <tr>\n",
       "      <th>0</th>\n",
       "      <td>Whopper</td>\n",
       "      <td>660</td>\n",
       "      <td>49</td>\n",
       "      <td>28</td>\n",
       "      <td>40</td>\n",
       "      <td>1.0</td>\n",
       "      <td>Burgers</td>\n",
       "    </tr>\n",
       "    <tr>\n",
       "      <th>1</th>\n",
       "      <td>Cheese Whopper</td>\n",
       "      <td>740</td>\n",
       "      <td>50</td>\n",
       "      <td>32</td>\n",
       "      <td>46</td>\n",
       "      <td>1.3</td>\n",
       "      <td>Burgers</td>\n",
       "    </tr>\n",
       "    <tr>\n",
       "      <th>2</th>\n",
       "      <td>Double Whopper</td>\n",
       "      <td>900</td>\n",
       "      <td>49</td>\n",
       "      <td>48</td>\n",
       "      <td>58</td>\n",
       "      <td>1.0</td>\n",
       "      <td>Burgers</td>\n",
       "    </tr>\n",
       "    <tr>\n",
       "      <th>3</th>\n",
       "      <td>Double Cheese Whopper</td>\n",
       "      <td>980</td>\n",
       "      <td>50</td>\n",
       "      <td>52</td>\n",
       "      <td>64</td>\n",
       "      <td>1.4</td>\n",
       "      <td>Burgers</td>\n",
       "    </tr>\n",
       "    <tr>\n",
       "      <th>4</th>\n",
       "      <td>Whopper Junior</td>\n",
       "      <td>310</td>\n",
       "      <td>27</td>\n",
       "      <td>13</td>\n",
       "      <td>18</td>\n",
       "      <td>0.4</td>\n",
       "      <td>Burgers</td>\n",
       "    </tr>\n",
       "    <tr>\n",
       "      <th>5</th>\n",
       "      <td>Bacon King</td>\n",
       "      <td>1150</td>\n",
       "      <td>49</td>\n",
       "      <td>61</td>\n",
       "      <td>79</td>\n",
       "      <td>2.2</td>\n",
       "      <td>Burgers</td>\n",
       "    </tr>\n",
       "    <tr>\n",
       "      <th>6</th>\n",
       "      <td>Single Stacker King</td>\n",
       "      <td>700</td>\n",
       "      <td>48</td>\n",
       "      <td>35</td>\n",
       "      <td>42</td>\n",
       "      <td>1.4</td>\n",
       "      <td>Burgers</td>\n",
       "    </tr>\n",
       "    <tr>\n",
       "      <th>7</th>\n",
       "      <td>Double Stacker King</td>\n",
       "      <td>1050</td>\n",
       "      <td>49</td>\n",
       "      <td>61</td>\n",
       "      <td>68</td>\n",
       "      <td>NaN</td>\n",
       "      <td>Burgers</td>\n",
       "    </tr>\n",
       "    <tr>\n",
       "      <th>8</th>\n",
       "      <td>Hamburger</td>\n",
       "      <td>240</td>\n",
       "      <td>26</td>\n",
       "      <td>13</td>\n",
       "      <td>10</td>\n",
       "      <td>0.4</td>\n",
       "      <td>Burgers</td>\n",
       "    </tr>\n",
       "    <tr>\n",
       "      <th>9</th>\n",
       "      <td>Cheeseburger</td>\n",
       "      <td>280</td>\n",
       "      <td>27</td>\n",
       "      <td>15</td>\n",
       "      <td>13</td>\n",
       "      <td>0.6</td>\n",
       "      <td>Burgers</td>\n",
       "    </tr>\n",
       "    <tr>\n",
       "      <th>10</th>\n",
       "      <td>Double Hamburger</td>\n",
       "      <td>350</td>\n",
       "      <td>26</td>\n",
       "      <td>21</td>\n",
       "      <td>18</td>\n",
       "      <td>0.4</td>\n",
       "      <td>Burgers</td>\n",
       "    </tr>\n",
       "    <tr>\n",
       "      <th>11</th>\n",
       "      <td>Double Cheeseburger</td>\n",
       "      <td>390</td>\n",
       "      <td>27</td>\n",
       "      <td>23</td>\n",
       "      <td>21</td>\n",
       "      <td>0.6</td>\n",
       "      <td>Burgers</td>\n",
       "    </tr>\n",
       "    <tr>\n",
       "      <th>12</th>\n",
       "      <td>Crispy Chicken</td>\n",
       "      <td>670</td>\n",
       "      <td>54</td>\n",
       "      <td>23</td>\n",
       "      <td>41</td>\n",
       "      <td>1.1</td>\n",
       "      <td>Chicken</td>\n",
       "    </tr>\n",
       "    <tr>\n",
       "      <th>13</th>\n",
       "      <td>Chicken Nuggets</td>\n",
       "      <td>170</td>\n",
       "      <td>11</td>\n",
       "      <td>8</td>\n",
       "      <td>11</td>\n",
       "      <td>0.3</td>\n",
       "      <td>Chicken</td>\n",
       "    </tr>\n",
       "    <tr>\n",
       "      <th>14</th>\n",
       "      <td>Spicy Chicken Nuggets</td>\n",
       "      <td>210</td>\n",
       "      <td>11</td>\n",
       "      <td>8</td>\n",
       "      <td>15</td>\n",
       "      <td>0.6</td>\n",
       "      <td>Chicken</td>\n",
       "    </tr>\n",
       "  </tbody>\n",
       "</table>\n",
       "</div>"
      ],
      "text/plain": [
       "             product_name  calories  carb  protein  fat  sodium category\n",
       "0                 Whopper       660    49       28   40     1.0  Burgers\n",
       "1          Cheese Whopper       740    50       32   46     1.3  Burgers\n",
       "2          Double Whopper       900    49       48   58     1.0  Burgers\n",
       "3   Double Cheese Whopper       980    50       52   64     1.4  Burgers\n",
       "4          Whopper Junior       310    27       13   18     0.4  Burgers\n",
       "5              Bacon King      1150    49       61   79     2.2  Burgers\n",
       "6     Single Stacker King       700    48       35   42     1.4  Burgers\n",
       "7     Double Stacker King      1050    49       61   68     NaN  Burgers\n",
       "8               Hamburger       240    26       13   10     0.4  Burgers\n",
       "9            Cheeseburger       280    27       15   13     0.6  Burgers\n",
       "10       Double Hamburger       350    26       21   18     0.4  Burgers\n",
       "11    Double Cheeseburger       390    27       23   21     0.6  Burgers\n",
       "12         Crispy Chicken       670    54       23   41     1.1  Chicken\n",
       "13        Chicken Nuggets       170    11        8   11     0.3  Chicken\n",
       "14  Spicy Chicken Nuggets       210    11        8   15     0.6  Chicken"
      ]
     },
     "execution_count": 72,
     "metadata": {},
     "output_type": "execute_result"
    }
   ],
   "source": [
    "# 1. CSV 파일의 URL 지정 (웹에서 바로 읽을 수 있는 링크)\n",
    "url = \"https://bakey-api.codeit.kr/api/files/resource?root=static&seqId=8327&version=1&directory=burger.csv&name=burger.csv\"\n",
    "# 2. CSV 파일을 DataFrame으로 읽기 (기본: 첫 줄을 헤더로 사용)\n",
    "df = pd.read_csv(url)  # 첫 줄이 컬럼명(헤더)로 자동 인식되어 데이터프레임 생성\n",
    "df  # 데이터프레임 내용 확인"
   ]
  },
  {
   "cell_type": "code",
   "execution_count": 73,
   "id": "b83fc8af-196e-4c12-89d7-1d1c09d45702",
   "metadata": {},
   "outputs": [
    {
     "data": {
      "text/html": [
       "<div>\n",
       "<style scoped>\n",
       "    .dataframe tbody tr th:only-of-type {\n",
       "        vertical-align: middle;\n",
       "    }\n",
       "\n",
       "    .dataframe tbody tr th {\n",
       "        vertical-align: top;\n",
       "    }\n",
       "\n",
       "    .dataframe thead th {\n",
       "        text-align: right;\n",
       "    }\n",
       "</style>\n",
       "<table border=\"1\" class=\"dataframe\">\n",
       "  <thead>\n",
       "    <tr style=\"text-align: right;\">\n",
       "      <th></th>\n",
       "      <th>0</th>\n",
       "      <th>1</th>\n",
       "      <th>2</th>\n",
       "      <th>3</th>\n",
       "      <th>4</th>\n",
       "      <th>5</th>\n",
       "      <th>6</th>\n",
       "    </tr>\n",
       "  </thead>\n",
       "  <tbody>\n",
       "    <tr>\n",
       "      <th>0</th>\n",
       "      <td>Whopper</td>\n",
       "      <td>660</td>\n",
       "      <td>49</td>\n",
       "      <td>28</td>\n",
       "      <td>40</td>\n",
       "      <td>1.0</td>\n",
       "      <td>Burgers</td>\n",
       "    </tr>\n",
       "    <tr>\n",
       "      <th>1</th>\n",
       "      <td>Cheese Whopper</td>\n",
       "      <td>740</td>\n",
       "      <td>50</td>\n",
       "      <td>32</td>\n",
       "      <td>46</td>\n",
       "      <td>1.3</td>\n",
       "      <td>Burgers</td>\n",
       "    </tr>\n",
       "    <tr>\n",
       "      <th>2</th>\n",
       "      <td>Double Whopper</td>\n",
       "      <td>900</td>\n",
       "      <td>49</td>\n",
       "      <td>48</td>\n",
       "      <td>58</td>\n",
       "      <td>1.0</td>\n",
       "      <td>Burgers</td>\n",
       "    </tr>\n",
       "    <tr>\n",
       "      <th>3</th>\n",
       "      <td>Double Cheese Whopper</td>\n",
       "      <td>980</td>\n",
       "      <td>50</td>\n",
       "      <td>52</td>\n",
       "      <td>64</td>\n",
       "      <td>1.4</td>\n",
       "      <td>Burgers</td>\n",
       "    </tr>\n",
       "    <tr>\n",
       "      <th>4</th>\n",
       "      <td>Whopper Junior</td>\n",
       "      <td>310</td>\n",
       "      <td>27</td>\n",
       "      <td>13</td>\n",
       "      <td>18</td>\n",
       "      <td>0.4</td>\n",
       "      <td>Burgers</td>\n",
       "    </tr>\n",
       "    <tr>\n",
       "      <th>5</th>\n",
       "      <td>Bacon King</td>\n",
       "      <td>1150</td>\n",
       "      <td>49</td>\n",
       "      <td>61</td>\n",
       "      <td>79</td>\n",
       "      <td>2.2</td>\n",
       "      <td>Burgers</td>\n",
       "    </tr>\n",
       "    <tr>\n",
       "      <th>6</th>\n",
       "      <td>Single Stacker King</td>\n",
       "      <td>700</td>\n",
       "      <td>48</td>\n",
       "      <td>35</td>\n",
       "      <td>42</td>\n",
       "      <td>1.4</td>\n",
       "      <td>Burgers</td>\n",
       "    </tr>\n",
       "    <tr>\n",
       "      <th>7</th>\n",
       "      <td>Double Stacker King</td>\n",
       "      <td>1050</td>\n",
       "      <td>49</td>\n",
       "      <td>61</td>\n",
       "      <td>68</td>\n",
       "      <td>NaN</td>\n",
       "      <td>Burgers</td>\n",
       "    </tr>\n",
       "    <tr>\n",
       "      <th>8</th>\n",
       "      <td>Hamburger</td>\n",
       "      <td>240</td>\n",
       "      <td>26</td>\n",
       "      <td>13</td>\n",
       "      <td>10</td>\n",
       "      <td>0.4</td>\n",
       "      <td>Burgers</td>\n",
       "    </tr>\n",
       "    <tr>\n",
       "      <th>9</th>\n",
       "      <td>Cheeseburger</td>\n",
       "      <td>280</td>\n",
       "      <td>27</td>\n",
       "      <td>15</td>\n",
       "      <td>13</td>\n",
       "      <td>0.6</td>\n",
       "      <td>Burgers</td>\n",
       "    </tr>\n",
       "    <tr>\n",
       "      <th>10</th>\n",
       "      <td>Double Hamburger</td>\n",
       "      <td>350</td>\n",
       "      <td>26</td>\n",
       "      <td>21</td>\n",
       "      <td>18</td>\n",
       "      <td>0.4</td>\n",
       "      <td>Burgers</td>\n",
       "    </tr>\n",
       "    <tr>\n",
       "      <th>11</th>\n",
       "      <td>Double Cheeseburger</td>\n",
       "      <td>390</td>\n",
       "      <td>27</td>\n",
       "      <td>23</td>\n",
       "      <td>21</td>\n",
       "      <td>0.6</td>\n",
       "      <td>Burgers</td>\n",
       "    </tr>\n",
       "    <tr>\n",
       "      <th>12</th>\n",
       "      <td>Crispy Chicken</td>\n",
       "      <td>670</td>\n",
       "      <td>54</td>\n",
       "      <td>23</td>\n",
       "      <td>41</td>\n",
       "      <td>1.1</td>\n",
       "      <td>Chicken</td>\n",
       "    </tr>\n",
       "    <tr>\n",
       "      <th>13</th>\n",
       "      <td>Chicken Nuggets</td>\n",
       "      <td>170</td>\n",
       "      <td>11</td>\n",
       "      <td>8</td>\n",
       "      <td>11</td>\n",
       "      <td>0.3</td>\n",
       "      <td>Chicken</td>\n",
       "    </tr>\n",
       "    <tr>\n",
       "      <th>14</th>\n",
       "      <td>Spicy Chicken Nuggets</td>\n",
       "      <td>210</td>\n",
       "      <td>11</td>\n",
       "      <td>8</td>\n",
       "      <td>15</td>\n",
       "      <td>0.6</td>\n",
       "      <td>Chicken</td>\n",
       "    </tr>\n",
       "  </tbody>\n",
       "</table>\n",
       "</div>"
      ],
      "text/plain": [
       "                        0     1   2   3   4    5        6\n",
       "0                 Whopper   660  49  28  40  1.0  Burgers\n",
       "1          Cheese Whopper   740  50  32  46  1.3  Burgers\n",
       "2          Double Whopper   900  49  48  58  1.0  Burgers\n",
       "3   Double Cheese Whopper   980  50  52  64  1.4  Burgers\n",
       "4          Whopper Junior   310  27  13  18  0.4  Burgers\n",
       "5              Bacon King  1150  49  61  79  2.2  Burgers\n",
       "6     Single Stacker King   700  48  35  42  1.4  Burgers\n",
       "7     Double Stacker King  1050  49  61  68  NaN  Burgers\n",
       "8               Hamburger   240  26  13  10  0.4  Burgers\n",
       "9            Cheeseburger   280  27  15  13  0.6  Burgers\n",
       "10       Double Hamburger   350  26  21  18  0.4  Burgers\n",
       "11    Double Cheeseburger   390  27  23  21  0.6  Burgers\n",
       "12         Crispy Chicken   670  54  23  41  1.1  Chicken\n",
       "13        Chicken Nuggets   170  11   8  11  0.3  Chicken\n",
       "14  Spicy Chicken Nuggets   210  11   8  15  0.6  Chicken"
      ]
     },
     "execution_count": 73,
     "metadata": {},
     "output_type": "execute_result"
    }
   ],
   "source": [
    "# 3. 첫 줄(헤더)을 건너뛰고 데이터만 읽기 (헤더 없음으로 가정)\n",
    "df_2 = pd.read_csv(url, skiprows=1, header=None)  # 첫 줄을 건너뜀- 첫줄을 헤더로 인식하는데 헤더가 없다고 가정\n",
    "df_2"
   ]
  },
  {
   "cell_type": "code",
   "execution_count": 74,
   "id": "98fc7b7a-32dd-4e9e-b005-a6418d190fdb",
   "metadata": {},
   "outputs": [
    {
     "data": {
      "text/html": [
       "<div>\n",
       "<style scoped>\n",
       "    .dataframe tbody tr th:only-of-type {\n",
       "        vertical-align: middle;\n",
       "    }\n",
       "\n",
       "    .dataframe tbody tr th {\n",
       "        vertical-align: top;\n",
       "    }\n",
       "\n",
       "    .dataframe thead th {\n",
       "        text-align: right;\n",
       "    }\n",
       "</style>\n",
       "<table border=\"1\" class=\"dataframe\">\n",
       "  <thead>\n",
       "    <tr style=\"text-align: right;\">\n",
       "      <th></th>\n",
       "      <th>이름</th>\n",
       "      <th>칼로리</th>\n",
       "      <th>탄수화물</th>\n",
       "      <th>단백질</th>\n",
       "      <th>지방</th>\n",
       "      <th>염분</th>\n",
       "      <th>분류</th>\n",
       "    </tr>\n",
       "  </thead>\n",
       "  <tbody>\n",
       "    <tr>\n",
       "      <th>0</th>\n",
       "      <td>Whopper</td>\n",
       "      <td>660</td>\n",
       "      <td>49</td>\n",
       "      <td>28</td>\n",
       "      <td>40</td>\n",
       "      <td>1.0</td>\n",
       "      <td>Burgers</td>\n",
       "    </tr>\n",
       "    <tr>\n",
       "      <th>1</th>\n",
       "      <td>Cheese Whopper</td>\n",
       "      <td>740</td>\n",
       "      <td>50</td>\n",
       "      <td>32</td>\n",
       "      <td>46</td>\n",
       "      <td>1.3</td>\n",
       "      <td>Burgers</td>\n",
       "    </tr>\n",
       "    <tr>\n",
       "      <th>2</th>\n",
       "      <td>Double Whopper</td>\n",
       "      <td>900</td>\n",
       "      <td>49</td>\n",
       "      <td>48</td>\n",
       "      <td>58</td>\n",
       "      <td>1.0</td>\n",
       "      <td>Burgers</td>\n",
       "    </tr>\n",
       "    <tr>\n",
       "      <th>3</th>\n",
       "      <td>Double Cheese Whopper</td>\n",
       "      <td>980</td>\n",
       "      <td>50</td>\n",
       "      <td>52</td>\n",
       "      <td>64</td>\n",
       "      <td>1.4</td>\n",
       "      <td>Burgers</td>\n",
       "    </tr>\n",
       "    <tr>\n",
       "      <th>4</th>\n",
       "      <td>Whopper Junior</td>\n",
       "      <td>310</td>\n",
       "      <td>27</td>\n",
       "      <td>13</td>\n",
       "      <td>18</td>\n",
       "      <td>0.4</td>\n",
       "      <td>Burgers</td>\n",
       "    </tr>\n",
       "    <tr>\n",
       "      <th>5</th>\n",
       "      <td>Bacon King</td>\n",
       "      <td>1150</td>\n",
       "      <td>49</td>\n",
       "      <td>61</td>\n",
       "      <td>79</td>\n",
       "      <td>2.2</td>\n",
       "      <td>Burgers</td>\n",
       "    </tr>\n",
       "    <tr>\n",
       "      <th>6</th>\n",
       "      <td>Single Stacker King</td>\n",
       "      <td>700</td>\n",
       "      <td>48</td>\n",
       "      <td>35</td>\n",
       "      <td>42</td>\n",
       "      <td>1.4</td>\n",
       "      <td>Burgers</td>\n",
       "    </tr>\n",
       "    <tr>\n",
       "      <th>7</th>\n",
       "      <td>Double Stacker King</td>\n",
       "      <td>1050</td>\n",
       "      <td>49</td>\n",
       "      <td>61</td>\n",
       "      <td>68</td>\n",
       "      <td>NaN</td>\n",
       "      <td>Burgers</td>\n",
       "    </tr>\n",
       "    <tr>\n",
       "      <th>8</th>\n",
       "      <td>Hamburger</td>\n",
       "      <td>240</td>\n",
       "      <td>26</td>\n",
       "      <td>13</td>\n",
       "      <td>10</td>\n",
       "      <td>0.4</td>\n",
       "      <td>Burgers</td>\n",
       "    </tr>\n",
       "    <tr>\n",
       "      <th>9</th>\n",
       "      <td>Cheeseburger</td>\n",
       "      <td>280</td>\n",
       "      <td>27</td>\n",
       "      <td>15</td>\n",
       "      <td>13</td>\n",
       "      <td>0.6</td>\n",
       "      <td>Burgers</td>\n",
       "    </tr>\n",
       "    <tr>\n",
       "      <th>10</th>\n",
       "      <td>Double Hamburger</td>\n",
       "      <td>350</td>\n",
       "      <td>26</td>\n",
       "      <td>21</td>\n",
       "      <td>18</td>\n",
       "      <td>0.4</td>\n",
       "      <td>Burgers</td>\n",
       "    </tr>\n",
       "    <tr>\n",
       "      <th>11</th>\n",
       "      <td>Double Cheeseburger</td>\n",
       "      <td>390</td>\n",
       "      <td>27</td>\n",
       "      <td>23</td>\n",
       "      <td>21</td>\n",
       "      <td>0.6</td>\n",
       "      <td>Burgers</td>\n",
       "    </tr>\n",
       "    <tr>\n",
       "      <th>12</th>\n",
       "      <td>Crispy Chicken</td>\n",
       "      <td>670</td>\n",
       "      <td>54</td>\n",
       "      <td>23</td>\n",
       "      <td>41</td>\n",
       "      <td>1.1</td>\n",
       "      <td>Chicken</td>\n",
       "    </tr>\n",
       "    <tr>\n",
       "      <th>13</th>\n",
       "      <td>Chicken Nuggets</td>\n",
       "      <td>170</td>\n",
       "      <td>11</td>\n",
       "      <td>8</td>\n",
       "      <td>11</td>\n",
       "      <td>0.3</td>\n",
       "      <td>Chicken</td>\n",
       "    </tr>\n",
       "    <tr>\n",
       "      <th>14</th>\n",
       "      <td>Spicy Chicken Nuggets</td>\n",
       "      <td>210</td>\n",
       "      <td>11</td>\n",
       "      <td>8</td>\n",
       "      <td>15</td>\n",
       "      <td>0.6</td>\n",
       "      <td>Chicken</td>\n",
       "    </tr>\n",
       "  </tbody>\n",
       "</table>\n",
       "</div>"
      ],
      "text/plain": [
       "                       이름   칼로리  탄수화물  단백질  지방   염분       분류\n",
       "0                 Whopper   660    49   28  40  1.0  Burgers\n",
       "1          Cheese Whopper   740    50   32  46  1.3  Burgers\n",
       "2          Double Whopper   900    49   48  58  1.0  Burgers\n",
       "3   Double Cheese Whopper   980    50   52  64  1.4  Burgers\n",
       "4          Whopper Junior   310    27   13  18  0.4  Burgers\n",
       "5              Bacon King  1150    49   61  79  2.2  Burgers\n",
       "6     Single Stacker King   700    48   35  42  1.4  Burgers\n",
       "7     Double Stacker King  1050    49   61  68  NaN  Burgers\n",
       "8               Hamburger   240    26   13  10  0.4  Burgers\n",
       "9            Cheeseburger   280    27   15  13  0.6  Burgers\n",
       "10       Double Hamburger   350    26   21  18  0.4  Burgers\n",
       "11    Double Cheeseburger   390    27   23  21  0.6  Burgers\n",
       "12         Crispy Chicken   670    54   23  41  1.1  Chicken\n",
       "13        Chicken Nuggets   170    11    8  11  0.3  Chicken\n",
       "14  Spicy Chicken Nuggets   210    11    8  15  0.6  Chicken"
      ]
     },
     "execution_count": 74,
     "metadata": {},
     "output_type": "execute_result"
    }
   ],
   "source": [
    "# 4. 컬럼명(열 이름) 직접 지정\n",
    "df_2.columns = ['이름', '칼로리', '탄수화물', '단백질', '지방', '염분', '분류']\n",
    "df_2"
   ]
  },
  {
   "cell_type": "code",
   "execution_count": 75,
   "id": "69062daa-c399-4421-89eb-d4069ab9cdcf",
   "metadata": {},
   "outputs": [
    {
     "data": {
      "text/html": [
       "<div>\n",
       "<style scoped>\n",
       "    .dataframe tbody tr th:only-of-type {\n",
       "        vertical-align: middle;\n",
       "    }\n",
       "\n",
       "    .dataframe tbody tr th {\n",
       "        vertical-align: top;\n",
       "    }\n",
       "\n",
       "    .dataframe thead th {\n",
       "        text-align: right;\n",
       "    }\n",
       "</style>\n",
       "<table border=\"1\" class=\"dataframe\">\n",
       "  <thead>\n",
       "    <tr style=\"text-align: right;\">\n",
       "      <th></th>\n",
       "      <th>calories</th>\n",
       "      <th>carb</th>\n",
       "      <th>protein</th>\n",
       "      <th>fat</th>\n",
       "      <th>sodium</th>\n",
       "      <th>category</th>\n",
       "    </tr>\n",
       "    <tr>\n",
       "      <th>product_name</th>\n",
       "      <th></th>\n",
       "      <th></th>\n",
       "      <th></th>\n",
       "      <th></th>\n",
       "      <th></th>\n",
       "      <th></th>\n",
       "    </tr>\n",
       "  </thead>\n",
       "  <tbody>\n",
       "    <tr>\n",
       "      <th>Whopper</th>\n",
       "      <td>660</td>\n",
       "      <td>49</td>\n",
       "      <td>28</td>\n",
       "      <td>40</td>\n",
       "      <td>1.0</td>\n",
       "      <td>Burgers</td>\n",
       "    </tr>\n",
       "    <tr>\n",
       "      <th>Cheese Whopper</th>\n",
       "      <td>740</td>\n",
       "      <td>50</td>\n",
       "      <td>32</td>\n",
       "      <td>46</td>\n",
       "      <td>1.3</td>\n",
       "      <td>Burgers</td>\n",
       "    </tr>\n",
       "    <tr>\n",
       "      <th>Double Whopper</th>\n",
       "      <td>900</td>\n",
       "      <td>49</td>\n",
       "      <td>48</td>\n",
       "      <td>58</td>\n",
       "      <td>1.0</td>\n",
       "      <td>Burgers</td>\n",
       "    </tr>\n",
       "    <tr>\n",
       "      <th>Double Cheese Whopper</th>\n",
       "      <td>980</td>\n",
       "      <td>50</td>\n",
       "      <td>52</td>\n",
       "      <td>64</td>\n",
       "      <td>1.4</td>\n",
       "      <td>Burgers</td>\n",
       "    </tr>\n",
       "    <tr>\n",
       "      <th>Whopper Junior</th>\n",
       "      <td>310</td>\n",
       "      <td>27</td>\n",
       "      <td>13</td>\n",
       "      <td>18</td>\n",
       "      <td>0.4</td>\n",
       "      <td>Burgers</td>\n",
       "    </tr>\n",
       "    <tr>\n",
       "      <th>Bacon King</th>\n",
       "      <td>1150</td>\n",
       "      <td>49</td>\n",
       "      <td>61</td>\n",
       "      <td>79</td>\n",
       "      <td>2.2</td>\n",
       "      <td>Burgers</td>\n",
       "    </tr>\n",
       "    <tr>\n",
       "      <th>Single Stacker King</th>\n",
       "      <td>700</td>\n",
       "      <td>48</td>\n",
       "      <td>35</td>\n",
       "      <td>42</td>\n",
       "      <td>1.4</td>\n",
       "      <td>Burgers</td>\n",
       "    </tr>\n",
       "    <tr>\n",
       "      <th>Double Stacker King</th>\n",
       "      <td>1050</td>\n",
       "      <td>49</td>\n",
       "      <td>61</td>\n",
       "      <td>68</td>\n",
       "      <td>NaN</td>\n",
       "      <td>Burgers</td>\n",
       "    </tr>\n",
       "    <tr>\n",
       "      <th>Hamburger</th>\n",
       "      <td>240</td>\n",
       "      <td>26</td>\n",
       "      <td>13</td>\n",
       "      <td>10</td>\n",
       "      <td>0.4</td>\n",
       "      <td>Burgers</td>\n",
       "    </tr>\n",
       "    <tr>\n",
       "      <th>Cheeseburger</th>\n",
       "      <td>280</td>\n",
       "      <td>27</td>\n",
       "      <td>15</td>\n",
       "      <td>13</td>\n",
       "      <td>0.6</td>\n",
       "      <td>Burgers</td>\n",
       "    </tr>\n",
       "    <tr>\n",
       "      <th>Double Hamburger</th>\n",
       "      <td>350</td>\n",
       "      <td>26</td>\n",
       "      <td>21</td>\n",
       "      <td>18</td>\n",
       "      <td>0.4</td>\n",
       "      <td>Burgers</td>\n",
       "    </tr>\n",
       "    <tr>\n",
       "      <th>Double Cheeseburger</th>\n",
       "      <td>390</td>\n",
       "      <td>27</td>\n",
       "      <td>23</td>\n",
       "      <td>21</td>\n",
       "      <td>0.6</td>\n",
       "      <td>Burgers</td>\n",
       "    </tr>\n",
       "    <tr>\n",
       "      <th>Crispy Chicken</th>\n",
       "      <td>670</td>\n",
       "      <td>54</td>\n",
       "      <td>23</td>\n",
       "      <td>41</td>\n",
       "      <td>1.1</td>\n",
       "      <td>Chicken</td>\n",
       "    </tr>\n",
       "    <tr>\n",
       "      <th>Chicken Nuggets</th>\n",
       "      <td>170</td>\n",
       "      <td>11</td>\n",
       "      <td>8</td>\n",
       "      <td>11</td>\n",
       "      <td>0.3</td>\n",
       "      <td>Chicken</td>\n",
       "    </tr>\n",
       "    <tr>\n",
       "      <th>Spicy Chicken Nuggets</th>\n",
       "      <td>210</td>\n",
       "      <td>11</td>\n",
       "      <td>8</td>\n",
       "      <td>15</td>\n",
       "      <td>0.6</td>\n",
       "      <td>Chicken</td>\n",
       "    </tr>\n",
       "  </tbody>\n",
       "</table>\n",
       "</div>"
      ],
      "text/plain": [
       "                       calories  carb  protein  fat  sodium category\n",
       "product_name                                                        \n",
       "Whopper                     660    49       28   40     1.0  Burgers\n",
       "Cheese Whopper              740    50       32   46     1.3  Burgers\n",
       "Double Whopper              900    49       48   58     1.0  Burgers\n",
       "Double Cheese Whopper       980    50       52   64     1.4  Burgers\n",
       "Whopper Junior              310    27       13   18     0.4  Burgers\n",
       "Bacon King                 1150    49       61   79     2.2  Burgers\n",
       "Single Stacker King         700    48       35   42     1.4  Burgers\n",
       "Double Stacker King        1050    49       61   68     NaN  Burgers\n",
       "Hamburger                   240    26       13   10     0.4  Burgers\n",
       "Cheeseburger                280    27       15   13     0.6  Burgers\n",
       "Double Hamburger            350    26       21   18     0.4  Burgers\n",
       "Double Cheeseburger         390    27       23   21     0.6  Burgers\n",
       "Crispy Chicken              670    54       23   41     1.1  Chicken\n",
       "Chicken Nuggets             170    11        8   11     0.3  Chicken\n",
       "Spicy Chicken Nuggets       210    11        8   15     0.6  Chicken"
      ]
     },
     "execution_count": 75,
     "metadata": {},
     "output_type": "execute_result"
    }
   ],
   "source": [
    "# 5. 특정 컬럼을 인덱스로 지정하여 읽기 (인덱스 컬럼은 반드시 유일해야 함)\n",
    "burger_df = pd.read_csv(url, index_col=\"product_name\")  # 인덱스 컬럼은 절대 겹치면 안됨\n",
    "burger_df"
   ]
  },
  {
   "cell_type": "code",
   "execution_count": 76,
   "id": "6597fe09-4bfb-45bc-9c18-865d6f5da419",
   "metadata": {},
   "outputs": [
    {
     "data": {
      "text/plain": [
       "product_name\n",
       "Whopper                   660\n",
       "Cheese Whopper            740\n",
       "Double Whopper            900\n",
       "Double Cheese Whopper     980\n",
       "Whopper Junior            310\n",
       "Bacon King               1150\n",
       "Single Stacker King       700\n",
       "Double Stacker King      1050\n",
       "Hamburger                 240\n",
       "Cheeseburger              280\n",
       "Double Hamburger          350\n",
       "Double Cheeseburger       390\n",
       "Crispy Chicken            670\n",
       "Chicken Nuggets           170\n",
       "Spicy Chicken Nuggets     210\n",
       "Name: calories, dtype: int64"
      ]
     },
     "execution_count": 76,
     "metadata": {},
     "output_type": "execute_result"
    }
   ],
   "source": [
    "burger_df['calories'] # 6. 'calories' 컬럼(열)만 선택 # calories(칼로리) 값만 Series로 추출"
   ]
  },
  {
   "cell_type": "code",
   "execution_count": 77,
   "id": "bafeb5ab-396c-4444-afff-3017d6a421f4",
   "metadata": {},
   "outputs": [
    {
     "data": {
      "text/plain": [
       "1150"
      ]
     },
     "execution_count": 77,
     "metadata": {},
     "output_type": "execute_result"
    }
   ],
   "source": [
    "max(burger_df['calories'])# 7. 'calories' 컬럼의 최댓값 구하기 # 칼로리 값 중 가장 큰 값"
   ]
  },
  {
   "cell_type": "code",
   "execution_count": 78,
   "id": "feed4b22-fae8-494f-a357-8089fd129335",
   "metadata": {},
   "outputs": [
    {
     "data": {
      "text/plain": [
       "170"
      ]
     },
     "execution_count": 78,
     "metadata": {},
     "output_type": "execute_result"
    }
   ],
   "source": [
    "min(burger_df['calories'])# 8. 'calories' 컬럼의 최솟값 구하기 # 칼로리 값 중 가장 작은 값"
   ]
  },
  {
   "cell_type": "code",
   "execution_count": 79,
   "id": "234fe093-0636-4b1d-a2d3-f98aba3c0ef2",
   "metadata": {},
   "outputs": [
    {
     "data": {
      "text/plain": [
       "pandas.core.series.Series"
      ]
     },
     "execution_count": 79,
     "metadata": {},
     "output_type": "execute_result"
    }
   ],
   "source": [
    "type(burger_df['calories'])# 9. 'calories' 컬럼의 데이터 타입 확인 # pandas Series 타입인지 확인"
   ]
  },
  {
   "cell_type": "code",
   "execution_count": 80,
   "id": "8e3bee1c-7a71-465c-ab12-e1fdfe3c5cc3",
   "metadata": {},
   "outputs": [
    {
     "data": {
      "text/plain": [
       "np.int64(50)"
      ]
     },
     "execution_count": 80,
     "metadata": {},
     "output_type": "execute_result"
    }
   ],
   "source": [
    "#05. DataFrame에서 일부만 선택하기 \n",
    "#iloc(index location) 정수(숫자) 기반 위치 인덱싱\n",
    "burger_df.iloc[3,1]  # 4번째 행, 2번째 열의 값 선택 (둘 다 0부터 시작)"
   ]
  },
  {
   "cell_type": "code",
   "execution_count": 81,
   "id": "50df7722-6839-4952-a7db-015dc83581f0",
   "metadata": {},
   "outputs": [
    {
     "data": {
      "text/html": [
       "<div>\n",
       "<style scoped>\n",
       "    .dataframe tbody tr th:only-of-type {\n",
       "        vertical-align: middle;\n",
       "    }\n",
       "\n",
       "    .dataframe tbody tr th {\n",
       "        vertical-align: top;\n",
       "    }\n",
       "\n",
       "    .dataframe thead th {\n",
       "        text-align: right;\n",
       "    }\n",
       "</style>\n",
       "<table border=\"1\" class=\"dataframe\">\n",
       "  <thead>\n",
       "    <tr style=\"text-align: right;\">\n",
       "      <th></th>\n",
       "      <th>carb</th>\n",
       "      <th>protein</th>\n",
       "    </tr>\n",
       "    <tr>\n",
       "      <th>product_name</th>\n",
       "      <th></th>\n",
       "      <th></th>\n",
       "    </tr>\n",
       "  </thead>\n",
       "  <tbody>\n",
       "    <tr>\n",
       "      <th>Double Whopper</th>\n",
       "      <td>49</td>\n",
       "      <td>48</td>\n",
       "    </tr>\n",
       "    <tr>\n",
       "      <th>Double Cheese Whopper</th>\n",
       "      <td>50</td>\n",
       "      <td>52</td>\n",
       "    </tr>\n",
       "  </tbody>\n",
       "</table>\n",
       "</div>"
      ],
      "text/plain": [
       "                       carb  protein\n",
       "product_name                        \n",
       "Double Whopper           49       48\n",
       "Double Cheese Whopper    50       52"
      ]
     },
     "execution_count": 81,
     "metadata": {},
     "output_type": "execute_result"
    }
   ],
   "source": [
    "burger_df.iloc[[2,3],[1,2]]  # 3번째, 4번째 행의 2번째, 3번째 열 값만 선택 (행/열 모두 리스트로 지정)"
   ]
  },
  {
   "cell_type": "code",
   "execution_count": 82,
   "id": "1e670a53-aff5-420e-a989-04891586c86e",
   "metadata": {},
   "outputs": [
    {
     "data": {
      "text/html": [
       "<div>\n",
       "<style scoped>\n",
       "    .dataframe tbody tr th:only-of-type {\n",
       "        vertical-align: middle;\n",
       "    }\n",
       "\n",
       "    .dataframe tbody tr th {\n",
       "        vertical-align: top;\n",
       "    }\n",
       "\n",
       "    .dataframe thead th {\n",
       "        text-align: right;\n",
       "    }\n",
       "</style>\n",
       "<table border=\"1\" class=\"dataframe\">\n",
       "  <thead>\n",
       "    <tr style=\"text-align: right;\">\n",
       "      <th></th>\n",
       "      <th>calories</th>\n",
       "      <th>carb</th>\n",
       "      <th>protein</th>\n",
       "    </tr>\n",
       "    <tr>\n",
       "      <th>product_name</th>\n",
       "      <th></th>\n",
       "      <th></th>\n",
       "      <th></th>\n",
       "    </tr>\n",
       "  </thead>\n",
       "  <tbody>\n",
       "    <tr>\n",
       "      <th>Cheese Whopper</th>\n",
       "      <td>740</td>\n",
       "      <td>50</td>\n",
       "      <td>32</td>\n",
       "    </tr>\n",
       "    <tr>\n",
       "      <th>Double Whopper</th>\n",
       "      <td>900</td>\n",
       "      <td>49</td>\n",
       "      <td>48</td>\n",
       "    </tr>\n",
       "    <tr>\n",
       "      <th>Double Cheese Whopper</th>\n",
       "      <td>980</td>\n",
       "      <td>50</td>\n",
       "      <td>52</td>\n",
       "    </tr>\n",
       "  </tbody>\n",
       "</table>\n",
       "</div>"
      ],
      "text/plain": [
       "                       calories  carb  protein\n",
       "product_name                                  \n",
       "Cheese Whopper              740    50       32\n",
       "Double Whopper              900    49       48\n",
       "Double Cheese Whopper       980    50       52"
      ]
     },
     "execution_count": 82,
     "metadata": {},
     "output_type": "execute_result"
    }
   ],
   "source": [
    "burger_df.iloc[1:4, :3]  # 2~4번째 행(슬라이싱, 1~3번 인덱스), 1~3번째 열(0~2번 인덱스) 전체 선택"
   ]
  },
  {
   "cell_type": "code",
   "execution_count": 83,
   "id": "484f929c-f089-4bb9-9aea-32cb770aa73a",
   "metadata": {},
   "outputs": [
    {
     "data": {
      "text/plain": [
       "np.int64(48)"
      ]
     },
     "execution_count": 83,
     "metadata": {},
     "output_type": "execute_result"
    }
   ],
   "source": [
    "#loc(label location) 라벨(이름) 기반 인덱싱\n",
    "# 'Double Whopper' 행의 'protein' 열 값 선택\n",
    "burger_df.loc['Double Whopper', 'protein']"
   ]
  },
  {
   "cell_type": "code",
   "execution_count": 84,
   "id": "59f1ee5e-d05a-4f1c-b8e8-256a1d9b3742",
   "metadata": {},
   "outputs": [
    {
     "data": {
      "text/plain": [
       "product_name\n",
       "Whopper           28\n",
       "Double Whopper    48\n",
       "Name: protein, dtype: int64"
      ]
     },
     "execution_count": 84,
     "metadata": {},
     "output_type": "execute_result"
    }
   ],
   "source": [
    "# 'Whopper', 'Double Whopper' 두 행의 'protein' 열 값만 Series로 선택\n",
    "burger_df.loc[['Whopper','Double Whopper'], 'protein']"
   ]
  },
  {
   "cell_type": "code",
   "execution_count": 85,
   "id": "548421df-3f44-44f6-a8cc-2bbecdd69c98",
   "metadata": {},
   "outputs": [
    {
     "data": {
      "text/html": [
       "<div>\n",
       "<style scoped>\n",
       "    .dataframe tbody tr th:only-of-type {\n",
       "        vertical-align: middle;\n",
       "    }\n",
       "\n",
       "    .dataframe tbody tr th {\n",
       "        vertical-align: top;\n",
       "    }\n",
       "\n",
       "    .dataframe thead th {\n",
       "        text-align: right;\n",
       "    }\n",
       "</style>\n",
       "<table border=\"1\" class=\"dataframe\">\n",
       "  <thead>\n",
       "    <tr style=\"text-align: right;\">\n",
       "      <th></th>\n",
       "      <th>carb</th>\n",
       "      <th>protein</th>\n",
       "      <th>fat</th>\n",
       "    </tr>\n",
       "    <tr>\n",
       "      <th>product_name</th>\n",
       "      <th></th>\n",
       "      <th></th>\n",
       "      <th></th>\n",
       "    </tr>\n",
       "  </thead>\n",
       "  <tbody>\n",
       "    <tr>\n",
       "      <th>Whopper</th>\n",
       "      <td>49</td>\n",
       "      <td>28</td>\n",
       "      <td>40</td>\n",
       "    </tr>\n",
       "    <tr>\n",
       "      <th>Double Whopper</th>\n",
       "      <td>49</td>\n",
       "      <td>48</td>\n",
       "      <td>58</td>\n",
       "    </tr>\n",
       "  </tbody>\n",
       "</table>\n",
       "</div>"
      ],
      "text/plain": [
       "                carb  protein  fat\n",
       "product_name                      \n",
       "Whopper           49       28   40\n",
       "Double Whopper    49       48   58"
      ]
     },
     "execution_count": 85,
     "metadata": {},
     "output_type": "execute_result"
    }
   ],
   "source": [
    "# 'Whopper', 'Double Whopper' 두 행의 'carb', 'protein', 'fat' 열 값만 DataFrame으로 선택\n",
    "burger_df.loc[['Whopper','Double Whopper'], ['carb', 'protein', 'fat']]"
   ]
  },
  {
   "cell_type": "code",
   "execution_count": 86,
   "id": "a6bbb016-8ad3-4286-862e-4e32c9d58d30",
   "metadata": {},
   "outputs": [
    {
     "data": {
      "text/html": [
       "<div>\n",
       "<style scoped>\n",
       "    .dataframe tbody tr th:only-of-type {\n",
       "        vertical-align: middle;\n",
       "    }\n",
       "\n",
       "    .dataframe tbody tr th {\n",
       "        vertical-align: top;\n",
       "    }\n",
       "\n",
       "    .dataframe thead th {\n",
       "        text-align: right;\n",
       "    }\n",
       "</style>\n",
       "<table border=\"1\" class=\"dataframe\">\n",
       "  <thead>\n",
       "    <tr style=\"text-align: right;\">\n",
       "      <th></th>\n",
       "      <th>calories</th>\n",
       "      <th>carb</th>\n",
       "      <th>protein</th>\n",
       "      <th>fat</th>\n",
       "    </tr>\n",
       "    <tr>\n",
       "      <th>product_name</th>\n",
       "      <th></th>\n",
       "      <th></th>\n",
       "      <th></th>\n",
       "      <th></th>\n",
       "    </tr>\n",
       "  </thead>\n",
       "  <tbody>\n",
       "    <tr>\n",
       "      <th>Double Whopper</th>\n",
       "      <td>900</td>\n",
       "      <td>49</td>\n",
       "      <td>48</td>\n",
       "      <td>58</td>\n",
       "    </tr>\n",
       "    <tr>\n",
       "      <th>Double Cheese Whopper</th>\n",
       "      <td>980</td>\n",
       "      <td>50</td>\n",
       "      <td>52</td>\n",
       "      <td>64</td>\n",
       "    </tr>\n",
       "    <tr>\n",
       "      <th>Whopper Junior</th>\n",
       "      <td>310</td>\n",
       "      <td>27</td>\n",
       "      <td>13</td>\n",
       "      <td>18</td>\n",
       "    </tr>\n",
       "    <tr>\n",
       "      <th>Bacon King</th>\n",
       "      <td>1150</td>\n",
       "      <td>49</td>\n",
       "      <td>61</td>\n",
       "      <td>79</td>\n",
       "    </tr>\n",
       "  </tbody>\n",
       "</table>\n",
       "</div>"
      ],
      "text/plain": [
       "                       calories  carb  protein  fat\n",
       "product_name                                       \n",
       "Double Whopper              900    49       48   58\n",
       "Double Cheese Whopper       980    50       52   64\n",
       "Whopper Junior              310    27       13   18\n",
       "Bacon King                 1150    49       61   79"
      ]
     },
     "execution_count": 86,
     "metadata": {},
     "output_type": "execute_result"
    }
   ],
   "source": [
    "# 'Double Whopper'부터 'Bacon King'까지(끝 포함) 행, 'calories'부터 'fat'까지(끝 포함) 열 선택 (슬라이싱)\n",
    "burger_df.loc['Double Whopper':'Bacon King', 'calories':'fat']"
   ]
  },
  {
   "cell_type": "code",
   "execution_count": 87,
   "id": "63e05331-446a-474d-81cd-f210accd6c97",
   "metadata": {},
   "outputs": [
    {
     "data": {
      "text/html": [
       "<div>\n",
       "<style scoped>\n",
       "    .dataframe tbody tr th:only-of-type {\n",
       "        vertical-align: middle;\n",
       "    }\n",
       "\n",
       "    .dataframe tbody tr th {\n",
       "        vertical-align: top;\n",
       "    }\n",
       "\n",
       "    .dataframe thead th {\n",
       "        text-align: right;\n",
       "    }\n",
       "</style>\n",
       "<table border=\"1\" class=\"dataframe\">\n",
       "  <thead>\n",
       "    <tr style=\"text-align: right;\">\n",
       "      <th></th>\n",
       "      <th>calories</th>\n",
       "      <th>carb</th>\n",
       "      <th>protein</th>\n",
       "      <th>fat</th>\n",
       "      <th>sodium</th>\n",
       "      <th>category</th>\n",
       "    </tr>\n",
       "    <tr>\n",
       "      <th>product_name</th>\n",
       "      <th></th>\n",
       "      <th></th>\n",
       "      <th></th>\n",
       "      <th></th>\n",
       "      <th></th>\n",
       "      <th></th>\n",
       "    </tr>\n",
       "  </thead>\n",
       "  <tbody>\n",
       "    <tr>\n",
       "      <th>Double Whopper</th>\n",
       "      <td>900</td>\n",
       "      <td>49</td>\n",
       "      <td>48</td>\n",
       "      <td>58</td>\n",
       "      <td>1.0</td>\n",
       "      <td>Burgers</td>\n",
       "    </tr>\n",
       "    <tr>\n",
       "      <th>Double Cheese Whopper</th>\n",
       "      <td>980</td>\n",
       "      <td>50</td>\n",
       "      <td>52</td>\n",
       "      <td>64</td>\n",
       "      <td>1.4</td>\n",
       "      <td>Burgers</td>\n",
       "    </tr>\n",
       "    <tr>\n",
       "      <th>Whopper Junior</th>\n",
       "      <td>310</td>\n",
       "      <td>27</td>\n",
       "      <td>13</td>\n",
       "      <td>18</td>\n",
       "      <td>0.4</td>\n",
       "      <td>Burgers</td>\n",
       "    </tr>\n",
       "    <tr>\n",
       "      <th>Bacon King</th>\n",
       "      <td>1150</td>\n",
       "      <td>49</td>\n",
       "      <td>61</td>\n",
       "      <td>79</td>\n",
       "      <td>2.2</td>\n",
       "      <td>Burgers</td>\n",
       "    </tr>\n",
       "  </tbody>\n",
       "</table>\n",
       "</div>"
      ],
      "text/plain": [
       "                       calories  carb  protein  fat  sodium category\n",
       "product_name                                                        \n",
       "Double Whopper              900    49       48   58     1.0  Burgers\n",
       "Double Cheese Whopper       980    50       52   64     1.4  Burgers\n",
       "Whopper Junior              310    27       13   18     0.4  Burgers\n",
       "Bacon King                 1150    49       61   79     2.2  Burgers"
      ]
     },
     "execution_count": 87,
     "metadata": {},
     "output_type": "execute_result"
    }
   ],
   "source": [
    "# 'Double Whopper'부터 'Bacon King'까지(끝 포함) 행의 모든 열 선택\n",
    "# burger_df.loc['Double Whopper':'Bacon King']와 동일\n",
    "burger_df.loc['Double Whopper':'Bacon King', :]#burger_df.loc['Double Whopper':'Bacon King']"
   ]
  },
  {
   "cell_type": "code",
   "execution_count": 88,
   "id": "81c6fcea-8821-4143-8a00-a33fda9e92e6",
   "metadata": {},
   "outputs": [
    {
     "data": {
      "text/html": [
       "<div>\n",
       "<style scoped>\n",
       "    .dataframe tbody tr th:only-of-type {\n",
       "        vertical-align: middle;\n",
       "    }\n",
       "\n",
       "    .dataframe tbody tr th {\n",
       "        vertical-align: top;\n",
       "    }\n",
       "\n",
       "    .dataframe thead th {\n",
       "        text-align: right;\n",
       "    }\n",
       "</style>\n",
       "<table border=\"1\" class=\"dataframe\">\n",
       "  <thead>\n",
       "    <tr style=\"text-align: right;\">\n",
       "      <th></th>\n",
       "      <th>calories</th>\n",
       "      <th>carb</th>\n",
       "      <th>protein</th>\n",
       "      <th>fat</th>\n",
       "      <th>sodium</th>\n",
       "      <th>category</th>\n",
       "    </tr>\n",
       "    <tr>\n",
       "      <th>product_name</th>\n",
       "      <th></th>\n",
       "      <th></th>\n",
       "      <th></th>\n",
       "      <th></th>\n",
       "      <th></th>\n",
       "      <th></th>\n",
       "    </tr>\n",
       "  </thead>\n",
       "  <tbody>\n",
       "    <tr>\n",
       "      <th>Whopper</th>\n",
       "      <td>660</td>\n",
       "      <td>49</td>\n",
       "      <td>28</td>\n",
       "      <td>40</td>\n",
       "      <td>1.0</td>\n",
       "      <td>Burgers</td>\n",
       "    </tr>\n",
       "    <tr>\n",
       "      <th>Cheese Whopper</th>\n",
       "      <td>740</td>\n",
       "      <td>50</td>\n",
       "      <td>32</td>\n",
       "      <td>46</td>\n",
       "      <td>1.3</td>\n",
       "      <td>Burgers</td>\n",
       "    </tr>\n",
       "    <tr>\n",
       "      <th>Double Whopper</th>\n",
       "      <td>900</td>\n",
       "      <td>49</td>\n",
       "      <td>48</td>\n",
       "      <td>58</td>\n",
       "      <td>1.0</td>\n",
       "      <td>Burgers</td>\n",
       "    </tr>\n",
       "    <tr>\n",
       "      <th>Double Cheese Whopper</th>\n",
       "      <td>980</td>\n",
       "      <td>50</td>\n",
       "      <td>52</td>\n",
       "      <td>64</td>\n",
       "      <td>1.4</td>\n",
       "      <td>Burgers</td>\n",
       "    </tr>\n",
       "    <tr>\n",
       "      <th>Bacon King</th>\n",
       "      <td>1150</td>\n",
       "      <td>49</td>\n",
       "      <td>61</td>\n",
       "      <td>79</td>\n",
       "      <td>2.2</td>\n",
       "      <td>Burgers</td>\n",
       "    </tr>\n",
       "    <tr>\n",
       "      <th>Single Stacker King</th>\n",
       "      <td>700</td>\n",
       "      <td>48</td>\n",
       "      <td>35</td>\n",
       "      <td>42</td>\n",
       "      <td>1.4</td>\n",
       "      <td>Burgers</td>\n",
       "    </tr>\n",
       "    <tr>\n",
       "      <th>Double Stacker King</th>\n",
       "      <td>1050</td>\n",
       "      <td>49</td>\n",
       "      <td>61</td>\n",
       "      <td>68</td>\n",
       "      <td>NaN</td>\n",
       "      <td>Burgers</td>\n",
       "    </tr>\n",
       "    <tr>\n",
       "      <th>Crispy Chicken</th>\n",
       "      <td>670</td>\n",
       "      <td>54</td>\n",
       "      <td>23</td>\n",
       "      <td>41</td>\n",
       "      <td>1.1</td>\n",
       "      <td>Chicken</td>\n",
       "    </tr>\n",
       "  </tbody>\n",
       "</table>\n",
       "</div>"
      ],
      "text/plain": [
       "                       calories  carb  protein  fat  sodium category\n",
       "product_name                                                        \n",
       "Whopper                     660    49       28   40     1.0  Burgers\n",
       "Cheese Whopper              740    50       32   46     1.3  Burgers\n",
       "Double Whopper              900    49       48   58     1.0  Burgers\n",
       "Double Cheese Whopper       980    50       52   64     1.4  Burgers\n",
       "Bacon King                 1150    49       61   79     2.2  Burgers\n",
       "Single Stacker King         700    48       35   42     1.4  Burgers\n",
       "Double Stacker King        1050    49       61   68     NaN  Burgers\n",
       "Crispy Chicken              670    54       23   41     1.1  Chicken"
      ]
     },
     "execution_count": 88,
     "metadata": {},
     "output_type": "execute_result"
    }
   ],
   "source": [
    "#07. 불린 인덱싱\n",
    "# 1. 한 조건\n",
    "burger_df[burger_df['calories'] > 500]\n",
    "# → 'calories' 값이 500보다 큰 행만 선택"
   ]
  },
  {
   "cell_type": "code",
   "execution_count": 89,
   "id": "2f2f187b-4c62-4c2f-b7c5-484b8d14422a",
   "metadata": {},
   "outputs": [
    {
     "data": {
      "text/html": [
       "<div>\n",
       "<style scoped>\n",
       "    .dataframe tbody tr th:only-of-type {\n",
       "        vertical-align: middle;\n",
       "    }\n",
       "\n",
       "    .dataframe tbody tr th {\n",
       "        vertical-align: top;\n",
       "    }\n",
       "\n",
       "    .dataframe thead th {\n",
       "        text-align: right;\n",
       "    }\n",
       "</style>\n",
       "<table border=\"1\" class=\"dataframe\">\n",
       "  <thead>\n",
       "    <tr style=\"text-align: right;\">\n",
       "      <th></th>\n",
       "      <th>calories</th>\n",
       "      <th>carb</th>\n",
       "      <th>protein</th>\n",
       "      <th>fat</th>\n",
       "      <th>sodium</th>\n",
       "      <th>category</th>\n",
       "    </tr>\n",
       "    <tr>\n",
       "      <th>product_name</th>\n",
       "      <th></th>\n",
       "      <th></th>\n",
       "      <th></th>\n",
       "      <th></th>\n",
       "      <th></th>\n",
       "      <th></th>\n",
       "    </tr>\n",
       "  </thead>\n",
       "  <tbody>\n",
       "    <tr>\n",
       "      <th>Whopper</th>\n",
       "      <td>660</td>\n",
       "      <td>49</td>\n",
       "      <td>28</td>\n",
       "      <td>40</td>\n",
       "      <td>1.0</td>\n",
       "      <td>Burgers</td>\n",
       "    </tr>\n",
       "    <tr>\n",
       "      <th>Cheese Whopper</th>\n",
       "      <td>740</td>\n",
       "      <td>50</td>\n",
       "      <td>32</td>\n",
       "      <td>46</td>\n",
       "      <td>1.3</td>\n",
       "      <td>Burgers</td>\n",
       "    </tr>\n",
       "    <tr>\n",
       "      <th>Double Whopper</th>\n",
       "      <td>900</td>\n",
       "      <td>49</td>\n",
       "      <td>48</td>\n",
       "      <td>58</td>\n",
       "      <td>1.0</td>\n",
       "      <td>Burgers</td>\n",
       "    </tr>\n",
       "    <tr>\n",
       "      <th>Double Cheese Whopper</th>\n",
       "      <td>980</td>\n",
       "      <td>50</td>\n",
       "      <td>52</td>\n",
       "      <td>64</td>\n",
       "      <td>1.4</td>\n",
       "      <td>Burgers</td>\n",
       "    </tr>\n",
       "    <tr>\n",
       "      <th>Bacon King</th>\n",
       "      <td>1150</td>\n",
       "      <td>49</td>\n",
       "      <td>61</td>\n",
       "      <td>79</td>\n",
       "      <td>2.2</td>\n",
       "      <td>Burgers</td>\n",
       "    </tr>\n",
       "    <tr>\n",
       "      <th>Single Stacker King</th>\n",
       "      <td>700</td>\n",
       "      <td>48</td>\n",
       "      <td>35</td>\n",
       "      <td>42</td>\n",
       "      <td>1.4</td>\n",
       "      <td>Burgers</td>\n",
       "    </tr>\n",
       "    <tr>\n",
       "      <th>Double Stacker King</th>\n",
       "      <td>1050</td>\n",
       "      <td>49</td>\n",
       "      <td>61</td>\n",
       "      <td>68</td>\n",
       "      <td>NaN</td>\n",
       "      <td>Burgers</td>\n",
       "    </tr>\n",
       "    <tr>\n",
       "      <th>Crispy Chicken</th>\n",
       "      <td>670</td>\n",
       "      <td>54</td>\n",
       "      <td>23</td>\n",
       "      <td>41</td>\n",
       "      <td>1.1</td>\n",
       "      <td>Chicken</td>\n",
       "    </tr>\n",
       "  </tbody>\n",
       "</table>\n",
       "</div>"
      ],
      "text/plain": [
       "                       calories  carb  protein  fat  sodium category\n",
       "product_name                                                        \n",
       "Whopper                     660    49       28   40     1.0  Burgers\n",
       "Cheese Whopper              740    50       32   46     1.3  Burgers\n",
       "Double Whopper              900    49       48   58     1.0  Burgers\n",
       "Double Cheese Whopper       980    50       52   64     1.4  Burgers\n",
       "Bacon King                 1150    49       61   79     2.2  Burgers\n",
       "Single Stacker King         700    48       35   42     1.4  Burgers\n",
       "Double Stacker King        1050    49       61   68     NaN  Burgers\n",
       "Crispy Chicken              670    54       23   41     1.1  Chicken"
      ]
     },
     "execution_count": 89,
     "metadata": {},
     "output_type": "execute_result"
    }
   ],
   "source": [
    "# 2. 여러 조건\n",
    "burger_df[(burger_df['calories'] > 500) & (burger_df['protein'] > 20)]\n",
    "# → 'calories'가 500 초과이고 'protein'이 20 초과인 행만 선택\n",
    "#    (&: 그리고(and) 연산자, 각 조건은 괄호로 감싸야 함)"
   ]
  },
  {
   "cell_type": "code",
   "execution_count": 90,
   "id": "4830d084-ccee-45f7-8c6b-674073599222",
   "metadata": {},
   "outputs": [
    {
     "data": {
      "text/html": [
       "<div>\n",
       "<style scoped>\n",
       "    .dataframe tbody tr th:only-of-type {\n",
       "        vertical-align: middle;\n",
       "    }\n",
       "\n",
       "    .dataframe tbody tr th {\n",
       "        vertical-align: top;\n",
       "    }\n",
       "\n",
       "    .dataframe thead th {\n",
       "        text-align: right;\n",
       "    }\n",
       "</style>\n",
       "<table border=\"1\" class=\"dataframe\">\n",
       "  <thead>\n",
       "    <tr style=\"text-align: right;\">\n",
       "      <th></th>\n",
       "      <th>calories</th>\n",
       "      <th>carb</th>\n",
       "      <th>protein</th>\n",
       "      <th>fat</th>\n",
       "      <th>sodium</th>\n",
       "      <th>category</th>\n",
       "    </tr>\n",
       "    <tr>\n",
       "      <th>product_name</th>\n",
       "      <th></th>\n",
       "      <th></th>\n",
       "      <th></th>\n",
       "      <th></th>\n",
       "      <th></th>\n",
       "      <th></th>\n",
       "    </tr>\n",
       "  </thead>\n",
       "  <tbody>\n",
       "    <tr>\n",
       "      <th>Whopper</th>\n",
       "      <td>660</td>\n",
       "      <td>49</td>\n",
       "      <td>28</td>\n",
       "      <td>40</td>\n",
       "      <td>1.0</td>\n",
       "      <td>Burgers</td>\n",
       "    </tr>\n",
       "    <tr>\n",
       "      <th>Cheese Whopper</th>\n",
       "      <td>740</td>\n",
       "      <td>50</td>\n",
       "      <td>32</td>\n",
       "      <td>46</td>\n",
       "      <td>1.3</td>\n",
       "      <td>Burgers</td>\n",
       "    </tr>\n",
       "    <tr>\n",
       "      <th>Double Whopper</th>\n",
       "      <td>900</td>\n",
       "      <td>49</td>\n",
       "      <td>48</td>\n",
       "      <td>58</td>\n",
       "      <td>1.0</td>\n",
       "      <td>Burgers</td>\n",
       "    </tr>\n",
       "    <tr>\n",
       "      <th>Double Cheese Whopper</th>\n",
       "      <td>980</td>\n",
       "      <td>50</td>\n",
       "      <td>52</td>\n",
       "      <td>64</td>\n",
       "      <td>1.4</td>\n",
       "      <td>Burgers</td>\n",
       "    </tr>\n",
       "    <tr>\n",
       "      <th>Whopper Junior</th>\n",
       "      <td>310</td>\n",
       "      <td>27</td>\n",
       "      <td>13</td>\n",
       "      <td>18</td>\n",
       "      <td>0.4</td>\n",
       "      <td>Burgers</td>\n",
       "    </tr>\n",
       "    <tr>\n",
       "      <th>Bacon King</th>\n",
       "      <td>1150</td>\n",
       "      <td>49</td>\n",
       "      <td>61</td>\n",
       "      <td>79</td>\n",
       "      <td>2.2</td>\n",
       "      <td>Burgers</td>\n",
       "    </tr>\n",
       "    <tr>\n",
       "      <th>Single Stacker King</th>\n",
       "      <td>700</td>\n",
       "      <td>48</td>\n",
       "      <td>35</td>\n",
       "      <td>42</td>\n",
       "      <td>1.4</td>\n",
       "      <td>Burgers</td>\n",
       "    </tr>\n",
       "    <tr>\n",
       "      <th>Double Stacker King</th>\n",
       "      <td>1050</td>\n",
       "      <td>49</td>\n",
       "      <td>61</td>\n",
       "      <td>68</td>\n",
       "      <td>NaN</td>\n",
       "      <td>Burgers</td>\n",
       "    </tr>\n",
       "    <tr>\n",
       "      <th>Hamburger</th>\n",
       "      <td>240</td>\n",
       "      <td>26</td>\n",
       "      <td>13</td>\n",
       "      <td>10</td>\n",
       "      <td>0.4</td>\n",
       "      <td>Burgers</td>\n",
       "    </tr>\n",
       "    <tr>\n",
       "      <th>Cheeseburger</th>\n",
       "      <td>280</td>\n",
       "      <td>27</td>\n",
       "      <td>15</td>\n",
       "      <td>13</td>\n",
       "      <td>0.6</td>\n",
       "      <td>Burgers</td>\n",
       "    </tr>\n",
       "    <tr>\n",
       "      <th>Double Hamburger</th>\n",
       "      <td>350</td>\n",
       "      <td>26</td>\n",
       "      <td>21</td>\n",
       "      <td>18</td>\n",
       "      <td>0.4</td>\n",
       "      <td>Burgers</td>\n",
       "    </tr>\n",
       "    <tr>\n",
       "      <th>Double Cheeseburger</th>\n",
       "      <td>390</td>\n",
       "      <td>27</td>\n",
       "      <td>23</td>\n",
       "      <td>21</td>\n",
       "      <td>0.6</td>\n",
       "      <td>Burgers</td>\n",
       "    </tr>\n",
       "  </tbody>\n",
       "</table>\n",
       "</div>"
      ],
      "text/plain": [
       "                       calories  carb  protein  fat  sodium category\n",
       "product_name                                                        \n",
       "Whopper                     660    49       28   40     1.0  Burgers\n",
       "Cheese Whopper              740    50       32   46     1.3  Burgers\n",
       "Double Whopper              900    49       48   58     1.0  Burgers\n",
       "Double Cheese Whopper       980    50       52   64     1.4  Burgers\n",
       "Whopper Junior              310    27       13   18     0.4  Burgers\n",
       "Bacon King                 1150    49       61   79     2.2  Burgers\n",
       "Single Stacker King         700    48       35   42     1.4  Burgers\n",
       "Double Stacker King        1050    49       61   68     NaN  Burgers\n",
       "Hamburger                   240    26       13   10     0.4  Burgers\n",
       "Cheeseburger                280    27       15   13     0.6  Burgers\n",
       "Double Hamburger            350    26       21   18     0.4  Burgers\n",
       "Double Cheeseburger         390    27       23   21     0.6  Burgers"
      ]
     },
     "execution_count": 90,
     "metadata": {},
     "output_type": "execute_result"
    }
   ],
   "source": [
    "# 3. 특정 값 포함\n",
    "burger_df[burger_df['category'].isin(['Burgers', 'Sandwich'])]\n",
    "# → 'category' 컬럼이 'Burger' 또는 'Sandwich'인 행만 선택\n",
    "#    (.isin()은 리스트에 포함된 값만 True로 반환)"
   ]
  },
  {
   "cell_type": "code",
   "execution_count": 91,
   "id": "3e5c9433-95e2-46ad-9b5b-0205bb47a49b",
   "metadata": {},
   "outputs": [
    {
     "data": {
      "text/html": [
       "<div>\n",
       "<style scoped>\n",
       "    .dataframe tbody tr th:only-of-type {\n",
       "        vertical-align: middle;\n",
       "    }\n",
       "\n",
       "    .dataframe tbody tr th {\n",
       "        vertical-align: top;\n",
       "    }\n",
       "\n",
       "    .dataframe thead th {\n",
       "        text-align: right;\n",
       "    }\n",
       "</style>\n",
       "<table border=\"1\" class=\"dataframe\">\n",
       "  <thead>\n",
       "    <tr style=\"text-align: right;\">\n",
       "      <th></th>\n",
       "      <th>protein</th>\n",
       "      <th>calories</th>\n",
       "    </tr>\n",
       "    <tr>\n",
       "      <th>product_name</th>\n",
       "      <th></th>\n",
       "      <th></th>\n",
       "    </tr>\n",
       "  </thead>\n",
       "  <tbody>\n",
       "    <tr>\n",
       "      <th>Whopper</th>\n",
       "      <td>28</td>\n",
       "      <td>660</td>\n",
       "    </tr>\n",
       "    <tr>\n",
       "      <th>Cheese Whopper</th>\n",
       "      <td>32</td>\n",
       "      <td>740</td>\n",
       "    </tr>\n",
       "    <tr>\n",
       "      <th>Double Whopper</th>\n",
       "      <td>48</td>\n",
       "      <td>900</td>\n",
       "    </tr>\n",
       "    <tr>\n",
       "      <th>Double Cheese Whopper</th>\n",
       "      <td>52</td>\n",
       "      <td>980</td>\n",
       "    </tr>\n",
       "    <tr>\n",
       "      <th>Bacon King</th>\n",
       "      <td>61</td>\n",
       "      <td>1150</td>\n",
       "    </tr>\n",
       "    <tr>\n",
       "      <th>Single Stacker King</th>\n",
       "      <td>35</td>\n",
       "      <td>700</td>\n",
       "    </tr>\n",
       "    <tr>\n",
       "      <th>Double Stacker King</th>\n",
       "      <td>61</td>\n",
       "      <td>1050</td>\n",
       "    </tr>\n",
       "    <tr>\n",
       "      <th>Crispy Chicken</th>\n",
       "      <td>23</td>\n",
       "      <td>670</td>\n",
       "    </tr>\n",
       "  </tbody>\n",
       "</table>\n",
       "</div>"
      ],
      "text/plain": [
       "                       protein  calories\n",
       "product_name                            \n",
       "Whopper                     28       660\n",
       "Cheese Whopper              32       740\n",
       "Double Whopper              48       900\n",
       "Double Cheese Whopper       52       980\n",
       "Bacon King                  61      1150\n",
       "Single Stacker King         35       700\n",
       "Double Stacker King         61      1050\n",
       "Crispy Chicken              23       670"
      ]
     },
     "execution_count": 91,
     "metadata": {},
     "output_type": "execute_result"
    }
   ],
   "source": [
    "# 4. loc로 행과 열 동시 선택\n",
    "burger_df.loc[burger_df['calories'] > 500, ['protein', 'calories']]\n",
    "# → 'calories'가 500 초과인 행 중에서\n",
    "#    'protein', 'calories' 두 컬럼만 추출 (행 조건 + 열 선택)"
   ]
  },
  {
   "cell_type": "code",
   "execution_count": 92,
   "id": "a4b2ff92-30f9-4a9c-abfa-61028cd1dde6",
   "metadata": {},
   "outputs": [
    {
     "data": {
      "text/plain": [
       "product_name\n",
       "Whopper Junior           13\n",
       "Hamburger                13\n",
       "Cheeseburger             15\n",
       "Double Hamburger         21\n",
       "Double Cheeseburger      23\n",
       "Chicken Nuggets           8\n",
       "Spicy Chicken Nuggets     8\n",
       "Name: protein, dtype: int64"
      ]
     },
     "execution_count": 92,
     "metadata": {},
     "output_type": "execute_result"
    }
   ],
   "source": [
    "burger_df.loc[burger_df['calories'] < 500, 'protein']\n",
    "# → 'calories' 값이 500미만인 행만 선택, 볼 칼럼 지정"
   ]
  },
  {
   "cell_type": "code",
   "execution_count": 93,
   "id": "10f2300b-6dad-4ba9-9d08-8de896cadcaf",
   "metadata": {},
   "outputs": [
    {
     "data": {
      "text/html": [
       "<div>\n",
       "<style scoped>\n",
       "    .dataframe tbody tr th:only-of-type {\n",
       "        vertical-align: middle;\n",
       "    }\n",
       "\n",
       "    .dataframe tbody tr th {\n",
       "        vertical-align: top;\n",
       "    }\n",
       "\n",
       "    .dataframe thead th {\n",
       "        text-align: right;\n",
       "    }\n",
       "</style>\n",
       "<table border=\"1\" class=\"dataframe\">\n",
       "  <thead>\n",
       "    <tr style=\"text-align: right;\">\n",
       "      <th></th>\n",
       "      <th>protein</th>\n",
       "      <th>fat</th>\n",
       "    </tr>\n",
       "    <tr>\n",
       "      <th>product_name</th>\n",
       "      <th></th>\n",
       "      <th></th>\n",
       "    </tr>\n",
       "  </thead>\n",
       "  <tbody>\n",
       "    <tr>\n",
       "      <th>Whopper Junior</th>\n",
       "      <td>13</td>\n",
       "      <td>18</td>\n",
       "    </tr>\n",
       "    <tr>\n",
       "      <th>Hamburger</th>\n",
       "      <td>13</td>\n",
       "      <td>10</td>\n",
       "    </tr>\n",
       "    <tr>\n",
       "      <th>Cheeseburger</th>\n",
       "      <td>15</td>\n",
       "      <td>13</td>\n",
       "    </tr>\n",
       "    <tr>\n",
       "      <th>Double Hamburger</th>\n",
       "      <td>21</td>\n",
       "      <td>18</td>\n",
       "    </tr>\n",
       "    <tr>\n",
       "      <th>Double Cheeseburger</th>\n",
       "      <td>23</td>\n",
       "      <td>21</td>\n",
       "    </tr>\n",
       "    <tr>\n",
       "      <th>Chicken Nuggets</th>\n",
       "      <td>8</td>\n",
       "      <td>11</td>\n",
       "    </tr>\n",
       "    <tr>\n",
       "      <th>Spicy Chicken Nuggets</th>\n",
       "      <td>8</td>\n",
       "      <td>15</td>\n",
       "    </tr>\n",
       "  </tbody>\n",
       "</table>\n",
       "</div>"
      ],
      "text/plain": [
       "                       protein  fat\n",
       "product_name                       \n",
       "Whopper Junior              13   18\n",
       "Hamburger                   13   10\n",
       "Cheeseburger                15   13\n",
       "Double Hamburger            21   18\n",
       "Double Cheeseburger         23   21\n",
       "Chicken Nuggets              8   11\n",
       "Spicy Chicken Nuggets        8   15"
      ]
     },
     "execution_count": 93,
     "metadata": {},
     "output_type": "execute_result"
    }
   ],
   "source": [
    "burger_df.loc[burger_df['calories'] < 500, ['protein', 'fat']]\n",
    "# → 'calories' 값이 500미만인 행만 선택, 볼 칼럼 지정"
   ]
  },
  {
   "cell_type": "code",
   "execution_count": 94,
   "id": "a4928ac7-b5c0-499e-8eb6-f50b1610b8ed",
   "metadata": {},
   "outputs": [
    {
     "data": {
      "text/html": [
       "<div>\n",
       "<style scoped>\n",
       "    .dataframe tbody tr th:only-of-type {\n",
       "        vertical-align: middle;\n",
       "    }\n",
       "\n",
       "    .dataframe tbody tr th {\n",
       "        vertical-align: top;\n",
       "    }\n",
       "\n",
       "    .dataframe thead th {\n",
       "        text-align: right;\n",
       "    }\n",
       "</style>\n",
       "<table border=\"1\" class=\"dataframe\">\n",
       "  <thead>\n",
       "    <tr style=\"text-align: right;\">\n",
       "      <th></th>\n",
       "      <th>protein</th>\n",
       "      <th>fat</th>\n",
       "      <th>sodium</th>\n",
       "      <th>category</th>\n",
       "    </tr>\n",
       "    <tr>\n",
       "      <th>product_name</th>\n",
       "      <th></th>\n",
       "      <th></th>\n",
       "      <th></th>\n",
       "      <th></th>\n",
       "    </tr>\n",
       "  </thead>\n",
       "  <tbody>\n",
       "    <tr>\n",
       "      <th>Whopper Junior</th>\n",
       "      <td>13</td>\n",
       "      <td>18</td>\n",
       "      <td>0.4</td>\n",
       "      <td>Burgers</td>\n",
       "    </tr>\n",
       "    <tr>\n",
       "      <th>Hamburger</th>\n",
       "      <td>13</td>\n",
       "      <td>10</td>\n",
       "      <td>0.4</td>\n",
       "      <td>Burgers</td>\n",
       "    </tr>\n",
       "    <tr>\n",
       "      <th>Cheeseburger</th>\n",
       "      <td>15</td>\n",
       "      <td>13</td>\n",
       "      <td>0.6</td>\n",
       "      <td>Burgers</td>\n",
       "    </tr>\n",
       "    <tr>\n",
       "      <th>Double Hamburger</th>\n",
       "      <td>21</td>\n",
       "      <td>18</td>\n",
       "      <td>0.4</td>\n",
       "      <td>Burgers</td>\n",
       "    </tr>\n",
       "    <tr>\n",
       "      <th>Double Cheeseburger</th>\n",
       "      <td>23</td>\n",
       "      <td>21</td>\n",
       "      <td>0.6</td>\n",
       "      <td>Burgers</td>\n",
       "    </tr>\n",
       "    <tr>\n",
       "      <th>Chicken Nuggets</th>\n",
       "      <td>8</td>\n",
       "      <td>11</td>\n",
       "      <td>0.3</td>\n",
       "      <td>Chicken</td>\n",
       "    </tr>\n",
       "    <tr>\n",
       "      <th>Spicy Chicken Nuggets</th>\n",
       "      <td>8</td>\n",
       "      <td>15</td>\n",
       "      <td>0.6</td>\n",
       "      <td>Chicken</td>\n",
       "    </tr>\n",
       "  </tbody>\n",
       "</table>\n",
       "</div>"
      ],
      "text/plain": [
       "                       protein  fat  sodium category\n",
       "product_name                                        \n",
       "Whopper Junior              13   18     0.4  Burgers\n",
       "Hamburger                   13   10     0.4  Burgers\n",
       "Cheeseburger                15   13     0.6  Burgers\n",
       "Double Hamburger            21   18     0.4  Burgers\n",
       "Double Cheeseburger         23   21     0.6  Burgers\n",
       "Chicken Nuggets              8   11     0.3  Chicken\n",
       "Spicy Chicken Nuggets        8   15     0.6  Chicken"
      ]
     },
     "execution_count": 94,
     "metadata": {},
     "output_type": "execute_result"
    }
   ],
   "source": [
    "burger_df.loc[burger_df['calories'] < 500, 'protein': 'category']\n",
    "# → 'calories' 값이 500미만인 행만 선택, 볼 칼럼 지정"
   ]
  },
  {
   "cell_type": "code",
   "execution_count": 95,
   "id": "9bdafe29-07f3-463e-afda-2cbf162b7bfe",
   "metadata": {},
   "outputs": [
    {
     "data": {
      "text/plain": [
       "np.float64(nan)"
      ]
     },
     "execution_count": 95,
     "metadata": {},
     "output_type": "execute_result"
    }
   ],
   "source": [
    "#09. 데이터 수정 및 추가하기\n",
    "# 1. 특정 행/열 값 조회\n",
    "burger_df.loc['Double Stacker King', 'sodium']\n",
    "# → 'Double Stacker King' 행의 'sodium'(염분) 값 조회"
   ]
  },
  {
   "cell_type": "code",
   "execution_count": 96,
   "id": "3ddb3743-4162-483d-a7df-99fd19ce7150",
   "metadata": {},
   "outputs": [],
   "source": [
    "# 2. 특정 행/열 값 수정\n",
    "burger_df.loc['Double Stacker King', 'sodium'] = 1.9\n",
    "# → 'Double Stacker King' 행의 'sodium' 값을 1.9로 변경"
   ]
  },
  {
   "cell_type": "code",
   "execution_count": 97,
   "id": "284779fb-785a-4c56-b83d-47e87c1d5c1f",
   "metadata": {},
   "outputs": [
    {
     "data": {
      "text/plain": [
       "np.float64(1.9)"
      ]
     },
     "execution_count": 97,
     "metadata": {},
     "output_type": "execute_result"
    }
   ],
   "source": [
    "# 3. 수정된 값 확인\n",
    "burger_df.loc['Double Stacker King', 'sodium']\n",
    "# → 수정된 'sodium' 값이 정상적으로 반영되었는지 확인"
   ]
  },
  {
   "cell_type": "code",
   "execution_count": 98,
   "id": "fb67bc0c-e08a-4e21-a38c-e2143eaad871",
   "metadata": {},
   "outputs": [
    {
     "data": {
      "text/html": [
       "<div>\n",
       "<style scoped>\n",
       "    .dataframe tbody tr th:only-of-type {\n",
       "        vertical-align: middle;\n",
       "    }\n",
       "\n",
       "    .dataframe tbody tr th {\n",
       "        vertical-align: top;\n",
       "    }\n",
       "\n",
       "    .dataframe thead th {\n",
       "        text-align: right;\n",
       "    }\n",
       "</style>\n",
       "<table border=\"1\" class=\"dataframe\">\n",
       "  <thead>\n",
       "    <tr style=\"text-align: right;\">\n",
       "      <th></th>\n",
       "      <th>calories</th>\n",
       "      <th>carb</th>\n",
       "      <th>protein</th>\n",
       "      <th>fat</th>\n",
       "      <th>sodium</th>\n",
       "      <th>category</th>\n",
       "    </tr>\n",
       "    <tr>\n",
       "      <th>product_name</th>\n",
       "      <th></th>\n",
       "      <th></th>\n",
       "      <th></th>\n",
       "      <th></th>\n",
       "      <th></th>\n",
       "      <th></th>\n",
       "    </tr>\n",
       "  </thead>\n",
       "  <tbody>\n",
       "    <tr>\n",
       "      <th>Whopper</th>\n",
       "      <td>660</td>\n",
       "      <td>49</td>\n",
       "      <td>28</td>\n",
       "      <td>40</td>\n",
       "      <td>1.0</td>\n",
       "      <td>Burgers</td>\n",
       "    </tr>\n",
       "    <tr>\n",
       "      <th>Cheese Whopper</th>\n",
       "      <td>740</td>\n",
       "      <td>50</td>\n",
       "      <td>32</td>\n",
       "      <td>46</td>\n",
       "      <td>1.3</td>\n",
       "      <td>Burgers</td>\n",
       "    </tr>\n",
       "    <tr>\n",
       "      <th>Double Whopper</th>\n",
       "      <td>900</td>\n",
       "      <td>49</td>\n",
       "      <td>48</td>\n",
       "      <td>58</td>\n",
       "      <td>1.0</td>\n",
       "      <td>Burgers</td>\n",
       "    </tr>\n",
       "    <tr>\n",
       "      <th>Double Cheese Whopper</th>\n",
       "      <td>980</td>\n",
       "      <td>50</td>\n",
       "      <td>52</td>\n",
       "      <td>64</td>\n",
       "      <td>1.4</td>\n",
       "      <td>Burgers</td>\n",
       "    </tr>\n",
       "    <tr>\n",
       "      <th>Whopper Junior</th>\n",
       "      <td>310</td>\n",
       "      <td>27</td>\n",
       "      <td>13</td>\n",
       "      <td>18</td>\n",
       "      <td>0.4</td>\n",
       "      <td>Burgers</td>\n",
       "    </tr>\n",
       "    <tr>\n",
       "      <th>Bacon King</th>\n",
       "      <td>1150</td>\n",
       "      <td>49</td>\n",
       "      <td>61</td>\n",
       "      <td>79</td>\n",
       "      <td>2.2</td>\n",
       "      <td>Burgers</td>\n",
       "    </tr>\n",
       "    <tr>\n",
       "      <th>Single Stacker King</th>\n",
       "      <td>700</td>\n",
       "      <td>48</td>\n",
       "      <td>35</td>\n",
       "      <td>42</td>\n",
       "      <td>1.4</td>\n",
       "      <td>Burgers</td>\n",
       "    </tr>\n",
       "    <tr>\n",
       "      <th>Double Stacker King</th>\n",
       "      <td>1050</td>\n",
       "      <td>49</td>\n",
       "      <td>61</td>\n",
       "      <td>68</td>\n",
       "      <td>1.9</td>\n",
       "      <td>Burgers</td>\n",
       "    </tr>\n",
       "    <tr>\n",
       "      <th>Hamburger</th>\n",
       "      <td>240</td>\n",
       "      <td>26</td>\n",
       "      <td>13</td>\n",
       "      <td>10</td>\n",
       "      <td>0.4</td>\n",
       "      <td>Burgers</td>\n",
       "    </tr>\n",
       "    <tr>\n",
       "      <th>Cheeseburger</th>\n",
       "      <td>280</td>\n",
       "      <td>27</td>\n",
       "      <td>15</td>\n",
       "      <td>13</td>\n",
       "      <td>0.6</td>\n",
       "      <td>Burgers</td>\n",
       "    </tr>\n",
       "    <tr>\n",
       "      <th>Double Hamburger</th>\n",
       "      <td>350</td>\n",
       "      <td>26</td>\n",
       "      <td>21</td>\n",
       "      <td>18</td>\n",
       "      <td>0.4</td>\n",
       "      <td>Burgers</td>\n",
       "    </tr>\n",
       "    <tr>\n",
       "      <th>Double Cheeseburger</th>\n",
       "      <td>390</td>\n",
       "      <td>27</td>\n",
       "      <td>23</td>\n",
       "      <td>21</td>\n",
       "      <td>0.6</td>\n",
       "      <td>Burgers</td>\n",
       "    </tr>\n",
       "    <tr>\n",
       "      <th>Crispy Chicken</th>\n",
       "      <td>670</td>\n",
       "      <td>54</td>\n",
       "      <td>23</td>\n",
       "      <td>41</td>\n",
       "      <td>1.1</td>\n",
       "      <td>Chicken</td>\n",
       "    </tr>\n",
       "    <tr>\n",
       "      <th>Chicken Nuggets</th>\n",
       "      <td>170</td>\n",
       "      <td>11</td>\n",
       "      <td>8</td>\n",
       "      <td>11</td>\n",
       "      <td>0.3</td>\n",
       "      <td>Chicken</td>\n",
       "    </tr>\n",
       "    <tr>\n",
       "      <th>Spicy Chicken Nuggets</th>\n",
       "      <td>210</td>\n",
       "      <td>11</td>\n",
       "      <td>8</td>\n",
       "      <td>15</td>\n",
       "      <td>0.6</td>\n",
       "      <td>Chicken</td>\n",
       "    </tr>\n",
       "  </tbody>\n",
       "</table>\n",
       "</div>"
      ],
      "text/plain": [
       "                       calories  carb  protein  fat  sodium category\n",
       "product_name                                                        \n",
       "Whopper                     660    49       28   40     1.0  Burgers\n",
       "Cheese Whopper              740    50       32   46     1.3  Burgers\n",
       "Double Whopper              900    49       48   58     1.0  Burgers\n",
       "Double Cheese Whopper       980    50       52   64     1.4  Burgers\n",
       "Whopper Junior              310    27       13   18     0.4  Burgers\n",
       "Bacon King                 1150    49       61   79     2.2  Burgers\n",
       "Single Stacker King         700    48       35   42     1.4  Burgers\n",
       "Double Stacker King        1050    49       61   68     1.9  Burgers\n",
       "Hamburger                   240    26       13   10     0.4  Burgers\n",
       "Cheeseburger                280    27       15   13     0.6  Burgers\n",
       "Double Hamburger            350    26       21   18     0.4  Burgers\n",
       "Double Cheeseburger         390    27       23   21     0.6  Burgers\n",
       "Crispy Chicken              670    54       23   41     1.1  Chicken\n",
       "Chicken Nuggets             170    11        8   11     0.3  Chicken\n",
       "Spicy Chicken Nuggets       210    11        8   15     0.6  Chicken"
      ]
     },
     "execution_count": 98,
     "metadata": {},
     "output_type": "execute_result"
    }
   ],
   "source": [
    "# 4. 전체 데이터프레임 확인\n",
    "burger_df\n",
    "# → 데이터프레임 전체 내용 출력"
   ]
  },
  {
   "cell_type": "code",
   "execution_count": 99,
   "id": "a88d57fe-ecca-4440-bab2-a213698622bb",
   "metadata": {},
   "outputs": [
    {
     "data": {
      "text/plain": [
       "calories        280\n",
       "carb             27\n",
       "protein          15\n",
       "fat              13\n",
       "sodium          0.6\n",
       "category    Burgers\n",
       "Name: Cheeseburger, dtype: object"
      ]
     },
     "execution_count": 99,
     "metadata": {},
     "output_type": "execute_result"
    }
   ],
   "source": [
    "# 5. 특정 행(버거) 정보 조회\n",
    "burger_df.loc['Cheeseburger']\n",
    "# → 'Cheeseburger' 행의 모든 정보 조회"
   ]
  },
  {
   "cell_type": "code",
   "execution_count": 100,
   "id": "07ddee28-637d-4925-8d76-b81a6aefcb99",
   "metadata": {},
   "outputs": [
    {
     "data": {
      "text/html": [
       "<div>\n",
       "<style scoped>\n",
       "    .dataframe tbody tr th:only-of-type {\n",
       "        vertical-align: middle;\n",
       "    }\n",
       "\n",
       "    .dataframe tbody tr th {\n",
       "        vertical-align: top;\n",
       "    }\n",
       "\n",
       "    .dataframe thead th {\n",
       "        text-align: right;\n",
       "    }\n",
       "</style>\n",
       "<table border=\"1\" class=\"dataframe\">\n",
       "  <thead>\n",
       "    <tr style=\"text-align: right;\">\n",
       "      <th></th>\n",
       "      <th>calories</th>\n",
       "      <th>carb</th>\n",
       "      <th>protein</th>\n",
       "      <th>fat</th>\n",
       "      <th>sodium</th>\n",
       "      <th>category</th>\n",
       "    </tr>\n",
       "    <tr>\n",
       "      <th>product_name</th>\n",
       "      <th></th>\n",
       "      <th></th>\n",
       "      <th></th>\n",
       "      <th></th>\n",
       "      <th></th>\n",
       "      <th></th>\n",
       "    </tr>\n",
       "  </thead>\n",
       "  <tbody>\n",
       "    <tr>\n",
       "      <th>Whopper</th>\n",
       "      <td>660</td>\n",
       "      <td>49</td>\n",
       "      <td>28</td>\n",
       "      <td>40</td>\n",
       "      <td>1.0</td>\n",
       "      <td>Burgers</td>\n",
       "    </tr>\n",
       "    <tr>\n",
       "      <th>Cheese Whopper</th>\n",
       "      <td>740</td>\n",
       "      <td>50</td>\n",
       "      <td>32</td>\n",
       "      <td>46</td>\n",
       "      <td>1.3</td>\n",
       "      <td>Burgers</td>\n",
       "    </tr>\n",
       "    <tr>\n",
       "      <th>Double Whopper</th>\n",
       "      <td>900</td>\n",
       "      <td>49</td>\n",
       "      <td>48</td>\n",
       "      <td>58</td>\n",
       "      <td>1.0</td>\n",
       "      <td>Burgers</td>\n",
       "    </tr>\n",
       "    <tr>\n",
       "      <th>Double Cheese Whopper</th>\n",
       "      <td>980</td>\n",
       "      <td>50</td>\n",
       "      <td>52</td>\n",
       "      <td>64</td>\n",
       "      <td>1.4</td>\n",
       "      <td>Burgers</td>\n",
       "    </tr>\n",
       "    <tr>\n",
       "      <th>Whopper Junior</th>\n",
       "      <td>310</td>\n",
       "      <td>27</td>\n",
       "      <td>13</td>\n",
       "      <td>18</td>\n",
       "      <td>0.4</td>\n",
       "      <td>Burgers</td>\n",
       "    </tr>\n",
       "    <tr>\n",
       "      <th>Bacon King</th>\n",
       "      <td>1150</td>\n",
       "      <td>49</td>\n",
       "      <td>61</td>\n",
       "      <td>79</td>\n",
       "      <td>2.2</td>\n",
       "      <td>Burgers</td>\n",
       "    </tr>\n",
       "    <tr>\n",
       "      <th>Single Stacker King</th>\n",
       "      <td>700</td>\n",
       "      <td>48</td>\n",
       "      <td>35</td>\n",
       "      <td>42</td>\n",
       "      <td>1.4</td>\n",
       "      <td>Burgers</td>\n",
       "    </tr>\n",
       "    <tr>\n",
       "      <th>Double Stacker King</th>\n",
       "      <td>1050</td>\n",
       "      <td>49</td>\n",
       "      <td>61</td>\n",
       "      <td>68</td>\n",
       "      <td>1.9</td>\n",
       "      <td>Burgers</td>\n",
       "    </tr>\n",
       "    <tr>\n",
       "      <th>Hamburger</th>\n",
       "      <td>240</td>\n",
       "      <td>26</td>\n",
       "      <td>13</td>\n",
       "      <td>10</td>\n",
       "      <td>0.4</td>\n",
       "      <td>Burgers</td>\n",
       "    </tr>\n",
       "    <tr>\n",
       "      <th>Cheeseburger</th>\n",
       "      <td>360</td>\n",
       "      <td>24</td>\n",
       "      <td>18</td>\n",
       "      <td>21</td>\n",
       "      <td>0.7</td>\n",
       "      <td>Burger</td>\n",
       "    </tr>\n",
       "    <tr>\n",
       "      <th>Double Hamburger</th>\n",
       "      <td>350</td>\n",
       "      <td>26</td>\n",
       "      <td>21</td>\n",
       "      <td>18</td>\n",
       "      <td>0.4</td>\n",
       "      <td>Burgers</td>\n",
       "    </tr>\n",
       "    <tr>\n",
       "      <th>Double Cheeseburger</th>\n",
       "      <td>390</td>\n",
       "      <td>27</td>\n",
       "      <td>23</td>\n",
       "      <td>21</td>\n",
       "      <td>0.6</td>\n",
       "      <td>Burgers</td>\n",
       "    </tr>\n",
       "    <tr>\n",
       "      <th>Crispy Chicken</th>\n",
       "      <td>670</td>\n",
       "      <td>54</td>\n",
       "      <td>23</td>\n",
       "      <td>41</td>\n",
       "      <td>1.1</td>\n",
       "      <td>Chicken</td>\n",
       "    </tr>\n",
       "    <tr>\n",
       "      <th>Chicken Nuggets</th>\n",
       "      <td>170</td>\n",
       "      <td>11</td>\n",
       "      <td>8</td>\n",
       "      <td>11</td>\n",
       "      <td>0.3</td>\n",
       "      <td>Chicken</td>\n",
       "    </tr>\n",
       "    <tr>\n",
       "      <th>Spicy Chicken Nuggets</th>\n",
       "      <td>210</td>\n",
       "      <td>11</td>\n",
       "      <td>8</td>\n",
       "      <td>15</td>\n",
       "      <td>0.6</td>\n",
       "      <td>Chicken</td>\n",
       "    </tr>\n",
       "  </tbody>\n",
       "</table>\n",
       "</div>"
      ],
      "text/plain": [
       "                       calories  carb  protein  fat  sodium category\n",
       "product_name                                                        \n",
       "Whopper                     660    49       28   40     1.0  Burgers\n",
       "Cheese Whopper              740    50       32   46     1.3  Burgers\n",
       "Double Whopper              900    49       48   58     1.0  Burgers\n",
       "Double Cheese Whopper       980    50       52   64     1.4  Burgers\n",
       "Whopper Junior              310    27       13   18     0.4  Burgers\n",
       "Bacon King                 1150    49       61   79     2.2  Burgers\n",
       "Single Stacker King         700    48       35   42     1.4  Burgers\n",
       "Double Stacker King        1050    49       61   68     1.9  Burgers\n",
       "Hamburger                   240    26       13   10     0.4  Burgers\n",
       "Cheeseburger                360    24       18   21     0.7   Burger\n",
       "Double Hamburger            350    26       21   18     0.4  Burgers\n",
       "Double Cheeseburger         390    27       23   21     0.6  Burgers\n",
       "Crispy Chicken              670    54       23   41     1.1  Chicken\n",
       "Chicken Nuggets             170    11        8   11     0.3  Chicken\n",
       "Spicy Chicken Nuggets       210    11        8   15     0.6  Chicken"
      ]
     },
     "execution_count": 100,
     "metadata": {},
     "output_type": "execute_result"
    }
   ],
   "source": [
    "# 6. 특정 행(버거) 정보 통째로 수정\n",
    "burger_df.loc['Cheeseburger'] = [360,24,18,21,0.7,'Burger']\n",
    "# → 'Cheeseburger' 행의 모든 값을 한 번에 수정 (칼로리, 탄수화물, 단백질, 지방, 염분, 분류)\n",
    "# 7. 수정 결과 확인\n",
    "burger_df\n",
    "# → 데이터프레임 전체 내용 출력"
   ]
  },
  {
   "cell_type": "code",
   "execution_count": 101,
   "id": "20ac1c98-e3b8-4366-a739-fbd4fc2a70bb",
   "metadata": {},
   "outputs": [
    {
     "data": {
      "text/html": [
       "<div>\n",
       "<style scoped>\n",
       "    .dataframe tbody tr th:only-of-type {\n",
       "        vertical-align: middle;\n",
       "    }\n",
       "\n",
       "    .dataframe tbody tr th {\n",
       "        vertical-align: top;\n",
       "    }\n",
       "\n",
       "    .dataframe thead th {\n",
       "        text-align: right;\n",
       "    }\n",
       "</style>\n",
       "<table border=\"1\" class=\"dataframe\">\n",
       "  <thead>\n",
       "    <tr style=\"text-align: right;\">\n",
       "      <th></th>\n",
       "      <th>calories</th>\n",
       "      <th>carb</th>\n",
       "      <th>protein</th>\n",
       "      <th>fat</th>\n",
       "      <th>sodium</th>\n",
       "      <th>category</th>\n",
       "    </tr>\n",
       "    <tr>\n",
       "      <th>product_name</th>\n",
       "      <th></th>\n",
       "      <th></th>\n",
       "      <th></th>\n",
       "      <th></th>\n",
       "      <th></th>\n",
       "      <th></th>\n",
       "    </tr>\n",
       "  </thead>\n",
       "  <tbody>\n",
       "    <tr>\n",
       "      <th>Whopper</th>\n",
       "      <td>660</td>\n",
       "      <td>49</td>\n",
       "      <td>28</td>\n",
       "      <td>40</td>\n",
       "      <td>1</td>\n",
       "      <td>Burgers</td>\n",
       "    </tr>\n",
       "    <tr>\n",
       "      <th>Cheese Whopper</th>\n",
       "      <td>740</td>\n",
       "      <td>50</td>\n",
       "      <td>32</td>\n",
       "      <td>46</td>\n",
       "      <td>1</td>\n",
       "      <td>Burgers</td>\n",
       "    </tr>\n",
       "    <tr>\n",
       "      <th>Double Whopper</th>\n",
       "      <td>900</td>\n",
       "      <td>49</td>\n",
       "      <td>48</td>\n",
       "      <td>58</td>\n",
       "      <td>1</td>\n",
       "      <td>Burgers</td>\n",
       "    </tr>\n",
       "    <tr>\n",
       "      <th>Double Cheese Whopper</th>\n",
       "      <td>980</td>\n",
       "      <td>50</td>\n",
       "      <td>52</td>\n",
       "      <td>64</td>\n",
       "      <td>1</td>\n",
       "      <td>Burgers</td>\n",
       "    </tr>\n",
       "    <tr>\n",
       "      <th>Whopper Junior</th>\n",
       "      <td>310</td>\n",
       "      <td>27</td>\n",
       "      <td>13</td>\n",
       "      <td>18</td>\n",
       "      <td>1</td>\n",
       "      <td>Burgers</td>\n",
       "    </tr>\n",
       "    <tr>\n",
       "      <th>Bacon King</th>\n",
       "      <td>1150</td>\n",
       "      <td>49</td>\n",
       "      <td>61</td>\n",
       "      <td>79</td>\n",
       "      <td>1</td>\n",
       "      <td>Burgers</td>\n",
       "    </tr>\n",
       "    <tr>\n",
       "      <th>Single Stacker King</th>\n",
       "      <td>700</td>\n",
       "      <td>48</td>\n",
       "      <td>35</td>\n",
       "      <td>42</td>\n",
       "      <td>1</td>\n",
       "      <td>Burgers</td>\n",
       "    </tr>\n",
       "    <tr>\n",
       "      <th>Double Stacker King</th>\n",
       "      <td>1050</td>\n",
       "      <td>49</td>\n",
       "      <td>61</td>\n",
       "      <td>68</td>\n",
       "      <td>1</td>\n",
       "      <td>Burgers</td>\n",
       "    </tr>\n",
       "    <tr>\n",
       "      <th>Hamburger</th>\n",
       "      <td>240</td>\n",
       "      <td>26</td>\n",
       "      <td>13</td>\n",
       "      <td>10</td>\n",
       "      <td>1</td>\n",
       "      <td>Burgers</td>\n",
       "    </tr>\n",
       "    <tr>\n",
       "      <th>Cheeseburger</th>\n",
       "      <td>360</td>\n",
       "      <td>24</td>\n",
       "      <td>18</td>\n",
       "      <td>21</td>\n",
       "      <td>1</td>\n",
       "      <td>Burger</td>\n",
       "    </tr>\n",
       "    <tr>\n",
       "      <th>Double Hamburger</th>\n",
       "      <td>350</td>\n",
       "      <td>26</td>\n",
       "      <td>21</td>\n",
       "      <td>18</td>\n",
       "      <td>1</td>\n",
       "      <td>Burgers</td>\n",
       "    </tr>\n",
       "    <tr>\n",
       "      <th>Double Cheeseburger</th>\n",
       "      <td>390</td>\n",
       "      <td>27</td>\n",
       "      <td>23</td>\n",
       "      <td>21</td>\n",
       "      <td>1</td>\n",
       "      <td>Burgers</td>\n",
       "    </tr>\n",
       "    <tr>\n",
       "      <th>Crispy Chicken</th>\n",
       "      <td>670</td>\n",
       "      <td>54</td>\n",
       "      <td>23</td>\n",
       "      <td>41</td>\n",
       "      <td>1</td>\n",
       "      <td>Chicken</td>\n",
       "    </tr>\n",
       "    <tr>\n",
       "      <th>Chicken Nuggets</th>\n",
       "      <td>170</td>\n",
       "      <td>11</td>\n",
       "      <td>8</td>\n",
       "      <td>11</td>\n",
       "      <td>1</td>\n",
       "      <td>Chicken</td>\n",
       "    </tr>\n",
       "    <tr>\n",
       "      <th>Spicy Chicken Nuggets</th>\n",
       "      <td>210</td>\n",
       "      <td>11</td>\n",
       "      <td>8</td>\n",
       "      <td>15</td>\n",
       "      <td>1</td>\n",
       "      <td>Chicken</td>\n",
       "    </tr>\n",
       "  </tbody>\n",
       "</table>\n",
       "</div>"
      ],
      "text/plain": [
       "                       calories  carb  protein  fat  sodium category\n",
       "product_name                                                        \n",
       "Whopper                     660    49       28   40       1  Burgers\n",
       "Cheese Whopper              740    50       32   46       1  Burgers\n",
       "Double Whopper              900    49       48   58       1  Burgers\n",
       "Double Cheese Whopper       980    50       52   64       1  Burgers\n",
       "Whopper Junior              310    27       13   18       1  Burgers\n",
       "Bacon King                 1150    49       61   79       1  Burgers\n",
       "Single Stacker King         700    48       35   42       1  Burgers\n",
       "Double Stacker King        1050    49       61   68       1  Burgers\n",
       "Hamburger                   240    26       13   10       1  Burgers\n",
       "Cheeseburger                360    24       18   21       1   Burger\n",
       "Double Hamburger            350    26       21   18       1  Burgers\n",
       "Double Cheeseburger         390    27       23   21       1  Burgers\n",
       "Crispy Chicken              670    54       23   41       1  Chicken\n",
       "Chicken Nuggets             170    11        8   11       1  Chicken\n",
       "Spicy Chicken Nuggets       210    11        8   15       1  Chicken"
      ]
     },
     "execution_count": 101,
     "metadata": {},
     "output_type": "execute_result"
    }
   ],
   "source": [
    "# 8. 전체 행의 특정 컬럼 값 일괄 변경\n",
    "burger_df['sodium'] = 1\n",
    "# → 모든 행의 'sodium'(염분) 값을 1로 변경\n",
    "# 9. 변경 결과 확인\n",
    "burger_df\n",
    "# → 데이터프레임 전체 내용 출력"
   ]
  },
  {
   "cell_type": "code",
   "execution_count": 102,
   "id": "02eea075-1ac2-488b-93d9-02063c945573",
   "metadata": {},
   "outputs": [
    {
     "data": {
      "text/html": [
       "<div>\n",
       "<style scoped>\n",
       "    .dataframe tbody tr th:only-of-type {\n",
       "        vertical-align: middle;\n",
       "    }\n",
       "\n",
       "    .dataframe tbody tr th {\n",
       "        vertical-align: top;\n",
       "    }\n",
       "\n",
       "    .dataframe thead th {\n",
       "        text-align: right;\n",
       "    }\n",
       "</style>\n",
       "<table border=\"1\" class=\"dataframe\">\n",
       "  <thead>\n",
       "    <tr style=\"text-align: right;\">\n",
       "      <th></th>\n",
       "      <th>calories</th>\n",
       "      <th>carb</th>\n",
       "      <th>protein</th>\n",
       "      <th>fat</th>\n",
       "      <th>sodium</th>\n",
       "      <th>category</th>\n",
       "    </tr>\n",
       "    <tr>\n",
       "      <th>product_name</th>\n",
       "      <th></th>\n",
       "      <th></th>\n",
       "      <th></th>\n",
       "      <th></th>\n",
       "      <th></th>\n",
       "      <th></th>\n",
       "    </tr>\n",
       "  </thead>\n",
       "  <tbody>\n",
       "    <tr>\n",
       "      <th>Whopper</th>\n",
       "      <td>660</td>\n",
       "      <td>49</td>\n",
       "      <td>28</td>\n",
       "      <td>40</td>\n",
       "      <td>1.0</td>\n",
       "      <td>Burgers</td>\n",
       "    </tr>\n",
       "    <tr>\n",
       "      <th>Cheese Whopper</th>\n",
       "      <td>740</td>\n",
       "      <td>50</td>\n",
       "      <td>32</td>\n",
       "      <td>46</td>\n",
       "      <td>1.0</td>\n",
       "      <td>Burgers</td>\n",
       "    </tr>\n",
       "    <tr>\n",
       "      <th>Double Whopper</th>\n",
       "      <td>900</td>\n",
       "      <td>49</td>\n",
       "      <td>48</td>\n",
       "      <td>58</td>\n",
       "      <td>1.0</td>\n",
       "      <td>Burgers</td>\n",
       "    </tr>\n",
       "    <tr>\n",
       "      <th>Double Cheese Whopper</th>\n",
       "      <td>980</td>\n",
       "      <td>50</td>\n",
       "      <td>52</td>\n",
       "      <td>64</td>\n",
       "      <td>1.0</td>\n",
       "      <td>Burgers</td>\n",
       "    </tr>\n",
       "    <tr>\n",
       "      <th>Whopper Junior</th>\n",
       "      <td>310</td>\n",
       "      <td>27</td>\n",
       "      <td>13</td>\n",
       "      <td>18</td>\n",
       "      <td>1.0</td>\n",
       "      <td>Burgers</td>\n",
       "    </tr>\n",
       "    <tr>\n",
       "      <th>Bacon King</th>\n",
       "      <td>1150</td>\n",
       "      <td>49</td>\n",
       "      <td>61</td>\n",
       "      <td>79</td>\n",
       "      <td>1.0</td>\n",
       "      <td>Burgers</td>\n",
       "    </tr>\n",
       "    <tr>\n",
       "      <th>Single Stacker King</th>\n",
       "      <td>700</td>\n",
       "      <td>48</td>\n",
       "      <td>35</td>\n",
       "      <td>42</td>\n",
       "      <td>1.0</td>\n",
       "      <td>Burgers</td>\n",
       "    </tr>\n",
       "    <tr>\n",
       "      <th>Double Stacker King</th>\n",
       "      <td>1050</td>\n",
       "      <td>49</td>\n",
       "      <td>61</td>\n",
       "      <td>68</td>\n",
       "      <td>1.0</td>\n",
       "      <td>Burgers</td>\n",
       "    </tr>\n",
       "    <tr>\n",
       "      <th>Hamburger</th>\n",
       "      <td>240</td>\n",
       "      <td>26</td>\n",
       "      <td>13</td>\n",
       "      <td>10</td>\n",
       "      <td>1.0</td>\n",
       "      <td>Burgers</td>\n",
       "    </tr>\n",
       "    <tr>\n",
       "      <th>Cheeseburger</th>\n",
       "      <td>360</td>\n",
       "      <td>24</td>\n",
       "      <td>18</td>\n",
       "      <td>21</td>\n",
       "      <td>1.0</td>\n",
       "      <td>Burger</td>\n",
       "    </tr>\n",
       "    <tr>\n",
       "      <th>Double Hamburger</th>\n",
       "      <td>350</td>\n",
       "      <td>26</td>\n",
       "      <td>21</td>\n",
       "      <td>18</td>\n",
       "      <td>1.0</td>\n",
       "      <td>Burgers</td>\n",
       "    </tr>\n",
       "    <tr>\n",
       "      <th>Double Cheeseburger</th>\n",
       "      <td>390</td>\n",
       "      <td>27</td>\n",
       "      <td>23</td>\n",
       "      <td>21</td>\n",
       "      <td>1.0</td>\n",
       "      <td>Burgers</td>\n",
       "    </tr>\n",
       "    <tr>\n",
       "      <th>Crispy Chicken</th>\n",
       "      <td>670</td>\n",
       "      <td>54</td>\n",
       "      <td>23</td>\n",
       "      <td>41</td>\n",
       "      <td>1.0</td>\n",
       "      <td>Chicken</td>\n",
       "    </tr>\n",
       "    <tr>\n",
       "      <th>Chicken Nuggets</th>\n",
       "      <td>170</td>\n",
       "      <td>11</td>\n",
       "      <td>8</td>\n",
       "      <td>11</td>\n",
       "      <td>1.0</td>\n",
       "      <td>Chicken</td>\n",
       "    </tr>\n",
       "    <tr>\n",
       "      <th>Spicy Chicken Nuggets</th>\n",
       "      <td>210</td>\n",
       "      <td>11</td>\n",
       "      <td>8</td>\n",
       "      <td>15</td>\n",
       "      <td>1.0</td>\n",
       "      <td>Chicken</td>\n",
       "    </tr>\n",
       "    <tr>\n",
       "      <th>New Burger</th>\n",
       "      <td>1004</td>\n",
       "      <td>77</td>\n",
       "      <td>70</td>\n",
       "      <td>17</td>\n",
       "      <td>0.7</td>\n",
       "      <td>Burger</td>\n",
       "    </tr>\n",
       "  </tbody>\n",
       "</table>\n",
       "</div>"
      ],
      "text/plain": [
       "                       calories  carb  protein  fat  sodium category\n",
       "product_name                                                        \n",
       "Whopper                     660    49       28   40     1.0  Burgers\n",
       "Cheese Whopper              740    50       32   46     1.0  Burgers\n",
       "Double Whopper              900    49       48   58     1.0  Burgers\n",
       "Double Cheese Whopper       980    50       52   64     1.0  Burgers\n",
       "Whopper Junior              310    27       13   18     1.0  Burgers\n",
       "Bacon King                 1150    49       61   79     1.0  Burgers\n",
       "Single Stacker King         700    48       35   42     1.0  Burgers\n",
       "Double Stacker King        1050    49       61   68     1.0  Burgers\n",
       "Hamburger                   240    26       13   10     1.0  Burgers\n",
       "Cheeseburger                360    24       18   21     1.0   Burger\n",
       "Double Hamburger            350    26       21   18     1.0  Burgers\n",
       "Double Cheeseburger         390    27       23   21     1.0  Burgers\n",
       "Crispy Chicken              670    54       23   41     1.0  Chicken\n",
       "Chicken Nuggets             170    11        8   11     1.0  Chicken\n",
       "Spicy Chicken Nuggets       210    11        8   15     1.0  Chicken\n",
       "New Burger                 1004    77       70   17     0.7   Burger"
      ]
     },
     "execution_count": 102,
     "metadata": {},
     "output_type": "execute_result"
    }
   ],
   "source": [
    "# 10. 새로운 행(버거) 추가\n",
    "burger_df.loc['New Burger'] = [1004, 77, 70, 17, 0.7, 'Burger']\n",
    "# → 'New Burger'라는 행을 추가하고, 각 컬럼 값 지정\n",
    "# 11. 추가 결과 확인\n",
    "burger_df\n",
    "# → 데이터프레임 전체 내용 출력"
   ]
  },
  {
   "cell_type": "code",
   "execution_count": 103,
   "id": "48bc8d38-e5bb-416d-9bdb-66fad3f7f8d3",
   "metadata": {},
   "outputs": [
    {
     "data": {
      "text/html": [
       "<div>\n",
       "<style scoped>\n",
       "    .dataframe tbody tr th:only-of-type {\n",
       "        vertical-align: middle;\n",
       "    }\n",
       "\n",
       "    .dataframe tbody tr th {\n",
       "        vertical-align: top;\n",
       "    }\n",
       "\n",
       "    .dataframe thead th {\n",
       "        text-align: right;\n",
       "    }\n",
       "</style>\n",
       "<table border=\"1\" class=\"dataframe\">\n",
       "  <thead>\n",
       "    <tr style=\"text-align: right;\">\n",
       "      <th></th>\n",
       "      <th>calories</th>\n",
       "      <th>carb</th>\n",
       "      <th>protein</th>\n",
       "      <th>fat</th>\n",
       "      <th>sodium</th>\n",
       "      <th>category</th>\n",
       "      <th>brand</th>\n",
       "    </tr>\n",
       "    <tr>\n",
       "      <th>product_name</th>\n",
       "      <th></th>\n",
       "      <th></th>\n",
       "      <th></th>\n",
       "      <th></th>\n",
       "      <th></th>\n",
       "      <th></th>\n",
       "      <th></th>\n",
       "    </tr>\n",
       "  </thead>\n",
       "  <tbody>\n",
       "    <tr>\n",
       "      <th>Whopper</th>\n",
       "      <td>660</td>\n",
       "      <td>49</td>\n",
       "      <td>28</td>\n",
       "      <td>40</td>\n",
       "      <td>1.0</td>\n",
       "      <td>Burgers</td>\n",
       "      <td>Burger King</td>\n",
       "    </tr>\n",
       "    <tr>\n",
       "      <th>Cheese Whopper</th>\n",
       "      <td>740</td>\n",
       "      <td>50</td>\n",
       "      <td>32</td>\n",
       "      <td>46</td>\n",
       "      <td>1.0</td>\n",
       "      <td>Burgers</td>\n",
       "      <td>Burger King</td>\n",
       "    </tr>\n",
       "    <tr>\n",
       "      <th>Double Whopper</th>\n",
       "      <td>900</td>\n",
       "      <td>49</td>\n",
       "      <td>48</td>\n",
       "      <td>58</td>\n",
       "      <td>1.0</td>\n",
       "      <td>Burgers</td>\n",
       "      <td>Burger King</td>\n",
       "    </tr>\n",
       "    <tr>\n",
       "      <th>Double Cheese Whopper</th>\n",
       "      <td>980</td>\n",
       "      <td>50</td>\n",
       "      <td>52</td>\n",
       "      <td>64</td>\n",
       "      <td>1.0</td>\n",
       "      <td>Burgers</td>\n",
       "      <td>Burger King</td>\n",
       "    </tr>\n",
       "    <tr>\n",
       "      <th>Whopper Junior</th>\n",
       "      <td>310</td>\n",
       "      <td>27</td>\n",
       "      <td>13</td>\n",
       "      <td>18</td>\n",
       "      <td>1.0</td>\n",
       "      <td>Burgers</td>\n",
       "      <td>Burger King</td>\n",
       "    </tr>\n",
       "    <tr>\n",
       "      <th>Bacon King</th>\n",
       "      <td>1150</td>\n",
       "      <td>49</td>\n",
       "      <td>61</td>\n",
       "      <td>79</td>\n",
       "      <td>1.0</td>\n",
       "      <td>Burgers</td>\n",
       "      <td>Burger King</td>\n",
       "    </tr>\n",
       "    <tr>\n",
       "      <th>Single Stacker King</th>\n",
       "      <td>700</td>\n",
       "      <td>48</td>\n",
       "      <td>35</td>\n",
       "      <td>42</td>\n",
       "      <td>1.0</td>\n",
       "      <td>Burgers</td>\n",
       "      <td>Burger King</td>\n",
       "    </tr>\n",
       "    <tr>\n",
       "      <th>Double Stacker King</th>\n",
       "      <td>1050</td>\n",
       "      <td>49</td>\n",
       "      <td>61</td>\n",
       "      <td>68</td>\n",
       "      <td>1.0</td>\n",
       "      <td>Burgers</td>\n",
       "      <td>Burger King</td>\n",
       "    </tr>\n",
       "    <tr>\n",
       "      <th>Hamburger</th>\n",
       "      <td>240</td>\n",
       "      <td>26</td>\n",
       "      <td>13</td>\n",
       "      <td>10</td>\n",
       "      <td>1.0</td>\n",
       "      <td>Burgers</td>\n",
       "      <td>Burger King</td>\n",
       "    </tr>\n",
       "    <tr>\n",
       "      <th>Cheeseburger</th>\n",
       "      <td>360</td>\n",
       "      <td>24</td>\n",
       "      <td>18</td>\n",
       "      <td>21</td>\n",
       "      <td>1.0</td>\n",
       "      <td>Burger</td>\n",
       "      <td>Burger King</td>\n",
       "    </tr>\n",
       "    <tr>\n",
       "      <th>Double Hamburger</th>\n",
       "      <td>350</td>\n",
       "      <td>26</td>\n",
       "      <td>21</td>\n",
       "      <td>18</td>\n",
       "      <td>1.0</td>\n",
       "      <td>Burgers</td>\n",
       "      <td>Burger King</td>\n",
       "    </tr>\n",
       "    <tr>\n",
       "      <th>Double Cheeseburger</th>\n",
       "      <td>390</td>\n",
       "      <td>27</td>\n",
       "      <td>23</td>\n",
       "      <td>21</td>\n",
       "      <td>1.0</td>\n",
       "      <td>Burgers</td>\n",
       "      <td>Burger King</td>\n",
       "    </tr>\n",
       "    <tr>\n",
       "      <th>Crispy Chicken</th>\n",
       "      <td>670</td>\n",
       "      <td>54</td>\n",
       "      <td>23</td>\n",
       "      <td>41</td>\n",
       "      <td>1.0</td>\n",
       "      <td>Chicken</td>\n",
       "      <td>Burger King</td>\n",
       "    </tr>\n",
       "    <tr>\n",
       "      <th>Chicken Nuggets</th>\n",
       "      <td>170</td>\n",
       "      <td>11</td>\n",
       "      <td>8</td>\n",
       "      <td>11</td>\n",
       "      <td>1.0</td>\n",
       "      <td>Chicken</td>\n",
       "      <td>Burger King</td>\n",
       "    </tr>\n",
       "    <tr>\n",
       "      <th>Spicy Chicken Nuggets</th>\n",
       "      <td>210</td>\n",
       "      <td>11</td>\n",
       "      <td>8</td>\n",
       "      <td>15</td>\n",
       "      <td>1.0</td>\n",
       "      <td>Chicken</td>\n",
       "      <td>Burger King</td>\n",
       "    </tr>\n",
       "    <tr>\n",
       "      <th>New Burger</th>\n",
       "      <td>1004</td>\n",
       "      <td>77</td>\n",
       "      <td>70</td>\n",
       "      <td>17</td>\n",
       "      <td>0.7</td>\n",
       "      <td>Burger</td>\n",
       "      <td>Burger King</td>\n",
       "    </tr>\n",
       "  </tbody>\n",
       "</table>\n",
       "</div>"
      ],
      "text/plain": [
       "                       calories  carb  protein  fat  sodium category  \\\n",
       "product_name                                                           \n",
       "Whopper                     660    49       28   40     1.0  Burgers   \n",
       "Cheese Whopper              740    50       32   46     1.0  Burgers   \n",
       "Double Whopper              900    49       48   58     1.0  Burgers   \n",
       "Double Cheese Whopper       980    50       52   64     1.0  Burgers   \n",
       "Whopper Junior              310    27       13   18     1.0  Burgers   \n",
       "Bacon King                 1150    49       61   79     1.0  Burgers   \n",
       "Single Stacker King         700    48       35   42     1.0  Burgers   \n",
       "Double Stacker King        1050    49       61   68     1.0  Burgers   \n",
       "Hamburger                   240    26       13   10     1.0  Burgers   \n",
       "Cheeseburger                360    24       18   21     1.0   Burger   \n",
       "Double Hamburger            350    26       21   18     1.0  Burgers   \n",
       "Double Cheeseburger         390    27       23   21     1.0  Burgers   \n",
       "Crispy Chicken              670    54       23   41     1.0  Chicken   \n",
       "Chicken Nuggets             170    11        8   11     1.0  Chicken   \n",
       "Spicy Chicken Nuggets       210    11        8   15     1.0  Chicken   \n",
       "New Burger                 1004    77       70   17     0.7   Burger   \n",
       "\n",
       "                             brand  \n",
       "product_name                        \n",
       "Whopper                Burger King  \n",
       "Cheese Whopper         Burger King  \n",
       "Double Whopper         Burger King  \n",
       "Double Cheese Whopper  Burger King  \n",
       "Whopper Junior         Burger King  \n",
       "Bacon King             Burger King  \n",
       "Single Stacker King    Burger King  \n",
       "Double Stacker King    Burger King  \n",
       "Hamburger              Burger King  \n",
       "Cheeseburger           Burger King  \n",
       "Double Hamburger       Burger King  \n",
       "Double Cheeseburger    Burger King  \n",
       "Crispy Chicken         Burger King  \n",
       "Chicken Nuggets        Burger King  \n",
       "Spicy Chicken Nuggets  Burger King  \n",
       "New Burger             Burger King  "
      ]
     },
     "execution_count": 103,
     "metadata": {},
     "output_type": "execute_result"
    }
   ],
   "source": [
    "# 12. 전체 행에 새로운 컬럼 추가 및 값 지정\n",
    "burger_df['brand'] = 'Burger King'\n",
    "# → 모든 행에 'brand' 컬럼을 추가하고 값은 'Burger King'으로 일괄 지정\n",
    "# 13. 추가 결과 확인\n",
    "burger_df\n",
    "# → 데이터프레임 전체 내용 출력"
   ]
  },
  {
   "cell_type": "code",
   "execution_count": 104,
   "id": "d3939c46-55e4-4c0f-9e10-af2b6d984b99",
   "metadata": {},
   "outputs": [
    {
     "data": {
      "text/html": [
       "<div>\n",
       "<style scoped>\n",
       "    .dataframe tbody tr th:only-of-type {\n",
       "        vertical-align: middle;\n",
       "    }\n",
       "\n",
       "    .dataframe tbody tr th {\n",
       "        vertical-align: top;\n",
       "    }\n",
       "\n",
       "    .dataframe thead th {\n",
       "        text-align: right;\n",
       "    }\n",
       "</style>\n",
       "<table border=\"1\" class=\"dataframe\">\n",
       "  <thead>\n",
       "    <tr style=\"text-align: right;\">\n",
       "      <th></th>\n",
       "      <th>calories</th>\n",
       "      <th>carb</th>\n",
       "      <th>protein</th>\n",
       "      <th>fat</th>\n",
       "      <th>sodium</th>\n",
       "      <th>category</th>\n",
       "      <th>brand</th>\n",
       "      <th>high_calorie</th>\n",
       "    </tr>\n",
       "    <tr>\n",
       "      <th>product_name</th>\n",
       "      <th></th>\n",
       "      <th></th>\n",
       "      <th></th>\n",
       "      <th></th>\n",
       "      <th></th>\n",
       "      <th></th>\n",
       "      <th></th>\n",
       "      <th></th>\n",
       "    </tr>\n",
       "  </thead>\n",
       "  <tbody>\n",
       "    <tr>\n",
       "      <th>Whopper</th>\n",
       "      <td>660</td>\n",
       "      <td>49</td>\n",
       "      <td>28</td>\n",
       "      <td>40</td>\n",
       "      <td>1.0</td>\n",
       "      <td>Burgers</td>\n",
       "      <td>Burger King</td>\n",
       "      <td>True</td>\n",
       "    </tr>\n",
       "    <tr>\n",
       "      <th>Cheese Whopper</th>\n",
       "      <td>740</td>\n",
       "      <td>50</td>\n",
       "      <td>32</td>\n",
       "      <td>46</td>\n",
       "      <td>1.0</td>\n",
       "      <td>Burgers</td>\n",
       "      <td>Burger King</td>\n",
       "      <td>True</td>\n",
       "    </tr>\n",
       "    <tr>\n",
       "      <th>Double Whopper</th>\n",
       "      <td>900</td>\n",
       "      <td>49</td>\n",
       "      <td>48</td>\n",
       "      <td>58</td>\n",
       "      <td>1.0</td>\n",
       "      <td>Burgers</td>\n",
       "      <td>Burger King</td>\n",
       "      <td>True</td>\n",
       "    </tr>\n",
       "    <tr>\n",
       "      <th>Double Cheese Whopper</th>\n",
       "      <td>980</td>\n",
       "      <td>50</td>\n",
       "      <td>52</td>\n",
       "      <td>64</td>\n",
       "      <td>1.0</td>\n",
       "      <td>Burgers</td>\n",
       "      <td>Burger King</td>\n",
       "      <td>True</td>\n",
       "    </tr>\n",
       "    <tr>\n",
       "      <th>Whopper Junior</th>\n",
       "      <td>310</td>\n",
       "      <td>27</td>\n",
       "      <td>13</td>\n",
       "      <td>18</td>\n",
       "      <td>1.0</td>\n",
       "      <td>Burgers</td>\n",
       "      <td>Burger King</td>\n",
       "      <td>False</td>\n",
       "    </tr>\n",
       "    <tr>\n",
       "      <th>Bacon King</th>\n",
       "      <td>1150</td>\n",
       "      <td>49</td>\n",
       "      <td>61</td>\n",
       "      <td>79</td>\n",
       "      <td>1.0</td>\n",
       "      <td>Burgers</td>\n",
       "      <td>Burger King</td>\n",
       "      <td>True</td>\n",
       "    </tr>\n",
       "    <tr>\n",
       "      <th>Single Stacker King</th>\n",
       "      <td>700</td>\n",
       "      <td>48</td>\n",
       "      <td>35</td>\n",
       "      <td>42</td>\n",
       "      <td>1.0</td>\n",
       "      <td>Burgers</td>\n",
       "      <td>Burger King</td>\n",
       "      <td>True</td>\n",
       "    </tr>\n",
       "    <tr>\n",
       "      <th>Double Stacker King</th>\n",
       "      <td>1050</td>\n",
       "      <td>49</td>\n",
       "      <td>61</td>\n",
       "      <td>68</td>\n",
       "      <td>1.0</td>\n",
       "      <td>Burgers</td>\n",
       "      <td>Burger King</td>\n",
       "      <td>True</td>\n",
       "    </tr>\n",
       "    <tr>\n",
       "      <th>Hamburger</th>\n",
       "      <td>240</td>\n",
       "      <td>26</td>\n",
       "      <td>13</td>\n",
       "      <td>10</td>\n",
       "      <td>1.0</td>\n",
       "      <td>Burgers</td>\n",
       "      <td>Burger King</td>\n",
       "      <td>False</td>\n",
       "    </tr>\n",
       "    <tr>\n",
       "      <th>Cheeseburger</th>\n",
       "      <td>360</td>\n",
       "      <td>24</td>\n",
       "      <td>18</td>\n",
       "      <td>21</td>\n",
       "      <td>1.0</td>\n",
       "      <td>Burger</td>\n",
       "      <td>Burger King</td>\n",
       "      <td>False</td>\n",
       "    </tr>\n",
       "    <tr>\n",
       "      <th>Double Hamburger</th>\n",
       "      <td>350</td>\n",
       "      <td>26</td>\n",
       "      <td>21</td>\n",
       "      <td>18</td>\n",
       "      <td>1.0</td>\n",
       "      <td>Burgers</td>\n",
       "      <td>Burger King</td>\n",
       "      <td>False</td>\n",
       "    </tr>\n",
       "    <tr>\n",
       "      <th>Double Cheeseburger</th>\n",
       "      <td>390</td>\n",
       "      <td>27</td>\n",
       "      <td>23</td>\n",
       "      <td>21</td>\n",
       "      <td>1.0</td>\n",
       "      <td>Burgers</td>\n",
       "      <td>Burger King</td>\n",
       "      <td>False</td>\n",
       "    </tr>\n",
       "    <tr>\n",
       "      <th>Crispy Chicken</th>\n",
       "      <td>670</td>\n",
       "      <td>54</td>\n",
       "      <td>23</td>\n",
       "      <td>41</td>\n",
       "      <td>1.0</td>\n",
       "      <td>Chicken</td>\n",
       "      <td>Burger King</td>\n",
       "      <td>True</td>\n",
       "    </tr>\n",
       "    <tr>\n",
       "      <th>Chicken Nuggets</th>\n",
       "      <td>170</td>\n",
       "      <td>11</td>\n",
       "      <td>8</td>\n",
       "      <td>11</td>\n",
       "      <td>1.0</td>\n",
       "      <td>Chicken</td>\n",
       "      <td>Burger King</td>\n",
       "      <td>False</td>\n",
       "    </tr>\n",
       "    <tr>\n",
       "      <th>Spicy Chicken Nuggets</th>\n",
       "      <td>210</td>\n",
       "      <td>11</td>\n",
       "      <td>8</td>\n",
       "      <td>15</td>\n",
       "      <td>1.0</td>\n",
       "      <td>Chicken</td>\n",
       "      <td>Burger King</td>\n",
       "      <td>False</td>\n",
       "    </tr>\n",
       "    <tr>\n",
       "      <th>New Burger</th>\n",
       "      <td>1004</td>\n",
       "      <td>77</td>\n",
       "      <td>70</td>\n",
       "      <td>17</td>\n",
       "      <td>0.7</td>\n",
       "      <td>Burger</td>\n",
       "      <td>Burger King</td>\n",
       "      <td>True</td>\n",
       "    </tr>\n",
       "  </tbody>\n",
       "</table>\n",
       "</div>"
      ],
      "text/plain": [
       "                       calories  carb  protein  fat  sodium category  \\\n",
       "product_name                                                           \n",
       "Whopper                     660    49       28   40     1.0  Burgers   \n",
       "Cheese Whopper              740    50       32   46     1.0  Burgers   \n",
       "Double Whopper              900    49       48   58     1.0  Burgers   \n",
       "Double Cheese Whopper       980    50       52   64     1.0  Burgers   \n",
       "Whopper Junior              310    27       13   18     1.0  Burgers   \n",
       "Bacon King                 1150    49       61   79     1.0  Burgers   \n",
       "Single Stacker King         700    48       35   42     1.0  Burgers   \n",
       "Double Stacker King        1050    49       61   68     1.0  Burgers   \n",
       "Hamburger                   240    26       13   10     1.0  Burgers   \n",
       "Cheeseburger                360    24       18   21     1.0   Burger   \n",
       "Double Hamburger            350    26       21   18     1.0  Burgers   \n",
       "Double Cheeseburger         390    27       23   21     1.0  Burgers   \n",
       "Crispy Chicken              670    54       23   41     1.0  Chicken   \n",
       "Chicken Nuggets             170    11        8   11     1.0  Chicken   \n",
       "Spicy Chicken Nuggets       210    11        8   15     1.0  Chicken   \n",
       "New Burger                 1004    77       70   17     0.7   Burger   \n",
       "\n",
       "                             brand high_calorie  \n",
       "product_name                                     \n",
       "Whopper                Burger King         True  \n",
       "Cheese Whopper         Burger King         True  \n",
       "Double Whopper         Burger King         True  \n",
       "Double Cheese Whopper  Burger King         True  \n",
       "Whopper Junior         Burger King        False  \n",
       "Bacon King             Burger King         True  \n",
       "Single Stacker King    Burger King         True  \n",
       "Double Stacker King    Burger King         True  \n",
       "Hamburger              Burger King        False  \n",
       "Cheeseburger           Burger King        False  \n",
       "Double Hamburger       Burger King        False  \n",
       "Double Cheeseburger    Burger King        False  \n",
       "Crispy Chicken         Burger King         True  \n",
       "Chicken Nuggets        Burger King        False  \n",
       "Spicy Chicken Nuggets  Burger King        False  \n",
       "New Burger             Burger King         True  "
      ]
     },
     "execution_count": 104,
     "metadata": {},
     "output_type": "execute_result"
    }
   ],
   "source": [
    "# 14. 조건에 따라 새로운 컬럼 값 지정 (고칼로리 여부)\n",
    "burger_df.loc[burger_df['calories'] >= 500, 'high_calorie'] = True\n",
    "burger_df.loc[burger_df['calories'] < 500, 'high_calorie'] = False\n",
    "# → 'calories'가 500 이상이면 'high_calorie' 컬럼을 True, 아니면 False로 지정\n",
    "# 15. 결과 확인\n",
    "burger_df\n",
    "# → 데이터프레임 전체 내용 출력"
   ]
  },
  {
   "cell_type": "code",
   "execution_count": 105,
   "id": "4da56bda-45df-4ecf-9380-f2ff59e43634",
   "metadata": {},
   "outputs": [
    {
     "data": {
      "text/html": [
       "<div>\n",
       "<style scoped>\n",
       "    .dataframe tbody tr th:only-of-type {\n",
       "        vertical-align: middle;\n",
       "    }\n",
       "\n",
       "    .dataframe tbody tr th {\n",
       "        vertical-align: top;\n",
       "    }\n",
       "\n",
       "    .dataframe thead th {\n",
       "        text-align: right;\n",
       "    }\n",
       "</style>\n",
       "<table border=\"1\" class=\"dataframe\">\n",
       "  <thead>\n",
       "    <tr style=\"text-align: right;\">\n",
       "      <th></th>\n",
       "      <th>calories</th>\n",
       "      <th>carb</th>\n",
       "      <th>protein</th>\n",
       "      <th>fat</th>\n",
       "      <th>sodium</th>\n",
       "      <th>category</th>\n",
       "      <th>brand</th>\n",
       "      <th>high_calorie</th>\n",
       "    </tr>\n",
       "    <tr>\n",
       "      <th>product_name</th>\n",
       "      <th></th>\n",
       "      <th></th>\n",
       "      <th></th>\n",
       "      <th></th>\n",
       "      <th></th>\n",
       "      <th></th>\n",
       "      <th></th>\n",
       "      <th></th>\n",
       "    </tr>\n",
       "  </thead>\n",
       "  <tbody>\n",
       "    <tr>\n",
       "      <th>Whopper</th>\n",
       "      <td>660</td>\n",
       "      <td>49</td>\n",
       "      <td>28</td>\n",
       "      <td>40</td>\n",
       "      <td>1.0</td>\n",
       "      <td>Burger</td>\n",
       "      <td>Burger King</td>\n",
       "      <td>True</td>\n",
       "    </tr>\n",
       "    <tr>\n",
       "      <th>Cheese Whopper</th>\n",
       "      <td>740</td>\n",
       "      <td>50</td>\n",
       "      <td>32</td>\n",
       "      <td>46</td>\n",
       "      <td>1.0</td>\n",
       "      <td>Burger</td>\n",
       "      <td>Burger King</td>\n",
       "      <td>True</td>\n",
       "    </tr>\n",
       "    <tr>\n",
       "      <th>Double Whopper</th>\n",
       "      <td>900</td>\n",
       "      <td>49</td>\n",
       "      <td>48</td>\n",
       "      <td>58</td>\n",
       "      <td>1.0</td>\n",
       "      <td>Burger</td>\n",
       "      <td>Burger King</td>\n",
       "      <td>True</td>\n",
       "    </tr>\n",
       "    <tr>\n",
       "      <th>Double Cheese Whopper</th>\n",
       "      <td>980</td>\n",
       "      <td>50</td>\n",
       "      <td>52</td>\n",
       "      <td>64</td>\n",
       "      <td>1.0</td>\n",
       "      <td>Burger</td>\n",
       "      <td>Burger King</td>\n",
       "      <td>True</td>\n",
       "    </tr>\n",
       "    <tr>\n",
       "      <th>Whopper Junior</th>\n",
       "      <td>310</td>\n",
       "      <td>27</td>\n",
       "      <td>13</td>\n",
       "      <td>18</td>\n",
       "      <td>1.0</td>\n",
       "      <td>Burger</td>\n",
       "      <td>Burger King</td>\n",
       "      <td>False</td>\n",
       "    </tr>\n",
       "    <tr>\n",
       "      <th>Bacon King</th>\n",
       "      <td>1150</td>\n",
       "      <td>49</td>\n",
       "      <td>61</td>\n",
       "      <td>79</td>\n",
       "      <td>1.0</td>\n",
       "      <td>Burger</td>\n",
       "      <td>Burger King</td>\n",
       "      <td>True</td>\n",
       "    </tr>\n",
       "    <tr>\n",
       "      <th>Single Stacker King</th>\n",
       "      <td>700</td>\n",
       "      <td>48</td>\n",
       "      <td>35</td>\n",
       "      <td>42</td>\n",
       "      <td>1.0</td>\n",
       "      <td>Burger</td>\n",
       "      <td>Burger King</td>\n",
       "      <td>True</td>\n",
       "    </tr>\n",
       "    <tr>\n",
       "      <th>Double Stacker King</th>\n",
       "      <td>1050</td>\n",
       "      <td>49</td>\n",
       "      <td>61</td>\n",
       "      <td>68</td>\n",
       "      <td>1.0</td>\n",
       "      <td>Burger</td>\n",
       "      <td>Burger King</td>\n",
       "      <td>True</td>\n",
       "    </tr>\n",
       "    <tr>\n",
       "      <th>Hamburger</th>\n",
       "      <td>240</td>\n",
       "      <td>26</td>\n",
       "      <td>13</td>\n",
       "      <td>10</td>\n",
       "      <td>1.0</td>\n",
       "      <td>Burger</td>\n",
       "      <td>Burger King</td>\n",
       "      <td>False</td>\n",
       "    </tr>\n",
       "    <tr>\n",
       "      <th>Cheeseburger</th>\n",
       "      <td>360</td>\n",
       "      <td>24</td>\n",
       "      <td>18</td>\n",
       "      <td>21</td>\n",
       "      <td>1.0</td>\n",
       "      <td>Burger</td>\n",
       "      <td>Burger King</td>\n",
       "      <td>False</td>\n",
       "    </tr>\n",
       "    <tr>\n",
       "      <th>Double Hamburger</th>\n",
       "      <td>350</td>\n",
       "      <td>26</td>\n",
       "      <td>21</td>\n",
       "      <td>18</td>\n",
       "      <td>1.0</td>\n",
       "      <td>Burger</td>\n",
       "      <td>Burger King</td>\n",
       "      <td>False</td>\n",
       "    </tr>\n",
       "    <tr>\n",
       "      <th>Double Cheeseburger</th>\n",
       "      <td>390</td>\n",
       "      <td>27</td>\n",
       "      <td>23</td>\n",
       "      <td>21</td>\n",
       "      <td>1.0</td>\n",
       "      <td>Burger</td>\n",
       "      <td>Burger King</td>\n",
       "      <td>False</td>\n",
       "    </tr>\n",
       "    <tr>\n",
       "      <th>Crispy Chicken</th>\n",
       "      <td>670</td>\n",
       "      <td>54</td>\n",
       "      <td>23</td>\n",
       "      <td>41</td>\n",
       "      <td>1.0</td>\n",
       "      <td>Chicken</td>\n",
       "      <td>Burger King</td>\n",
       "      <td>True</td>\n",
       "    </tr>\n",
       "    <tr>\n",
       "      <th>Chicken Nuggets</th>\n",
       "      <td>170</td>\n",
       "      <td>11</td>\n",
       "      <td>8</td>\n",
       "      <td>11</td>\n",
       "      <td>1.0</td>\n",
       "      <td>Chicken</td>\n",
       "      <td>Burger King</td>\n",
       "      <td>False</td>\n",
       "    </tr>\n",
       "    <tr>\n",
       "      <th>Spicy Chicken Nuggets</th>\n",
       "      <td>210</td>\n",
       "      <td>11</td>\n",
       "      <td>8</td>\n",
       "      <td>15</td>\n",
       "      <td>1.0</td>\n",
       "      <td>Chicken</td>\n",
       "      <td>Burger King</td>\n",
       "      <td>False</td>\n",
       "    </tr>\n",
       "    <tr>\n",
       "      <th>New Burger</th>\n",
       "      <td>1004</td>\n",
       "      <td>77</td>\n",
       "      <td>70</td>\n",
       "      <td>17</td>\n",
       "      <td>0.7</td>\n",
       "      <td>Burger</td>\n",
       "      <td>Burger King</td>\n",
       "      <td>True</td>\n",
       "    </tr>\n",
       "  </tbody>\n",
       "</table>\n",
       "</div>"
      ],
      "text/plain": [
       "                       calories  carb  protein  fat  sodium category  \\\n",
       "product_name                                                           \n",
       "Whopper                     660    49       28   40     1.0   Burger   \n",
       "Cheese Whopper              740    50       32   46     1.0   Burger   \n",
       "Double Whopper              900    49       48   58     1.0   Burger   \n",
       "Double Cheese Whopper       980    50       52   64     1.0   Burger   \n",
       "Whopper Junior              310    27       13   18     1.0   Burger   \n",
       "Bacon King                 1150    49       61   79     1.0   Burger   \n",
       "Single Stacker King         700    48       35   42     1.0   Burger   \n",
       "Double Stacker King        1050    49       61   68     1.0   Burger   \n",
       "Hamburger                   240    26       13   10     1.0   Burger   \n",
       "Cheeseburger                360    24       18   21     1.0   Burger   \n",
       "Double Hamburger            350    26       21   18     1.0   Burger   \n",
       "Double Cheeseburger         390    27       23   21     1.0   Burger   \n",
       "Crispy Chicken              670    54       23   41     1.0  Chicken   \n",
       "Chicken Nuggets             170    11        8   11     1.0  Chicken   \n",
       "Spicy Chicken Nuggets       210    11        8   15     1.0  Chicken   \n",
       "New Burger                 1004    77       70   17     0.7   Burger   \n",
       "\n",
       "                             brand high_calorie  \n",
       "product_name                                     \n",
       "Whopper                Burger King         True  \n",
       "Cheese Whopper         Burger King         True  \n",
       "Double Whopper         Burger King         True  \n",
       "Double Cheese Whopper  Burger King         True  \n",
       "Whopper Junior         Burger King        False  \n",
       "Bacon King             Burger King         True  \n",
       "Single Stacker King    Burger King         True  \n",
       "Double Stacker King    Burger King         True  \n",
       "Hamburger              Burger King        False  \n",
       "Cheeseburger           Burger King        False  \n",
       "Double Hamburger       Burger King        False  \n",
       "Double Cheeseburger    Burger King        False  \n",
       "Crispy Chicken         Burger King         True  \n",
       "Chicken Nuggets        Burger King        False  \n",
       "Spicy Chicken Nuggets  Burger King        False  \n",
       "New Burger             Burger King         True  "
      ]
     },
     "execution_count": 105,
     "metadata": {},
     "output_type": "execute_result"
    }
   ],
   "source": [
    "# 16. 특정 값 일괄 변경 (분류명 통일)\n",
    "burger_df.loc[burger_df['category'] == 'Burgers', 'category'] = 'Burger'\n",
    "# → 'category' 컬럼이 'Burgers'인 행의 값을 모두 'Burger'로 변경\n",
    "# 17. 최종 결과 확인\n",
    "burger_df\n",
    "# → 데이터프레임 전체 내용 출력"
   ]
  },
  {
   "cell_type": "code",
   "execution_count": 106,
   "id": "8e995ce4-1cfa-496f-a056-2cb75c40b574",
   "metadata": {},
   "outputs": [
    {
     "data": {
      "text/html": [
       "<div>\n",
       "<style scoped>\n",
       "    .dataframe tbody tr th:only-of-type {\n",
       "        vertical-align: middle;\n",
       "    }\n",
       "\n",
       "    .dataframe tbody tr th {\n",
       "        vertical-align: top;\n",
       "    }\n",
       "\n",
       "    .dataframe thead th {\n",
       "        text-align: right;\n",
       "    }\n",
       "</style>\n",
       "<table border=\"1\" class=\"dataframe\">\n",
       "  <thead>\n",
       "    <tr style=\"text-align: right;\">\n",
       "      <th></th>\n",
       "      <th>calories</th>\n",
       "      <th>carb</th>\n",
       "      <th>protein</th>\n",
       "      <th>fat</th>\n",
       "      <th>sodium</th>\n",
       "      <th>category</th>\n",
       "      <th>brand</th>\n",
       "      <th>high_calorie</th>\n",
       "    </tr>\n",
       "    <tr>\n",
       "      <th>product_name</th>\n",
       "      <th></th>\n",
       "      <th></th>\n",
       "      <th></th>\n",
       "      <th></th>\n",
       "      <th></th>\n",
       "      <th></th>\n",
       "      <th></th>\n",
       "      <th></th>\n",
       "    </tr>\n",
       "  </thead>\n",
       "  <tbody>\n",
       "    <tr>\n",
       "      <th>Whopper</th>\n",
       "      <td>660</td>\n",
       "      <td>49</td>\n",
       "      <td>28</td>\n",
       "      <td>40</td>\n",
       "      <td>1.0</td>\n",
       "      <td>Burger</td>\n",
       "      <td>Burger King</td>\n",
       "      <td>True</td>\n",
       "    </tr>\n",
       "    <tr>\n",
       "      <th>Cheese Whopper</th>\n",
       "      <td>740</td>\n",
       "      <td>50</td>\n",
       "      <td>32</td>\n",
       "      <td>46</td>\n",
       "      <td>1.0</td>\n",
       "      <td>Burger</td>\n",
       "      <td>Burger King</td>\n",
       "      <td>True</td>\n",
       "    </tr>\n",
       "    <tr>\n",
       "      <th>Double Whopper</th>\n",
       "      <td>900</td>\n",
       "      <td>49</td>\n",
       "      <td>48</td>\n",
       "      <td>58</td>\n",
       "      <td>1.0</td>\n",
       "      <td>Burger</td>\n",
       "      <td>Burger King</td>\n",
       "      <td>True</td>\n",
       "    </tr>\n",
       "    <tr>\n",
       "      <th>Double Cheese Whopper</th>\n",
       "      <td>980</td>\n",
       "      <td>50</td>\n",
       "      <td>52</td>\n",
       "      <td>64</td>\n",
       "      <td>1.0</td>\n",
       "      <td>Burger</td>\n",
       "      <td>Burger King</td>\n",
       "      <td>True</td>\n",
       "    </tr>\n",
       "    <tr>\n",
       "      <th>Whopper Junior</th>\n",
       "      <td>310</td>\n",
       "      <td>27</td>\n",
       "      <td>13</td>\n",
       "      <td>18</td>\n",
       "      <td>1.0</td>\n",
       "      <td>Burger</td>\n",
       "      <td>Burger King</td>\n",
       "      <td>False</td>\n",
       "    </tr>\n",
       "    <tr>\n",
       "      <th>Bacon King</th>\n",
       "      <td>1150</td>\n",
       "      <td>49</td>\n",
       "      <td>61</td>\n",
       "      <td>79</td>\n",
       "      <td>1.0</td>\n",
       "      <td>Burger</td>\n",
       "      <td>Burger King</td>\n",
       "      <td>True</td>\n",
       "    </tr>\n",
       "    <tr>\n",
       "      <th>Single Stacker King</th>\n",
       "      <td>700</td>\n",
       "      <td>48</td>\n",
       "      <td>35</td>\n",
       "      <td>42</td>\n",
       "      <td>1.0</td>\n",
       "      <td>Burger</td>\n",
       "      <td>Burger King</td>\n",
       "      <td>True</td>\n",
       "    </tr>\n",
       "    <tr>\n",
       "      <th>Double Stacker King</th>\n",
       "      <td>1050</td>\n",
       "      <td>49</td>\n",
       "      <td>61</td>\n",
       "      <td>68</td>\n",
       "      <td>1.0</td>\n",
       "      <td>Burger</td>\n",
       "      <td>Burger King</td>\n",
       "      <td>True</td>\n",
       "    </tr>\n",
       "    <tr>\n",
       "      <th>Hamburger</th>\n",
       "      <td>240</td>\n",
       "      <td>26</td>\n",
       "      <td>13</td>\n",
       "      <td>10</td>\n",
       "      <td>1.0</td>\n",
       "      <td>Burger</td>\n",
       "      <td>Burger King</td>\n",
       "      <td>False</td>\n",
       "    </tr>\n",
       "    <tr>\n",
       "      <th>Cheeseburger</th>\n",
       "      <td>360</td>\n",
       "      <td>24</td>\n",
       "      <td>18</td>\n",
       "      <td>21</td>\n",
       "      <td>1.0</td>\n",
       "      <td>Burger</td>\n",
       "      <td>Burger King</td>\n",
       "      <td>False</td>\n",
       "    </tr>\n",
       "    <tr>\n",
       "      <th>Double Hamburger</th>\n",
       "      <td>350</td>\n",
       "      <td>26</td>\n",
       "      <td>21</td>\n",
       "      <td>18</td>\n",
       "      <td>1.0</td>\n",
       "      <td>Burger</td>\n",
       "      <td>Burger King</td>\n",
       "      <td>False</td>\n",
       "    </tr>\n",
       "    <tr>\n",
       "      <th>Double Cheeseburger</th>\n",
       "      <td>390</td>\n",
       "      <td>27</td>\n",
       "      <td>23</td>\n",
       "      <td>21</td>\n",
       "      <td>1.0</td>\n",
       "      <td>Burger</td>\n",
       "      <td>Burger King</td>\n",
       "      <td>False</td>\n",
       "    </tr>\n",
       "    <tr>\n",
       "      <th>Crispy Chicken</th>\n",
       "      <td>670</td>\n",
       "      <td>54</td>\n",
       "      <td>23</td>\n",
       "      <td>41</td>\n",
       "      <td>1.0</td>\n",
       "      <td>Chicken</td>\n",
       "      <td>Burger King</td>\n",
       "      <td>True</td>\n",
       "    </tr>\n",
       "    <tr>\n",
       "      <th>Chicken Nuggets</th>\n",
       "      <td>170</td>\n",
       "      <td>11</td>\n",
       "      <td>8</td>\n",
       "      <td>11</td>\n",
       "      <td>1.0</td>\n",
       "      <td>Chicken</td>\n",
       "      <td>Burger King</td>\n",
       "      <td>False</td>\n",
       "    </tr>\n",
       "    <tr>\n",
       "      <th>Spicy Chicken Nuggets</th>\n",
       "      <td>210</td>\n",
       "      <td>11</td>\n",
       "      <td>8</td>\n",
       "      <td>15</td>\n",
       "      <td>1.0</td>\n",
       "      <td>Chicken</td>\n",
       "      <td>Burger King</td>\n",
       "      <td>False</td>\n",
       "    </tr>\n",
       "  </tbody>\n",
       "</table>\n",
       "</div>"
      ],
      "text/plain": [
       "                       calories  carb  protein  fat  sodium category  \\\n",
       "product_name                                                           \n",
       "Whopper                     660    49       28   40     1.0   Burger   \n",
       "Cheese Whopper              740    50       32   46     1.0   Burger   \n",
       "Double Whopper              900    49       48   58     1.0   Burger   \n",
       "Double Cheese Whopper       980    50       52   64     1.0   Burger   \n",
       "Whopper Junior              310    27       13   18     1.0   Burger   \n",
       "Bacon King                 1150    49       61   79     1.0   Burger   \n",
       "Single Stacker King         700    48       35   42     1.0   Burger   \n",
       "Double Stacker King        1050    49       61   68     1.0   Burger   \n",
       "Hamburger                   240    26       13   10     1.0   Burger   \n",
       "Cheeseburger                360    24       18   21     1.0   Burger   \n",
       "Double Hamburger            350    26       21   18     1.0   Burger   \n",
       "Double Cheeseburger         390    27       23   21     1.0   Burger   \n",
       "Crispy Chicken              670    54       23   41     1.0  Chicken   \n",
       "Chicken Nuggets             170    11        8   11     1.0  Chicken   \n",
       "Spicy Chicken Nuggets       210    11        8   15     1.0  Chicken   \n",
       "\n",
       "                             brand high_calorie  \n",
       "product_name                                     \n",
       "Whopper                Burger King         True  \n",
       "Cheese Whopper         Burger King         True  \n",
       "Double Whopper         Burger King         True  \n",
       "Double Cheese Whopper  Burger King         True  \n",
       "Whopper Junior         Burger King        False  \n",
       "Bacon King             Burger King         True  \n",
       "Single Stacker King    Burger King         True  \n",
       "Double Stacker King    Burger King         True  \n",
       "Hamburger              Burger King        False  \n",
       "Cheeseburger           Burger King        False  \n",
       "Double Hamburger       Burger King        False  \n",
       "Double Cheeseburger    Burger King        False  \n",
       "Crispy Chicken         Burger King         True  \n",
       "Chicken Nuggets        Burger King        False  \n",
       "Spicy Chicken Nuggets  Burger King        False  "
      ]
     },
     "execution_count": 106,
     "metadata": {},
     "output_type": "execute_result"
    }
   ],
   "source": [
    "# 행 삭제: df.drop('행이름', axis=0)\n",
    "# 열 삭제: df.drop('컬럼이름', axis=1)\n",
    "# 즉시 반영: inplace=True 옵션 사용\n",
    "burger_df = burger_df.drop('New Burger', axis=0)\n",
    "# 또는 inplace로 바로 삭제\n",
    "# burger_df.drop('New Burger', axis=0, inplace=True)\n",
    "burger_df"
   ]
  },
  {
   "cell_type": "code",
   "execution_count": 107,
   "id": "32f60aaf-6bdb-46ca-832d-4667aa36c43f",
   "metadata": {},
   "outputs": [
    {
     "data": {
      "text/html": [
       "<div>\n",
       "<style scoped>\n",
       "    .dataframe tbody tr th:only-of-type {\n",
       "        vertical-align: middle;\n",
       "    }\n",
       "\n",
       "    .dataframe tbody tr th {\n",
       "        vertical-align: top;\n",
       "    }\n",
       "\n",
       "    .dataframe thead th {\n",
       "        text-align: right;\n",
       "    }\n",
       "</style>\n",
       "<table border=\"1\" class=\"dataframe\">\n",
       "  <thead>\n",
       "    <tr style=\"text-align: right;\">\n",
       "      <th></th>\n",
       "      <th>calories</th>\n",
       "      <th>carb</th>\n",
       "      <th>protein</th>\n",
       "      <th>fat</th>\n",
       "      <th>sodium</th>\n",
       "      <th>category</th>\n",
       "    </tr>\n",
       "    <tr>\n",
       "      <th>product_name</th>\n",
       "      <th></th>\n",
       "      <th></th>\n",
       "      <th></th>\n",
       "      <th></th>\n",
       "      <th></th>\n",
       "      <th></th>\n",
       "    </tr>\n",
       "  </thead>\n",
       "  <tbody>\n",
       "    <tr>\n",
       "      <th>Whopper</th>\n",
       "      <td>660</td>\n",
       "      <td>49</td>\n",
       "      <td>28</td>\n",
       "      <td>40</td>\n",
       "      <td>1.0</td>\n",
       "      <td>Burger</td>\n",
       "    </tr>\n",
       "    <tr>\n",
       "      <th>Cheese Whopper</th>\n",
       "      <td>740</td>\n",
       "      <td>50</td>\n",
       "      <td>32</td>\n",
       "      <td>46</td>\n",
       "      <td>1.0</td>\n",
       "      <td>Burger</td>\n",
       "    </tr>\n",
       "    <tr>\n",
       "      <th>Double Whopper</th>\n",
       "      <td>900</td>\n",
       "      <td>49</td>\n",
       "      <td>48</td>\n",
       "      <td>58</td>\n",
       "      <td>1.0</td>\n",
       "      <td>Burger</td>\n",
       "    </tr>\n",
       "    <tr>\n",
       "      <th>Double Cheese Whopper</th>\n",
       "      <td>980</td>\n",
       "      <td>50</td>\n",
       "      <td>52</td>\n",
       "      <td>64</td>\n",
       "      <td>1.0</td>\n",
       "      <td>Burger</td>\n",
       "    </tr>\n",
       "    <tr>\n",
       "      <th>Whopper Junior</th>\n",
       "      <td>310</td>\n",
       "      <td>27</td>\n",
       "      <td>13</td>\n",
       "      <td>18</td>\n",
       "      <td>1.0</td>\n",
       "      <td>Burger</td>\n",
       "    </tr>\n",
       "    <tr>\n",
       "      <th>Bacon King</th>\n",
       "      <td>1150</td>\n",
       "      <td>49</td>\n",
       "      <td>61</td>\n",
       "      <td>79</td>\n",
       "      <td>1.0</td>\n",
       "      <td>Burger</td>\n",
       "    </tr>\n",
       "    <tr>\n",
       "      <th>Single Stacker King</th>\n",
       "      <td>700</td>\n",
       "      <td>48</td>\n",
       "      <td>35</td>\n",
       "      <td>42</td>\n",
       "      <td>1.0</td>\n",
       "      <td>Burger</td>\n",
       "    </tr>\n",
       "    <tr>\n",
       "      <th>Double Stacker King</th>\n",
       "      <td>1050</td>\n",
       "      <td>49</td>\n",
       "      <td>61</td>\n",
       "      <td>68</td>\n",
       "      <td>1.0</td>\n",
       "      <td>Burger</td>\n",
       "    </tr>\n",
       "    <tr>\n",
       "      <th>Hamburger</th>\n",
       "      <td>240</td>\n",
       "      <td>26</td>\n",
       "      <td>13</td>\n",
       "      <td>10</td>\n",
       "      <td>1.0</td>\n",
       "      <td>Burger</td>\n",
       "    </tr>\n",
       "    <tr>\n",
       "      <th>Cheeseburger</th>\n",
       "      <td>360</td>\n",
       "      <td>24</td>\n",
       "      <td>18</td>\n",
       "      <td>21</td>\n",
       "      <td>1.0</td>\n",
       "      <td>Burger</td>\n",
       "    </tr>\n",
       "    <tr>\n",
       "      <th>Double Hamburger</th>\n",
       "      <td>350</td>\n",
       "      <td>26</td>\n",
       "      <td>21</td>\n",
       "      <td>18</td>\n",
       "      <td>1.0</td>\n",
       "      <td>Burger</td>\n",
       "    </tr>\n",
       "    <tr>\n",
       "      <th>Double Cheeseburger</th>\n",
       "      <td>390</td>\n",
       "      <td>27</td>\n",
       "      <td>23</td>\n",
       "      <td>21</td>\n",
       "      <td>1.0</td>\n",
       "      <td>Burger</td>\n",
       "    </tr>\n",
       "    <tr>\n",
       "      <th>Crispy Chicken</th>\n",
       "      <td>670</td>\n",
       "      <td>54</td>\n",
       "      <td>23</td>\n",
       "      <td>41</td>\n",
       "      <td>1.0</td>\n",
       "      <td>Chicken</td>\n",
       "    </tr>\n",
       "    <tr>\n",
       "      <th>Chicken Nuggets</th>\n",
       "      <td>170</td>\n",
       "      <td>11</td>\n",
       "      <td>8</td>\n",
       "      <td>11</td>\n",
       "      <td>1.0</td>\n",
       "      <td>Chicken</td>\n",
       "    </tr>\n",
       "    <tr>\n",
       "      <th>Spicy Chicken Nuggets</th>\n",
       "      <td>210</td>\n",
       "      <td>11</td>\n",
       "      <td>8</td>\n",
       "      <td>15</td>\n",
       "      <td>1.0</td>\n",
       "      <td>Chicken</td>\n",
       "    </tr>\n",
       "  </tbody>\n",
       "</table>\n",
       "</div>"
      ],
      "text/plain": [
       "                       calories  carb  protein  fat  sodium category\n",
       "product_name                                                        \n",
       "Whopper                     660    49       28   40     1.0   Burger\n",
       "Cheese Whopper              740    50       32   46     1.0   Burger\n",
       "Double Whopper              900    49       48   58     1.0   Burger\n",
       "Double Cheese Whopper       980    50       52   64     1.0   Burger\n",
       "Whopper Junior              310    27       13   18     1.0   Burger\n",
       "Bacon King                 1150    49       61   79     1.0   Burger\n",
       "Single Stacker King         700    48       35   42     1.0   Burger\n",
       "Double Stacker King        1050    49       61   68     1.0   Burger\n",
       "Hamburger                   240    26       13   10     1.0   Burger\n",
       "Cheeseburger                360    24       18   21     1.0   Burger\n",
       "Double Hamburger            350    26       21   18     1.0   Burger\n",
       "Double Cheeseburger         390    27       23   21     1.0   Burger\n",
       "Crispy Chicken              670    54       23   41     1.0  Chicken\n",
       "Chicken Nuggets             170    11        8   11     1.0  Chicken\n",
       "Spicy Chicken Nuggets       210    11        8   15     1.0  Chicken"
      ]
     },
     "execution_count": 107,
     "metadata": {},
     "output_type": "execute_result"
    }
   ],
   "source": [
    "burger_df = burger_df.drop(['brand', 'high_calorie'], axis=1)\n",
    "# 또는 inplace로 바로 삭제\n",
    "# burger_df.drop(['brand', 'high_calorie'], axis=1, inplace=True)\n",
    "burger_df"
   ]
  },
  {
   "cell_type": "code",
   "execution_count": 109,
   "id": "68efca0a-4fb4-45d5-b7db-de0433d2e77e",
   "metadata": {},
   "outputs": [
    {
     "data": {
      "text/html": [
       "<div>\n",
       "<style scoped>\n",
       "    .dataframe tbody tr th:only-of-type {\n",
       "        vertical-align: middle;\n",
       "    }\n",
       "\n",
       "    .dataframe tbody tr th {\n",
       "        vertical-align: top;\n",
       "    }\n",
       "\n",
       "    .dataframe thead th {\n",
       "        text-align: right;\n",
       "    }\n",
       "</style>\n",
       "<table border=\"1\" class=\"dataframe\">\n",
       "  <thead>\n",
       "    <tr style=\"text-align: right;\">\n",
       "      <th></th>\n",
       "      <th>quarter</th>\n",
       "      <th>revenue</th>\n",
       "      <th>cost</th>\n",
       "    </tr>\n",
       "  </thead>\n",
       "  <tbody>\n",
       "    <tr>\n",
       "      <th>0</th>\n",
       "      <td>1Q</td>\n",
       "      <td>1360</td>\n",
       "      <td>1240</td>\n",
       "    </tr>\n",
       "    <tr>\n",
       "      <th>1</th>\n",
       "      <td>2Q</td>\n",
       "      <td>2650</td>\n",
       "      <td>1970</td>\n",
       "    </tr>\n",
       "    <tr>\n",
       "      <th>2</th>\n",
       "      <td>3Q</td>\n",
       "      <td>2070</td>\n",
       "      <td>1750</td>\n",
       "    </tr>\n",
       "    <tr>\n",
       "      <th>3</th>\n",
       "      <td>4Q</td>\n",
       "      <td>4150</td>\n",
       "      <td>2760</td>\n",
       "    </tr>\n",
       "  </tbody>\n",
       "</table>\n",
       "</div>"
      ],
      "text/plain": [
       "  quarter  revenue  cost\n",
       "0      1Q     1360  1240\n",
       "1      2Q     2650  1970\n",
       "2      3Q     2070  1750\n",
       "3      4Q     4150  2760"
      ]
     },
     "execution_count": 109,
     "metadata": {},
     "output_type": "execute_result"
    }
   ],
   "source": [
    "#11. pandas에서 그래프 그리기\n",
    "# 1. 매출 및 비용 데이터프레임 생성\n",
    "sales_df = pd.DataFrame({\n",
    "    'quarter': ['1Q', '2Q', '3Q', '4Q'],    # 분기 컬럼 (1분기~4분기)\n",
    "    'revenue': [1360, 2650, 2070, 4150],    # 매출액 데이터\n",
    "    'cost': [1240, 1970, 1750, 2760]        # 비용 데이터\n",
    "})\n",
    "sales_df   # 데이터프레임 내용 확인"
   ]
  },
  {
   "cell_type": "code",
   "execution_count": 110,
   "id": "cf74ea4d-14b7-478c-bb5e-4cf446f7035b",
   "metadata": {},
   "outputs": [
    {
     "data": {
      "image/png": "[encoded data removed]",
      "text/plain": [
       "<Figure size 500x500 with 1 Axes>"
      ]
     },
     "metadata": {},
     "output_type": "display_data"
    }
   ],
   "source": [
    "# 2. 기본 선 그래프: 분기별 매출 변화 추이\n",
    "plt.plot(sales_df['quarter'], sales_df['revenue'])   # x축: 분기, y축: 매출액으로 선 그래프 그리기\n",
    "plt.xlabel('Quarter')        # x축 레이블\n",
    "plt.ylabel('Revenue')        # y축 레이블\n",
    "plt.title('Quarterly Revenue') # 그래프 제목\n",
    "plt.show()                  # 그래프 화면에 출력"
   ]
  },
  {
   "cell_type": "code",
   "execution_count": 111,
   "id": "8a6e1884-0575-4a28-9b28-1b6ed74f71f6",
   "metadata": {},
   "outputs": [
    {
     "data": {
      "image/png": "[encoded data removed]",
      "text/plain": [
       "<Figure size 500x500 with 1 Axes>"
      ]
     },
     "metadata": {},
     "output_type": "display_data"
    }
   ],
   "source": [
    "# 3. 전체 DataFrame의 기본 라인그래프\n",
    "sales_df.plot()             # 분기별로 revenue, cost 두 데이터 모두 선 그래프로 그림\n",
    "plt.title('Quarterly Revenue and Cost')\n",
    "plt.xlabel('Index (자동)')\n",
    "plt.ylabel('Value')\n",
    "plt.show()"
   ]
  },
  {
   "cell_type": "code",
   "execution_count": 112,
   "id": "eec08c7b-b41c-4303-bb10-b25aab856f01",
   "metadata": {},
   "outputs": [
    {
     "data": {
      "image/png": "[encoded data removed]",
      "text/plain": [
       "<Figure size 500x500 with 1 Axes>"
      ]
     },
     "metadata": {},
     "output_type": "display_data"
    }
   ],
   "source": [
    "# 4. 분기별 매출액만 선 그래프 (plot 메서드)\n",
    "sales_df.plot(x='quarter', y='revenue')    # quarter를 x축, revenue를 y축으로 라인그래프\n",
    "plt.title('Quarterly Revenue (Line Plot)')\n",
    "plt.xlabel('Quarter')\n",
    "plt.ylabel('Revenue')\n",
    "plt.show()"
   ]
  },
  {
   "cell_type": "code",
   "execution_count": 113,
   "id": "9d9e78bd-033c-47a1-9563-84d8a22c2989",
   "metadata": {},
   "outputs": [
    {
     "data": {
      "image/png": "[encoded data removed]",
      "text/plain": [
       "<Figure size 500x500 with 1 Axes>"
      ]
     },
     "metadata": {},
     "output_type": "display_data"
    }
   ],
   "source": [
    "# 5. 분기별 매출액 막대그래프\n",
    "sales_df.plot(x='quarter', y='revenue', kind='bar')  # kind='bar'로 분기별 매출액 막대그래프\n",
    "plt.title('Quarterly Revenue (Bar Plot)')\n",
    "plt.xlabel('Quarter')\n",
    "plt.ylabel('Revenue')\n",
    "plt.show()"
   ]
  },
  {
   "cell_type": "code",
   "execution_count": 114,
   "id": "ff187817-9931-4423-988f-fefe599e04ba",
   "metadata": {},
   "outputs": [
    {
     "data": {
      "image/png": "[encoded data removed]",
      "text/plain": [
       "<Figure size 500x500 with 1 Axes>"
      ]
     },
     "metadata": {},
     "output_type": "display_data"
    }
   ],
   "source": [
    "# 6. 분기별 매출액 파이차트\n",
    "sales_df.plot(y='revenue', kind='pie', labels=['1Q','2Q','3Q','4Q'])  # y로 revenue만 파이그래프로 표현, 각 조각에 분기명 라벨 부여\n",
    "plt.title('Revenue Share by Quarter')\n",
    "plt.ylabel('') # 파이차트는 y축 레이블 불필요\n",
    "plt.show()"
   ]
  },
  {
   "cell_type": "code",
   "execution_count": 115,
   "id": "6088749b-113e-45c8-9d3e-117d613acf72",
   "metadata": {},
   "outputs": [
    {
     "data": {
      "image/png": "[encoded data removed]",
      "text/plain": [
       "<Figure size 500x500 with 1 Axes>"
      ]
     },
     "metadata": {},
     "output_type": "display_data"
    }
   ],
   "source": [
    "# 7. burger_df에서 지방과 칼로리의 관계를 산점도로 시각화\n",
    "burger_df.plot(x='fat', y='calories', kind='scatter')    # x축: 지방, y축: 칼로리, 산점도 그리기\n",
    "plt.title('Fat vs Calories')      # 그래프 제목\n",
    "plt.xlabel('Fat')                 # x축: 지방\n",
    "plt.ylabel('Calories')            # y축: 칼로리\n",
    "plt.show()"
   ]
  }
 ],
 "metadata": {
  "kernelspec": {
   "display_name": "Python 3 (ipykernel)",
   "language": "python",
   "name": "python3"
  },
  "language_info": {
   "codemirror_mode": {
    "name": "ipython",
    "version": 3
   },
   "file_extension": ".py",
   "mimetype": "text/x-python",
   "name": "python",
   "nbconvert_exporter": "python",
   "pygments_lexer": "ipython3",
   "version": "3.13.2"
  }
 },
 "nbformat": 4,
 "nbformat_minor": 5
}
