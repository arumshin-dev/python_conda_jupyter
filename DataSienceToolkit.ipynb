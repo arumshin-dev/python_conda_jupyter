{
 "cells": [
  {
   "cell_type": "markdown",
   "id": "bf146f18-712c-410a-8af6-eef5bbae1d6b",
   "metadata": {},
   "source": [
    "주피터 노트북이 현재 어떤 환경에서 실행되고 있는지 확인하는 방법\n",
    "주피터 노트북을 폴더에서 바로 실행하면, 어떤 가상환경(예: conda 환경, base 등)에서 실행 중인지 헷갈릴 수 있습니다. 아래 방법으로 현재 노트북이 사용하는 환경을 쉽게 확인할 수 있습니다."
   ]
  },
  {
   "cell_type": "code",
   "execution_count": 1,
   "id": "c0d4fcea-fdcd-4e59-930a-d03ce3587c20",
   "metadata": {},
   "outputs": [
    {
     "name": "stdout",
     "output_type": "stream",
     "text": [
      "C:\\Users\\82109\\miniconda3\\python.exe\n"
     ]
    }
   ],
   "source": [
    "#환경 확인\n",
    "import sys\n",
    "print(sys.executable)\n"
   ]
  },
  {
   "cell_type": "markdown",
   "id": "2b60b4b9-8787-48fd-babe-fdfdbdadab1b",
   "metadata": {},
   "source": [
    "환경 이름만 간단히 확인"
   ]
  },
  {
   "cell_type": "code",
   "execution_count": 2,
   "id": "9d38a8e9-74e8-4161-877a-a55570a7d9a0",
   "metadata": {},
   "outputs": [
    {
     "name": "stdout",
     "output_type": "stream",
     "text": [
      "base\n"
     ]
    }
   ],
   "source": [
    "import os\n",
    "print(os.environ.get('CONDA_DEFAULT_ENV'))"
   ]
  },
  {
   "cell_type": "code",
   "execution_count": 3,
   "id": "3736c128-5ed1-45a9-9941-745d11520f7c",
   "metadata": {},
   "outputs": [
    {
     "name": "stdout",
     "output_type": "stream",
     "text": [
      "2.3.1\n"
     ]
    }
   ],
   "source": [
    "import numpy as np\n",
    "print(np.__version__)"
   ]
  },
  {
   "cell_type": "code",
   "execution_count": 4,
   "id": "0c8f29f0-0730-4058-b5ca-097d2424a28c",
   "metadata": {},
   "outputs": [
    {
     "data": {
      "text/plain": [
       "array([1, 3, 5, 6, 7, 9])"
      ]
     },
     "execution_count": 4,
     "metadata": {},
     "output_type": "execute_result"
    }
   ],
   "source": [
    "# 1. 1차원 배열 생성\n",
    "array1 = np.array([1,3,5,6,7,9])   # [1, 3, 5, 6, 7, 9]로 구성된 1차원 배열 생성\n",
    "array1                             # 배열 내용 출력"
   ]
  },
  {
   "cell_type": "code",
   "execution_count": 5,
   "id": "11a04959-91d4-4a0a-814d-1eea3324923c",
   "metadata": {},
   "outputs": [
    {
     "data": {
      "text/plain": [
       "array([0., 0., 0., 0., 0.])"
      ]
     },
     "execution_count": 5,
     "metadata": {},
     "output_type": "execute_result"
    }
   ],
   "source": [
    "# 2. 0으로 채워진 배열 생성\n",
    "np.zeros(5)                        # 0으로 채워진 길이 5짜리 1차원 배열 생성"
   ]
  },
  {
   "cell_type": "code",
   "execution_count": 6,
   "id": "eadfcfdd-cdf8-413d-a737-1782d7c72841",
   "metadata": {},
   "outputs": [
    {
     "data": {
      "text/plain": [
       "array([0, 1, 2, 3, 4, 5, 6, 7, 8, 9])"
      ]
     },
     "execution_count": 6,
     "metadata": {},
     "output_type": "execute_result"
    }
   ],
   "source": [
    "# 3. 연속된 정수 배열 생성\n",
    "np.arange(10)                      # 0부터 9까지의 정수로 이루어진 1차원 배열 생성 (10은 포함하지 않음)"
   ]
  },
  {
   "cell_type": "code",
   "execution_count": 7,
   "id": "c7a03155-971f-4b1c-84cd-882e1e34c2c4",
   "metadata": {},
   "outputs": [
    {
     "data": {
      "text/plain": [
       "array([2, 3, 4, 5, 6, 7, 8, 9])"
      ]
     },
     "execution_count": 7,
     "metadata": {},
     "output_type": "execute_result"
    }
   ],
   "source": [
    "np.arange(2,10)                    # 2부터 9까지의 정수로 이루어진 1차원 배열 생성 (10은 포함하지 않음)"
   ]
  },
  {
   "cell_type": "code",
   "execution_count": 8,
   "id": "4f3d5c97-8539-4aab-9d10-bb3b8a65d6e0",
   "metadata": {},
   "outputs": [
    {
     "data": {
      "text/plain": [
       "array([ 4,  7, 10, 13, 16])"
      ]
     },
     "execution_count": 8,
     "metadata": {},
     "output_type": "execute_result"
    }
   ],
   "source": [
    "np.arange(4,17,3)                  # 4부터 16까지 3씩 증가하는 값들로 이루어진 배열 생성 (17은 포함하지 않음)"
   ]
  },
  {
   "cell_type": "code",
   "execution_count": 9,
   "id": "4a01547c-00cb-43f8-b8f8-14f3f2e9644e",
   "metadata": {},
   "outputs": [
    {
     "data": {
      "text/plain": [
       "numpy.ndarray"
      ]
     },
     "execution_count": 9,
     "metadata": {},
     "output_type": "execute_result"
    }
   ],
   "source": [
    "# 4. 배열의 타입 확인\n",
    "type(array1)                       # array1의 자료형(타입) 확인, 보통 <class 'numpy.ndarray'>로 출력됨"
   ]
  },
  {
   "cell_type": "code",
   "execution_count": 10,
   "id": "5123af35-bee4-480b-97f5-ab717bba78cc",
   "metadata": {},
   "outputs": [
    {
     "data": {
      "text/plain": [
       "array([[ 1,  2,  3,  4],\n",
       "       [ 5,  6,  7,  8],\n",
       "       [ 9, 10, 11, 12]])"
      ]
     },
     "execution_count": 10,
     "metadata": {},
     "output_type": "execute_result"
    }
   ],
   "source": [
    "# 5. 2차원 배열 생성\n",
    "array2 = np.array([\n",
    "    [1,2,3,4],\n",
    "    [5,6,7,8],\n",
    "    [9,10,11,12]\n",
    "])                                 # 3행 4열의 2차원 배열 생성\n",
    "array2                             # 배열 내용 출력"
   ]
  },
  {
   "cell_type": "code",
   "execution_count": 11,
   "id": "822b6950-7dd4-44ac-8d68-c020537c4d2c",
   "metadata": {},
   "outputs": [
    {
     "data": {
      "text/plain": [
       "numpy.ndarray"
      ]
     },
     "execution_count": 11,
     "metadata": {},
     "output_type": "execute_result"
    }
   ],
   "source": [
    "# 6. 2차원 배열의 타입 확인\n",
    "type(array2)                       # array2의 자료형(타입) 확인, <class 'numpy.ndarray'>"
   ]
  },
  {
   "cell_type": "code",
   "execution_count": 12,
   "id": "f879bc3c-2870-4a72-9dd7-7ec588c7e324",
   "metadata": {},
   "outputs": [
    {
     "data": {
      "text/plain": [
       "6"
      ]
     },
     "execution_count": 12,
     "metadata": {},
     "output_type": "execute_result"
    }
   ],
   "source": [
    "# 7. 배열의 원소 개수 및 형태 확인\n",
    "array1.size                        # array1의 전체 원소 개수 (6)"
   ]
  },
  {
   "cell_type": "code",
   "execution_count": 13,
   "id": "a2da8092-0072-45e8-9f4b-78390ae4d59a",
   "metadata": {},
   "outputs": [
    {
     "data": {
      "text/plain": [
       "(6,)"
      ]
     },
     "execution_count": 13,
     "metadata": {},
     "output_type": "execute_result"
    }
   ],
   "source": [
    "array1.shape                       # array1의 배열 형태(차원), (6,) → 1차원에 6개 원소"
   ]
  },
  {
   "cell_type": "code",
   "execution_count": 14,
   "id": "2ea502f2-e7e6-420a-a64f-0a01a4259148",
   "metadata": {},
   "outputs": [
    {
     "data": {
      "text/plain": [
       "12"
      ]
     },
     "execution_count": 14,
     "metadata": {},
     "output_type": "execute_result"
    }
   ],
   "source": [
    "array2.size                        # array2의 전체 원소 개수 (12)"
   ]
  },
  {
   "cell_type": "code",
   "execution_count": 15,
   "id": "aec9b211-5d45-44f7-8fca-d54fb4906594",
   "metadata": {},
   "outputs": [
    {
     "data": {
      "text/plain": [
       "(3, 4)"
      ]
     },
     "execution_count": 15,
     "metadata": {},
     "output_type": "execute_result"
    }
   ],
   "source": [
    "array2.shape                       # array2의 배열 형태(차원), (3, 4) → 3행 4열"
   ]
  },
  {
   "cell_type": "code",
   "execution_count": 16,
   "id": "0cd2b97a-3c57-4437-ad5b-8bae060153a9",
   "metadata": {},
   "outputs": [
    {
     "name": "stdout",
     "output_type": "stream",
     "text": [
      "2.2.3\n",
      "3.10.0\n"
     ]
    }
   ],
   "source": [
    "import pandas as pd\n",
    "import matplotlib\n",
    "print(pd.__version__)\n",
    "print(matplotlib.__version__)"
   ]
  }
 ],
 "metadata": {
  "kernelspec": {
   "display_name": "Python 3 (ipykernel)",
   "language": "python",
   "name": "python3"
  },
  "language_info": {
   "codemirror_mode": {
    "name": "ipython",
    "version": 3
   },
   "file_extension": ".py",
   "mimetype": "text/x-python",
   "name": "python",
   "nbconvert_exporter": "python",
   "pygments_lexer": "ipython3",
   "version": "3.13.2"
  }
 },
 "nbformat": 4,
 "nbformat_minor": 5
}
