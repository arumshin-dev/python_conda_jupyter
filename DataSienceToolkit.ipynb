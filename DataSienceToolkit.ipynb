{
 "cells": [
  {
   "cell_type": "markdown",
   "id": "bf146f18-712c-410a-8af6-eef5bbae1d6b",
   "metadata": {},
   "source": [
    "주피터 노트북이 현재 어떤 환경에서 실행되고 있는지 확인하는 방법\n",
    "주피터 노트북을 폴더에서 바로 실행하면, 어떤 가상환경(예: conda 환경, base 등)에서 실행 중인지 헷갈릴 수 있습니다. 아래 방법으로 현재 노트북이 사용하는 환경을 쉽게 확인할 수 있습니다."
   ]
  },
  {
   "cell_type": "code",
   "execution_count": 1,
   "id": "c0d4fcea-fdcd-4e59-930a-d03ce3587c20",
   "metadata": {},
   "outputs": [
    {
     "name": "stdout",
     "output_type": "stream",
     "text": [
      "C:\\Users\\82109\\miniconda3\\python.exe\n"
     ]
    }
   ],
   "source": [
    "#환경 확인\n",
    "import sys\n",
    "print(sys.executable)\n"
   ]
  },
  {
   "cell_type": "markdown",
   "id": "2b60b4b9-8787-48fd-babe-fdfdbdadab1b",
   "metadata": {},
   "source": [
    "환경 이름만 간단히 확인"
   ]
  },
  {
   "cell_type": "code",
   "execution_count": 2,
   "id": "9d38a8e9-74e8-4161-877a-a55570a7d9a0",
   "metadata": {},
   "outputs": [
    {
     "name": "stdout",
     "output_type": "stream",
     "text": [
      "base\n"
     ]
    }
   ],
   "source": [
    "import os\n",
    "print(os.environ.get('CONDA_DEFAULT_ENV'))"
   ]
  },
  {
   "cell_type": "code",
   "execution_count": 3,
   "id": "3736c128-5ed1-45a9-9941-745d11520f7c",
   "metadata": {},
   "outputs": [
    {
     "name": "stdout",
     "output_type": "stream",
     "text": [
      "2.3.1\n"
     ]
    }
   ],
   "source": [
    "import numpy as np\n",
    "print(np.__version__)"
   ]
  },
  {
   "cell_type": "code",
   "execution_count": 4,
   "id": "0c8f29f0-0730-4058-b5ca-097d2424a28c",
   "metadata": {},
   "outputs": [
    {
     "data": {
      "text/plain": [
       "array([1, 3, 5, 6, 7, 9])"
      ]
     },
     "execution_count": 4,
     "metadata": {},
     "output_type": "execute_result"
    }
   ],
   "source": [
    "# 1. 1차원 배열 생성\n",
    "array1 = np.array([1,3,5,6,7,9])   # [1, 3, 5, 6, 7, 9]로 구성된 1차원 배열 생성\n",
    "array1                             # 배열 내용 출력"
   ]
  },
  {
   "cell_type": "code",
   "execution_count": 5,
   "id": "11a04959-91d4-4a0a-814d-1eea3324923c",
   "metadata": {},
   "outputs": [
    {
     "data": {
      "text/plain": [
       "array([0., 0., 0., 0., 0.])"
      ]
     },
     "execution_count": 5,
     "metadata": {},
     "output_type": "execute_result"
    }
   ],
   "source": [
    "# 2. 0으로 채워진 배열 생성\n",
    "np.zeros(5)                        # 0으로 채워진 길이 5짜리 1차원 배열 생성"
   ]
  },
  {
   "cell_type": "code",
   "execution_count": 6,
   "id": "eadfcfdd-cdf8-413d-a737-1782d7c72841",
   "metadata": {},
   "outputs": [
    {
     "data": {
      "text/plain": [
       "array([0, 1, 2, 3, 4, 5, 6, 7, 8, 9])"
      ]
     },
     "execution_count": 6,
     "metadata": {},
     "output_type": "execute_result"
    }
   ],
   "source": [
    "# 3. 연속된 정수 배열 생성\n",
    "np.arange(10)                      # 0부터 9까지의 정수로 이루어진 1차원 배열 생성 (10은 포함하지 않음)"
   ]
  },
  {
   "cell_type": "code",
   "execution_count": 7,
   "id": "c7a03155-971f-4b1c-84cd-882e1e34c2c4",
   "metadata": {},
   "outputs": [
    {
     "data": {
      "text/plain": [
       "array([2, 3, 4, 5, 6, 7, 8, 9])"
      ]
     },
     "execution_count": 7,
     "metadata": {},
     "output_type": "execute_result"
    }
   ],
   "source": [
    "np.arange(2,10)                    # 2부터 9까지의 정수로 이루어진 1차원 배열 생성 (10은 포함하지 않음)"
   ]
  },
  {
   "cell_type": "code",
   "execution_count": 8,
   "id": "4f3d5c97-8539-4aab-9d10-bb3b8a65d6e0",
   "metadata": {},
   "outputs": [
    {
     "data": {
      "text/plain": [
       "array([ 4,  7, 10, 13, 16])"
      ]
     },
     "execution_count": 8,
     "metadata": {},
     "output_type": "execute_result"
    }
   ],
   "source": [
    "np.arange(4,17,3)                  # 4부터 16까지 3씩 증가하는 값들로 이루어진 배열 생성 (17은 포함하지 않음)"
   ]
  },
  {
   "cell_type": "code",
   "execution_count": 9,
   "id": "4a01547c-00cb-43f8-b8f8-14f3f2e9644e",
   "metadata": {},
   "outputs": [
    {
     "data": {
      "text/plain": [
       "numpy.ndarray"
      ]
     },
     "execution_count": 9,
     "metadata": {},
     "output_type": "execute_result"
    }
   ],
   "source": [
    "# 4. 배열의 타입 확인\n",
    "type(array1)                       # array1의 자료형(타입) 확인, 보통 <class 'numpy.ndarray'>로 출력됨"
   ]
  },
  {
   "cell_type": "code",
   "execution_count": 10,
   "id": "5123af35-bee4-480b-97f5-ab717bba78cc",
   "metadata": {},
   "outputs": [
    {
     "data": {
      "text/plain": [
       "array([[ 1,  2,  3,  4],\n",
       "       [ 5,  6,  7,  8],\n",
       "       [ 9, 10, 11, 12]])"
      ]
     },
     "execution_count": 10,
     "metadata": {},
     "output_type": "execute_result"
    }
   ],
   "source": [
    "# 5. 2차원 배열 생성\n",
    "array2 = np.array([\n",
    "    [1,2,3,4],\n",
    "    [5,6,7,8],\n",
    "    [9,10,11,12]\n",
    "])                                 # 3행 4열의 2차원 배열 생성\n",
    "array2                             # 배열 내용 출력"
   ]
  },
  {
   "cell_type": "code",
   "execution_count": 11,
   "id": "822b6950-7dd4-44ac-8d68-c020537c4d2c",
   "metadata": {},
   "outputs": [
    {
     "data": {
      "text/plain": [
       "numpy.ndarray"
      ]
     },
     "execution_count": 11,
     "metadata": {},
     "output_type": "execute_result"
    }
   ],
   "source": [
    "# 6. 2차원 배열의 타입 확인\n",
    "type(array2)                       # array2의 자료형(타입) 확인, <class 'numpy.ndarray'>"
   ]
  },
  {
   "cell_type": "code",
   "execution_count": 12,
   "id": "f879bc3c-2870-4a72-9dd7-7ec588c7e324",
   "metadata": {},
   "outputs": [
    {
     "data": {
      "text/plain": [
       "6"
      ]
     },
     "execution_count": 12,
     "metadata": {},
     "output_type": "execute_result"
    }
   ],
   "source": [
    "# 7. 배열의 원소 개수 및 형태 확인\n",
    "array1.size                        # array1의 전체 원소 개수 (6)"
   ]
  },
  {
   "cell_type": "code",
   "execution_count": 13,
   "id": "a2da8092-0072-45e8-9f4b-78390ae4d59a",
   "metadata": {},
   "outputs": [
    {
     "data": {
      "text/plain": [
       "(6,)"
      ]
     },
     "execution_count": 13,
     "metadata": {},
     "output_type": "execute_result"
    }
   ],
   "source": [
    "array1.shape                       # array1의 배열 형태(차원), (6,) → 1차원에 6개 원소"
   ]
  },
  {
   "cell_type": "code",
   "execution_count": 14,
   "id": "2ea502f2-e7e6-420a-a64f-0a01a4259148",
   "metadata": {},
   "outputs": [
    {
     "data": {
      "text/plain": [
       "12"
      ]
     },
     "execution_count": 14,
     "metadata": {},
     "output_type": "execute_result"
    }
   ],
   "source": [
    "array2.size                        # array2의 전체 원소 개수 (12)"
   ]
  },
  {
   "cell_type": "code",
   "execution_count": 15,
   "id": "aec9b211-5d45-44f7-8fca-d54fb4906594",
   "metadata": {},
   "outputs": [
    {
     "data": {
      "text/plain": [
       "(3, 4)"
      ]
     },
     "execution_count": 15,
     "metadata": {},
     "output_type": "execute_result"
    }
   ],
   "source": [
    "array2.shape                       # array2의 배열 형태(차원), (3, 4) → 3행 4열"
   ]
  },
  {
   "cell_type": "code",
   "execution_count": 16,
   "id": "6d8c56c1-b632-45e5-a87e-136508c2338d",
   "metadata": {},
   "outputs": [
    {
     "data": {
      "text/plain": [
       "array([ 6610,  7637,  8127,  8885, 10385, 12565, 13403, 12398,  8282,\n",
       "       10672])"
      ]
     },
     "execution_count": 16,
     "metadata": {},
     "output_type": "execute_result"
    }
   ],
   "source": [
    "# 1. GDP 데이터로 1차원 넘파이 배열 생성\n",
    "gdp_array = np.array([6610, 7637, 8127, 8885, 10385, 12565, 13403, 12398, 8282, 10672])\n",
    "gdp_array  # 배열 전체 출력"
   ]
  },
  {
   "cell_type": "code",
   "execution_count": 17,
   "id": "8edaa224-0fd7-407f-a0ff-83883c184947",
   "metadata": {},
   "outputs": [
    {
     "data": {
      "text/plain": [
       "np.int64(10672)"
      ]
     },
     "execution_count": 17,
     "metadata": {},
     "output_type": "execute_result"
    }
   ],
   "source": [
    "# 2. 배열의 마지막 원소 조회 (음수 인덱스 사용) \n",
    "#  0 1 2 3 4 5 6 7 8 9\n",
    "#-10-9-8-7-6-5-4-3-2-1\n",
    "gdp_array[-1]  # 10672 (마지막 연도의 GDP)"
   ]
  },
  {
   "cell_type": "code",
   "execution_count": 18,
   "id": "65d28033-bddc-4f75-a81c-2d5b99838f06",
   "metadata": {},
   "outputs": [
    {
     "data": {
      "text/plain": [
       "array([ 7637,  8885, 10385])"
      ]
     },
     "execution_count": 18,
     "metadata": {},
     "output_type": "execute_result"
    }
   ],
   "source": [
    "# 3. 배열에서 여러 개의 특정 위치 값만 추출 (Fancy Indexing)\n",
    "gdp_array[[1, 3, 4]]  # [7637, 8885, 10385] (2번째, 4번째, 5번째 값)"
   ]
  },
  {
   "cell_type": "code",
   "execution_count": 19,
   "id": "e7adf15d-8234-4d37-85d3-437dc98d51b0",
   "metadata": {},
   "outputs": [
    {
     "data": {
      "text/plain": [
       "array([ 8127,  7637,  8885, 12565])"
      ]
     },
     "execution_count": 19,
     "metadata": {},
     "output_type": "execute_result"
    }
   ],
   "source": [
    "# 4. 다른 배열을 인덱스로 사용해 값 추출\n",
    "arr1 = np.array([2, 1, 3, 5])\n",
    "gdp_array[arr1]  # [8127, 7637, 8885, 12565] (arr1이 지정한 위치의 값들)"
   ]
  },
  {
   "cell_type": "code",
   "execution_count": 20,
   "id": "83135a86-ace1-4ac8-936d-bbd3787171f9",
   "metadata": {},
   "outputs": [
    {
     "data": {
      "text/plain": [
       "array([8127, 8885])"
      ]
     },
     "execution_count": 20,
     "metadata": {},
     "output_type": "execute_result"
    }
   ],
   "source": [
    "# 5. 슬라이싱: 2번째부터 3번째까지 (인덱스 2~3)\n",
    "gdp_array[2:4]  # [8127, 8885] (3번째, 4번째 값)"
   ]
  },
  {
   "cell_type": "code",
   "execution_count": 21,
   "id": "b1776581-4977-4f51-978a-a254b267655a",
   "metadata": {},
   "outputs": [
    {
     "data": {
      "text/plain": [
       "array([6610, 7637, 8127])"
      ]
     },
     "execution_count": 21,
     "metadata": {},
     "output_type": "execute_result"
    }
   ],
   "source": [
    "# 6. 슬라이싱: 처음부터 2번째까지 (인덱스 0~2)\n",
    "gdp_array[:3]  # [6610, 7637, 8127] (처음 3개 값)"
   ]
  },
  {
   "cell_type": "code",
   "execution_count": 22,
   "id": "ced21b18-8013-4bdb-a199-cf4448930dff",
   "metadata": {},
   "outputs": [
    {
     "data": {
      "text/plain": [
       "array([12398,  8282, 10672])"
      ]
     },
     "execution_count": 22,
     "metadata": {},
     "output_type": "execute_result"
    }
   ],
   "source": [
    "# 7. 슬라이싱: 8번째부터 끝까지 (인덱스 7~끝)\n",
    "gdp_array[7:]  # [12398, 8282, 10672] (마지막 3개 값)"
   ]
  },
  {
   "cell_type": "code",
   "execution_count": 23,
   "id": "43ca5c3a-4ff7-4da1-bf63-34364a96d4d2",
   "metadata": {
    "scrolled": true
   },
   "outputs": [
    {
     "data": {
      "text/plain": [
       "array([ 7637, 10385, 12398])"
      ]
     },
     "execution_count": 23,
     "metadata": {},
     "output_type": "execute_result"
    }
   ],
   "source": [
    "# 8. 슬라이싱: 2번째부터 8번째까지, 3칸씩 건너뛰며 추출 (인덱스 1, 4, 7)\n",
    "gdp_array[1:8:3]  # [7637, 10385, 12398]"
   ]
  },
  {
   "cell_type": "code",
   "execution_count": 24,
   "id": "dada1284-caf0-4a44-ba65-0c2fefcb42c6",
   "metadata": {
    "scrolled": true
   },
   "outputs": [],
   "source": [
    "# 4개 국가(대한민국, 일본, 중국, 미국)의 연도별 GDP 데이터로 2차원 배열 생성\n",
    "gdp_array2 = np.array([\n",
    "    [12257, 11561, 13165, 14673, 16496, 19403],  # 대한민국\n",
    "    [39169, 34406, 32821, 35387, 38299, 37813],  # 일본\n",
    "    [959, 1053, 1149, 1289, 1509, 1753],         # 중국\n",
    "    [36335, 37133, 38023, 39496, 41713, 44115]   # 미국\n",
    "])"
   ]
  },
  {
   "cell_type": "code",
   "execution_count": 25,
   "id": "e749aeb3-1b1c-4ce5-9aac-3d9f245478cb",
   "metadata": {
    "scrolled": true
   },
   "outputs": [
    {
     "data": {
      "text/plain": [
       "array([[12257, 11561, 13165, 14673, 16496, 19403],\n",
       "       [39169, 34406, 32821, 35387, 38299, 37813],\n",
       "       [  959,  1053,  1149,  1289,  1509,  1753],\n",
       "       [36335, 37133, 38023, 39496, 41713, 44115]])"
      ]
     },
     "execution_count": 25,
     "metadata": {},
     "output_type": "execute_result"
    }
   ],
   "source": [
    "gdp_array2  # 전체 2차원 배열 출력 (4개 국가 x 6개 연도)"
   ]
  },
  {
   "cell_type": "code",
   "execution_count": 26,
   "id": "ec4c0fdc-7fc6-4a9c-852e-1ef7235cb868",
   "metadata": {
    "scrolled": true
   },
   "outputs": [
    {
     "data": {
      "text/plain": [
       "array([39169, 34406, 32821, 35387, 38299, 37813])"
      ]
     },
     "execution_count": 26,
     "metadata": {},
     "output_type": "execute_result"
    }
   ],
   "source": [
    "gdp_array2[1]        # 일본의 모든 연도별 GDP (2번째 행 전체 추출)"
   ]
  },
  {
   "cell_type": "code",
   "execution_count": 27,
   "id": "a89f7ac0-1f50-48b8-aa13-1a93a508daa7",
   "metadata": {
    "scrolled": true
   },
   "outputs": [
    {
     "data": {
      "text/plain": [
       "np.int64(35387)"
      ]
     },
     "execution_count": 27,
     "metadata": {},
     "output_type": "execute_result"
    }
   ],
   "source": [
    "gdp_array2[1][3]     # 일본의 4번째 연도 GDP (2번째 행, 4번째 열 값: 35387)"
   ]
  },
  {
   "cell_type": "code",
   "execution_count": 28,
   "id": "d0d4a37e-40f0-43c2-b228-e95721d3157b",
   "metadata": {
    "scrolled": true
   },
   "outputs": [
    {
     "data": {
      "text/plain": [
       "array([[32821, 35387, 38299],\n",
       "       [ 1149,  1289,  1509]])"
      ]
     },
     "execution_count": 28,
     "metadata": {},
     "output_type": "execute_result"
    }
   ],
   "source": [
    "gdp_array2[1:3,2:5]  # 일본, 중국(2~3번째 행)의 3~5번째 연도 GDP (열 index 2~4)"
   ]
  },
  {
   "cell_type": "code",
   "execution_count": 29,
   "id": "fd831327-18ed-4257-a6b3-2e9de42ca5ec",
   "metadata": {
    "scrolled": true
   },
   "outputs": [
    {
     "data": {
      "text/plain": [
       "array([[32821, 35387, 38299, 37813],\n",
       "       [ 1149,  1289,  1509,  1753]])"
      ]
     },
     "execution_count": 29,
     "metadata": {},
     "output_type": "execute_result"
    }
   ],
   "source": [
    "gdp_array2[1:3,2:]   # 일본, 중국의 3번째 연도부터 마지막까지 GDP (열 index 2~끝)"
   ]
  },
  {
   "cell_type": "code",
   "execution_count": 30,
   "id": "400c0d6c-d2be-4e61-996a-3a155f8dd54a",
   "metadata": {
    "scrolled": true
   },
   "outputs": [
    {
     "data": {
      "text/plain": [
       "array([[13165, 14673, 16496],\n",
       "       [32821, 35387, 38299],\n",
       "       [ 1149,  1289,  1509]])"
      ]
     },
     "execution_count": 30,
     "metadata": {},
     "output_type": "execute_result"
    }
   ],
   "source": [
    "gdp_array2[:3, 2:5]  # 대한민국, 일본, 중국(0~2번째 행)의 3~5번째 연도 GDP"
   ]
  },
  {
   "cell_type": "code",
   "execution_count": 31,
   "id": "9ce7ef83-6fd3-412c-b214-de64a02263b5",
   "metadata": {
    "scrolled": true
   },
   "outputs": [
    {
     "data": {
      "text/plain": [
       "array([[13165, 14673, 16496],\n",
       "       [32821, 35387, 38299],\n",
       "       [ 1149,  1289,  1509],\n",
       "       [38023, 39496, 41713]])"
      ]
     },
     "execution_count": 31,
     "metadata": {},
     "output_type": "execute_result"
    }
   ],
   "source": [
    "gdp_array2[:,2:5]    # 모든 국가의 3~5번째 연도 GDP (열 index 2~4)"
   ]
  },
  {
   "cell_type": "code",
   "execution_count": 32,
   "id": "aeaafa68-2d2b-47a3-9f4f-7b21d2115692",
   "metadata": {
    "scrolled": true
   },
   "outputs": [
    {
     "data": {
      "text/plain": [
       "array([[39169, 34406, 32821, 35387, 38299, 37813],\n",
       "       [  959,  1053,  1149,  1289,  1509,  1753]])"
      ]
     },
     "execution_count": 32,
     "metadata": {},
     "output_type": "execute_result"
    }
   ],
   "source": [
    "gdp_array2[1:3,:]    # 일본, 중국(1~2번째 행)의 모든 연도 GDP (전체 열)"
   ]
  },
  {
   "cell_type": "code",
   "execution_count": 33,
   "id": "f068c10b-bbd4-4282-aa49-9ca07f6ce64b",
   "metadata": {},
   "outputs": [
    {
     "data": {
      "text/plain": [
       "array([False, False, False, False,  True,  True,  True,  True, False,\n",
       "        True])"
      ]
     },
     "execution_count": 33,
     "metadata": {},
     "output_type": "execute_result"
    }
   ],
   "source": [
    "# 1. 각 값이 10000보다 큰지 비교 (Boolean 배열 생성)\n",
    "gdp_array > 10000              # [False False False False  True  True  True  True False  True]"
   ]
  },
  {
   "cell_type": "code",
   "execution_count": 34,
   "id": "38ea6998-29c8-4b34-9d1c-6889ce316cb8",
   "metadata": {},
   "outputs": [],
   "source": [
    "# 2. 10000보다 큰 값만 골라내는 마스크(조건) 생성\n",
    "mask = gdp_array > 10000       # mask: [False False False False  True  True  True  True False  True]"
   ]
  },
  {
   "cell_type": "code",
   "execution_count": 35,
   "id": "50665c14-3331-45a4-adb5-93499a53e7be",
   "metadata": {},
   "outputs": [
    {
     "data": {
      "text/plain": [
       "array([10385, 12565, 13403, 12398, 10672])"
      ]
     },
     "execution_count": 35,
     "metadata": {},
     "output_type": "execute_result"
    }
   ],
   "source": [
    "# 3. 마스크를 사용해 10000 초과 값만 추출 (Boolean 인덱싱)\n",
    "gdp_array[mask]                # [10385 12565 13403 12398 10672]"
   ]
  },
  {
   "cell_type": "code",
   "execution_count": 36,
   "id": "99eaf893-1872-4d08-8a8f-a3cc5e43cd4e",
   "metadata": {},
   "outputs": [
    {
     "data": {
      "text/plain": [
       "array([10385, 12565, 13403, 12398, 10672])"
      ]
     },
     "execution_count": 36,
     "metadata": {},
     "output_type": "execute_result"
    }
   ],
   "source": [
    "# 4. 조건식을 바로 인덱싱에 사용해도 동일 (inline Boolean 인덱싱)\n",
    "gdp_array[gdp_array > 10000]   # [10385 12565 13403 12398 10672]"
   ]
  },
  {
   "cell_type": "code",
   "execution_count": 37,
   "id": "9b398529-2d9c-4103-9ab1-6a92e4577e5e",
   "metadata": {},
   "outputs": [
    {
     "data": {
      "text/plain": [
       "array([False, False, False, False,  True,  True,  True,  True, False,\n",
       "        True])"
      ]
     },
     "execution_count": 37,
     "metadata": {},
     "output_type": "execute_result"
    }
   ],
   "source": [
    "# 5. 각 값이 10000보다 큰지 Boolean 배열로 확인\n",
    "gdp_array > 10000              # [False False False False  True  True  True  True False  True]"
   ]
  },
  {
   "cell_type": "code",
   "execution_count": 38,
   "id": "35a370c1-9911-455a-bc8b-5b8e4ac2cdfe",
   "metadata": {},
   "outputs": [
    {
     "data": {
      "text/plain": [
       "array([ True,  True, False, False, False, False, False, False, False,\n",
       "       False])"
      ]
     },
     "execution_count": 38,
     "metadata": {},
     "output_type": "execute_result"
    }
   ],
   "source": [
    "# 6. 각 값이 8000보다 작은지 Boolean 배열로 확인\n",
    "gdp_array < 8000               # [ True  True False False False False False False  True False]"
   ]
  },
  {
   "cell_type": "code",
   "execution_count": 39,
   "id": "865a1a36-9daf-4fec-b1bf-f7d331403cf7",
   "metadata": {},
   "outputs": [
    {
     "data": {
      "text/plain": [
       "array([ True,  True, False, False,  True,  True,  True,  True, False,\n",
       "        True])"
      ]
     },
     "execution_count": 39,
     "metadata": {},
     "output_type": "execute_result"
    }
   ],
   "source": [
    "# 7. 10000 초과 또는 8000 미만인 값 찾기 (조건 결합: OR)\n",
    "(gdp_array > 10000) | (gdp_array < 8000)  # [ True  True False False  True  True  True  True  True  True]"
   ]
  },
  {
   "cell_type": "code",
   "execution_count": 40,
   "id": "01a7f87e-5525-4020-9b78-5544c5e7786a",
   "metadata": {},
   "outputs": [
    {
     "data": {
      "text/plain": [
       "array([ 6610,  7637, 10385, 12565, 13403, 12398, 10672])"
      ]
     },
     "execution_count": 40,
     "metadata": {},
     "output_type": "execute_result"
    }
   ],
   "source": [
    "# 8. 위 조건을 만족하는 값들만 추출\n",
    "gdp_array[(gdp_array > 10000) | (gdp_array < 8000)]  # [ 6610  7637 10385 12565 13403 12398  8282 10672]"
   ]
  },
  {
   "cell_type": "code",
   "execution_count": 41,
   "id": "bdd8f1d3-631f-4555-a90e-bf65db5dc2b3",
   "metadata": {},
   "outputs": [
    {
     "data": {
      "text/plain": [
       "array([8127, 8885, 8282])"
      ]
     },
     "execution_count": 41,
     "metadata": {},
     "output_type": "execute_result"
    }
   ],
   "source": [
    "# 9. 8000 이상 10000 이하인 값만 추출 (조건 결합: AND)\n",
    "gdp_array[(gdp_array <= 10000) & (gdp_array >= 8000)]  # [8127 8885]"
   ]
  },
  {
   "cell_type": "code",
   "execution_count": 42,
   "id": "9af1aa1f-a014-4998-a3fb-e3d05acebe06",
   "metadata": {
    "scrolled": true
   },
   "outputs": [
    {
     "data": {
      "text/plain": [
       "array([12257, 11561, 13165, 14673, 16496, 19403])"
      ]
     },
     "execution_count": 42,
     "metadata": {},
     "output_type": "execute_result"
    }
   ],
   "source": [
    "# 대한민국의 연도별 GDP 데이터만 추출 (1차원 배열)\n",
    "gdp_korea_array = gdp_array2[0]\n",
    "gdp_korea_array  # [12257, 11561, 13165, 14673, 16496, 19403]"
   ]
  },
  {
   "cell_type": "code",
   "execution_count": 43,
   "id": "5dfaa3e5-b045-49e1-b2f5-a60387beb936",
   "metadata": {
    "scrolled": true
   },
   "outputs": [
    {
     "data": {
      "text/plain": [
       "np.float64(14592.5)"
      ]
     },
     "execution_count": 43,
     "metadata": {},
     "output_type": "execute_result"
    }
   ],
   "source": [
    "# 대한민국 GDP의 평균값 계산\n",
    "gdp_korea_array.mean()  # 배열의 평균 (평균 GDP)"
   ]
  },
  {
   "cell_type": "code",
   "execution_count": 44,
   "id": "9464ac17-fece-4588-b8f9-cc97acf189a5",
   "metadata": {
    "scrolled": true
   },
   "outputs": [
    {
     "data": {
      "text/plain": [
       "np.int64(87555)"
      ]
     },
     "execution_count": 44,
     "metadata": {},
     "output_type": "execute_result"
    }
   ],
   "source": [
    "# 대한민국 GDP의 총합 계산\n",
    "gdp_korea_array.sum()   # 배열의 합계 (전체 기간 GDP 합)"
   ]
  },
  {
   "cell_type": "code",
   "execution_count": 45,
   "id": "a057e39c-be99-43b1-bc6f-8fe52b6e922b",
   "metadata": {
    "scrolled": true
   },
   "outputs": [
    {
     "data": {
      "text/plain": [
       "np.int64(11561)"
      ]
     },
     "execution_count": 45,
     "metadata": {},
     "output_type": "execute_result"
    }
   ],
   "source": [
    "# 대한민국 GDP 중 최소값 찾기\n",
    "gdp_korea_array.min()   # 배열의 최소값 (가장 낮은 연도 GDP)"
   ]
  },
  {
   "cell_type": "code",
   "execution_count": 46,
   "id": "ac92fdde-e991-4d5e-ac1e-a05da38ba3ff",
   "metadata": {
    "scrolled": true
   },
   "outputs": [
    {
     "data": {
      "text/plain": [
       "np.int64(19403)"
      ]
     },
     "execution_count": 46,
     "metadata": {},
     "output_type": "execute_result"
    }
   ],
   "source": [
    "# 대한민국 GDP 중 최대값 찾기\n",
    "gdp_korea_array.max()   # 배열의 최대값 (가장 높은 연도 GDP)"
   ]
  },
  {
   "cell_type": "code",
   "execution_count": 47,
   "id": "4cb7b12d-dfc6-48ad-9817-72d8930f6834",
   "metadata": {
    "scrolled": true
   },
   "outputs": [
    {
     "data": {
      "text/plain": [
       "array([14708400, 13873200, 15798000, 17607600, 19795200, 23283600])"
      ]
     },
     "execution_count": 47,
     "metadata": {},
     "output_type": "execute_result"
    }
   ],
   "source": [
    "# # for문으로 각 원소에 1200 곱하기 (주석 처리, 아래 벡터 연산으로 대체)\n",
    "# for i in range(len(gdp_korea_array)):\n",
    "#     gdp_korea_array[i] = gdp_korea_array[i] * 1200\n",
    "\n",
    "# 벡터 연산: 배열 전체에 1200 곱하기 (원본은 변하지 않음)\n",
    "gdp_korea_array * 1200  # 모든 연도 GDP를 1200배 (예: 달러→원 환산 등)"
   ]
  },
  {
   "cell_type": "code",
   "execution_count": 48,
   "id": "3e1aea6d-c064-4338-be2a-fe41786f96d3",
   "metadata": {
    "scrolled": true
   },
   "outputs": [
    {
     "data": {
      "text/plain": [
       "array([12257, 11561, 13165, 14673, 16496, 19403])"
      ]
     },
     "execution_count": 48,
     "metadata": {},
     "output_type": "execute_result"
    }
   ],
   "source": [
    "# 원본 배열은 그대로 유지됨\n",
    "gdp_korea_array  # [12257, 11561, 13165, 14673, 16496, 19403]"
   ]
  },
  {
   "cell_type": "code",
   "execution_count": 49,
   "id": "7c94e808-a1fe-4600-8fc5-918e74bd15e2",
   "metadata": {
    "scrolled": true
   },
   "outputs": [
    {
     "data": {
      "text/plain": [
       "array([14708400, 13873200, 15798000, 17607600, 19795200, 23283600])"
      ]
     },
     "execution_count": 49,
     "metadata": {},
     "output_type": "execute_result"
    }
   ],
   "source": [
    "# 배열 전체에 1200 곱한 결과를 다시 변수에 저장 (원본 덮어쓰기)\n",
    "gdp_korea_array = gdp_korea_array * 1200\n",
    "gdp_korea_array  # [14708400, 13873200, 15798000, 17607600, 19795200, 23283600]"
   ]
  },
  {
   "cell_type": "code",
   "execution_count": 50,
   "id": "8ab3769c-4658-4168-bdf5-ca14fac116fe",
   "metadata": {
    "scrolled": true
   },
   "outputs": [
    {
     "data": {
      "text/plain": [
       "array([12257., 11561., 13165., 14673., 16496., 19403.])"
      ]
     },
     "execution_count": 50,
     "metadata": {},
     "output_type": "execute_result"
    }
   ],
   "source": [
    "# 배열 전체를 1200으로 나눠서 다시 원래 값으로 복원\n",
    "gdp_korea_array = gdp_korea_array / 1200\n",
    "gdp_korea_array  # [12257., 11561., 13165., 14673., 16496., 19403.]"
   ]
  },
  {
   "cell_type": "code",
   "execution_count": 51,
   "id": "f0caa43d-fdf1-41e0-bb48-7f72eca988f3",
   "metadata": {
    "scrolled": true
   },
   "outputs": [],
   "source": [
    "# 다시 대한민국 GDP 원본 배열로 복원\n",
    "gdp_korea_array = gdp_array2[0]"
   ]
  },
  {
   "cell_type": "code",
   "execution_count": 52,
   "id": "802a3a47-cba0-429a-a6a1-8cecb8507d03",
   "metadata": {
    "scrolled": true
   },
   "outputs": [],
   "source": [
    "# 미국의 연도별 GDP 데이터 추출\n",
    "gdp_us_array = gdp_array2[3]"
   ]
  },
  {
   "cell_type": "code",
   "execution_count": 53,
   "id": "009623af-e6b4-405c-9f3b-104cf4d9a460",
   "metadata": {
    "scrolled": true
   },
   "outputs": [
    {
     "data": {
      "text/plain": [
       "array([24078, 25572, 24858, 24823, 25217, 24712])"
      ]
     },
     "execution_count": 53,
     "metadata": {},
     "output_type": "execute_result"
    }
   ],
   "source": [
    "# 미국 GDP에서 대한민국 GDP를 뺀 차이 (각 연도별 국가 간 GDP 차이)\n",
    "gdp_us_array - gdp_korea_array  # [24078, 25572, 24858, 24823, 25217, 24712]"
   ]
  },
  {
   "cell_type": "code",
   "execution_count": 54,
   "id": "255f88cd-2774-4378-84e6-379e3df89e78",
   "metadata": {
    "scrolled": true
   },
   "outputs": [
    {
     "data": {
      "text/plain": [
       "array([2.96442849, 3.21191938, 2.88818838, 2.69174675, 2.52867362,\n",
       "       2.27361748])"
      ]
     },
     "execution_count": 54,
     "metadata": {},
     "output_type": "execute_result"
    }
   ],
   "source": [
    "# 미국 GDP를 대한민국 GDP로 나눈 비율 (각 연도별 미국/한국 GDP 배수)\n",
    "gdp_us_array / gdp_korea_array  # [2.965..., 3.214..., 2.889..., 2.694..., 2.529..., 2.273...]"
   ]
  },
  {
   "cell_type": "code",
   "execution_count": 55,
   "id": "9413afcf-d7fe-472e-9da5-ff3b4a90d821",
   "metadata": {},
   "outputs": [
    {
     "data": {
      "text/plain": [
       "array([  2,   4,   6,   8,  10,  12,  14,  16,  18,  20,  22,  24,  26,\n",
       "        28,  30,  32,  34,  36,  38,  40,  42,  44,  46,  48,  50,  52,\n",
       "        54,  56,  58,  60,  62,  64,  66,  68,  70,  72,  74,  76,  78,\n",
       "        80,  82,  84,  86,  88,  90,  92,  94,  96,  98, 100])"
      ]
     },
     "execution_count": 55,
     "metadata": {},
     "output_type": "execute_result"
    }
   ],
   "source": [
    "# 1부터 100까지의 정수로 이루어진 1차원 배열 생성 (100 포함)\n",
    "numbers_array = np.arange(1, 101)\n",
    "\n",
    "# numbers_array에서 2로 나누어 떨어지는(짝수) 값만 추출 (Boolean 인덱싱)\n",
    "numbers_array[numbers_array % 2 == 0]\n",
    "# → numbers_array의 각 원소에 대해 2로 나눈 나머지가 0인 값(짝수)만 골라서 반환\n",
    "# 결과: [  2   4   6 ... 100]"
   ]
  },
  {
   "cell_type": "code",
   "execution_count": 56,
   "id": "0cd2b97a-3c57-4437-ad5b-8bae060153a9",
   "metadata": {},
   "outputs": [
    {
     "name": "stdout",
     "output_type": "stream",
     "text": [
      "2.2.3\n",
      "3.10.0\n"
     ]
    }
   ],
   "source": [
    "import pandas as pd\n",
    "import matplotlib\n",
    "print(pd.__version__)\n",
    "print(matplotlib.__version__)"
   ]
  },
  {
   "cell_type": "code",
   "execution_count": 57,
   "id": "660fd0c4-3fbd-46b0-af7d-eaeb4de51b71",
   "metadata": {},
   "outputs": [
    {
     "data": {
      "image/png": "[encoded data removed]",
      "text/plain": [
       "<Figure size 640x480 with 1 Axes>"
      ]
     },
     "metadata": {},
     "output_type": "display_data"
    }
   ],
   "source": [
    "#matplotlib 데이터 시각화 그래프 그리기\n",
    "import matplotlib.pyplot as plt\n",
    "\n",
    "# 1. 선 그래프 (Line Plot)\n",
    "year_array = np.arange(2011, 2021)  # 2011~2020년까지 연도 배열 생성\n",
    "stock_array = np.array([14.46, 19.01, 20.04, 27.59, 26.32, 28.96, 42.31, 39.44, 73.41, 132.69])  # 연도별 주가 데이터\n",
    "\n",
    "plt.plot(year_array, stock_array)      # x축: 연도, y축: 주가로 선 그래프 그리기\n",
    "plt.show()                             # 그래프 화면에 출력"
   ]
  },
  {
   "cell_type": "code",
   "execution_count": 58,
   "id": "6c6b964b-3c96-4a99-a0ba-7224a2d23871",
   "metadata": {},
   "outputs": [
    {
     "data": {
      "image/png": "[encoded data removed]",
      "text/plain": [
       "<Figure size 640x480 with 1 Axes>"
      ]
     },
     "metadata": {},
     "output_type": "display_data"
    }
   ],
   "source": [
    "# 2. 막대 그래프 (Bar Plot)\n",
    "name_array = np.array(['a', 'b', 'c', 'd', 'e'])      # 이름(범주) 배열\n",
    "votes_array = np.array([5, 10, 6, 8, 3])              # 각 이름별 득표수 배열\n",
    "\n",
    "plt.bar(name_array, votes_array)        # x축: 이름, y축: 득표수로 막대 그래프 그리기\n",
    "plt.show()                              # 그래프 화면에 출력"
   ]
  },
  {
   "cell_type": "code",
   "execution_count": 61,
   "id": "ae545429-9737-4eb2-a4d1-859b7c99c60b",
   "metadata": {},
   "outputs": [
    {
     "data": {
      "image/png": "[encoded data removed]",
      "text/plain": [
       "<Figure size 640x480 with 1 Axes>"
      ]
     },
     "metadata": {},
     "output_type": "display_data"
    }
   ],
   "source": [
    "# 3. 산점도 그래프 (Scatter Plot)\n",
    "height_array = np.array([\n",
    "    165, 164, 155, 151, 157, 162, 155, 157, 165, 162,\n",
    "    165, 167, 167, 183, 180, 184, 177, 178, 175, 181,\n",
    "    172, 173, 169, 172, 177, 178, 185, 186, 190, 187\n",
    "])  # 키 데이터 배열\n",
    "\n",
    "weight_array = np.array([\n",
    "    62, 59, 57, 55, 60, 58, 51, 56, 68, 64,\n",
    "    57, 58, 64, 79, 73, 76, 61, 65, 83, 80,\n",
    "    67, 82, 88, 62, 61, 79, 81, 68, 83, 80\n",
    "])  # 몸무게 데이터 배열\n",
    "\n",
    "plt.scatter(height_array, weight_array, c='#6500C3', marker='+')     # x축: 키, y축: 몸무게로 산점도 그리기, c:색상, marker:모양(s사각형,\n",
    "plt.xlabel('Height (cm)')                   # x축 레이블\n",
    "plt.ylabel('Weight (kg)')                   # y축 레이블\n",
    "plt.title('Height vs Weight')               # 그래프 제목\n",
    "plt.show()                                  # 그래프 화면에 출력"
   ]
  },
  {
   "cell_type": "code",
   "execution_count": 63,
   "id": "1e7d09d8-bd1d-4626-ad8e-8f8ff8ff5531",
   "metadata": {},
   "outputs": [
    {
     "data": {
      "image/png": "[encoded data removed]",
      "text/plain": [
       "<Figure size 500x500 with 1 Axes>"
      ]
     },
     "metadata": {},
     "output_type": "display_data"
    }
   ],
   "source": [
    "#https://matplotlib.org/stable/api/markers_api.html#module-matplotlib.markers\n",
    "# 그래프 크기 설정 (가로 5, 세로 5 인치)\n",
    "plt.rcParams['figure.figsize'] = (5, 5)\n",
    "\n",
    "# 산점도 그래프 다시 그리기 (기본 스타일)\n",
    "plt.scatter(height_array, weight_array)     # 키와 몸무게 산점도, 기본 색상/마커 사용\n",
    "plt.title('Scatter Plot')                   # 그래프 제목 지정\n",
    "plt.xlabel('X Label')                       # x축 레이블(임의로 X Label)\n",
    "plt.ylabel('Y Label')                       # y축 레이블(임의로 Y Label)\n",
    "plt.show()                                  # 그래프 화면에 출력"
   ]
  },
  {
   "cell_type": "code",
   "execution_count": 64,
   "id": "2737cf07-5f38-4a4c-9cec-74aa1ab9aacd",
   "metadata": {},
   "outputs": [
    {
     "data": {
      "image/png": "[encoded data removed]",
      "text/plain": [
       "<Figure size 500x500 with 1 Axes>"
      ]
     },
     "metadata": {},
     "output_type": "display_data"
    }
   ],
   "source": [
    "age_array = np.array([\n",
    "    27, 25, 29, 22, 26, 28, 40, 42, 34, 31,\n",
    "    37, 36, 40, 32, 41, 47, 52, 49, 51, 50,\n",
    "    49, 46, 47, 46, 47, 45, 57, 58, 60, 56\n",
    "])\n",
    "\n",
    "salary_array = np.array([\n",
    "    44009, 83450, 95025, 63748, 78652,\n",
    "    58977, 114733, 126353, 121904, 125083,\n",
    "    143739, 140754, 144346, 114899, 125806,\n",
    "    180252, 153374, 171057, 161305, 193786,\n",
    "    167238, 150157, 179843, 195326, 165849,\n",
    "    164887, 131372, 135876, 113796, 143050\n",
    "])\n",
    "\n",
    "plt.scatter(x=age_array, y=salary_array, c='red', marker='s')  # x축: 나이, y축: 연봉, 빨간색(s: 사각형) 마커로 산점도 그리기\n",
    "plt.title('Age and Salary')                                   # 그래프 제목\n",
    "plt.xlabel('Age')                                             # x축 레이블\n",
    "plt.ylabel('Salary($)')                                       # y축 레이블\n",
    "plt.show()                                                    # 그래프 출력"
   ]
  }
 ],
 "metadata": {
  "kernelspec": {
   "display_name": "Python 3 (ipykernel)",
   "language": "python",
   "name": "python3"
  },
  "language_info": {
   "codemirror_mode": {
    "name": "ipython",
    "version": 3
   },
   "file_extension": ".py",
   "mimetype": "text/x-python",
   "name": "python",
   "nbconvert_exporter": "python",
   "pygments_lexer": "ipython3",
   "version": "3.13.2"
  }
 },
 "nbformat": 4,
 "nbformat_minor": 5
}
