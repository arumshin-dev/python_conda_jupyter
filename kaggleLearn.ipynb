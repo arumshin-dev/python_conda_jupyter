{
 "cells": [
  {
   "cell_type": "markdown",
   "id": "bf74eaa9",
   "metadata": {
    "papermill": {
     "duration": 0.004691,
     "end_time": "2025-07-07T03:20:37.193691",
     "exception": false,
     "start_time": "2025-07-07T03:20:37.189000",
     "status": "completed"
    },
    "tags": []
   },
   "source": [
    "**This notebook is an exercise in the [Python](https://www.kaggle.com/learn/python) course.  You can reference the tutorial at [this link](https://www.kaggle.com/colinmorris/functions-and-getting-help).**\n",
    "\n",
    "---\n"
   ]
  },
  {
   "cell_type": "markdown",
   "id": "93c33b6a",
   "metadata": {
    "papermill": {
     "duration": 0.003348,
     "end_time": "2025-07-07T03:20:37.200995",
     "exception": false,
     "start_time": "2025-07-07T03:20:37.197647",
     "status": "completed"
    },
    "tags": []
   },
   "source": [
    "Functions are powerful. Try writing some yourself.\n",
    "\n",
    "As before, don't forget to run the setup code below before jumping into question 1."
   ]
  },
  {
   "cell_type": "code",
   "execution_count": 1,
   "id": "7a7b0403",
   "metadata": {
    "_kg_hide-input": true,
    "_kg_hide-output": true,
    "execution": {
     "iopub.execute_input": "2025-07-07T03:20:37.209537Z",
     "iopub.status.busy": "2025-07-07T03:20:37.209212Z",
     "iopub.status.idle": "2025-07-07T03:20:39.044482Z",
     "shell.execute_reply": "2025-07-07T03:20:39.043493Z"
    },
    "papermill": {
     "duration": 1.841621,
     "end_time": "2025-07-07T03:20:39.046220",
     "exception": false,
     "start_time": "2025-07-07T03:20:37.204599",
     "status": "completed"
    },
    "tags": []
   },
   "outputs": [
    {
     "name": "stdout",
     "output_type": "stream",
     "text": [
      "Setup complete.\n"
     ]
    }
   ],
   "source": [
    "# SETUP. You don't need to worry for now about what this code does or how it works.\n",
    "from learntools.core import binder; binder.bind(globals())\n",
    "from learntools.python.ex2 import *\n",
    "print('Setup complete.')"
   ]
  },
  {
   "cell_type": "markdown",
   "id": "f58ef34c",
   "metadata": {
    "papermill": {
     "duration": 0.003851,
     "end_time": "2025-07-07T03:20:39.054198",
     "exception": false,
     "start_time": "2025-07-07T03:20:39.050347",
     "status": "completed"
    },
    "tags": []
   },
   "source": [
    "# 1.\n",
    "\n",
    "Complete the body of the following function according to its docstring.\n",
    "\n",
    "HINT: Python has a built-in function `round`."
   ]
  },
  {
   "cell_type": "code",
   "execution_count": 2,
   "id": "53eb9359",
   "metadata": {
    "execution": {
     "iopub.execute_input": "2025-07-07T03:20:39.063012Z",
     "iopub.status.busy": "2025-07-07T03:20:39.062478Z",
     "iopub.status.idle": "2025-07-07T03:20:39.073241Z",
     "shell.execute_reply": "2025-07-07T03:20:39.071934Z"
    },
    "papermill": {
     "duration": 0.01896,
     "end_time": "2025-07-07T03:20:39.076711",
     "exception": false,
     "start_time": "2025-07-07T03:20:39.057751",
     "status": "completed"
    },
    "tags": []
   },
   "outputs": [
    {
     "data": {
      "application/javascript": [
       "parent.postMessage({\"jupyterEvent\": \"custom.exercise_interaction\", \"data\": {\"outcomeType\": 1, \"valueTowardsCompletion\": 0.16666666666666666, \"interactionType\": 1, \"questionType\": 2, \"questionId\": \"1_RoundFunctionProblem\", \"learnToolsVersion\": \"0.3.5\", \"failureMessage\": \"\", \"exceptionClass\": \"\", \"trace\": \"\"}}, \"*\")"
      ],
      "text/plain": [
       "<IPython.core.display.Javascript object>"
      ]
     },
     "metadata": {},
     "output_type": "display_data"
    },
    {
     "data": {
      "text/markdown": [
       "<span style=\"color:#33cc33\">Correct</span>"
      ],
      "text/plain": [
       "Correct"
      ]
     },
     "metadata": {},
     "output_type": "display_data"
    }
   ],
   "source": [
    "def round_to_two_places(num):\n",
    "    \"\"\"Return the given number rounded to two decimal places. \n",
    "    \n",
    "    >>> round_to_two_places(3.14159)\n",
    "    3.14\n",
    "    \"\"\"\n",
    "    # Replace this body with your own code.\n",
    "    # (\"pass\" is a keyword that does literally nothing. We used it as a placeholder\n",
    "    # because after we begin a code block, Python requires at least one line of code)\n",
    "    pass\n",
    "    return round(num, 2)\n",
    "\n",
    "# Check your answer\n",
    "q1.check()"
   ]
  },
  {
   "cell_type": "code",
   "execution_count": 3,
   "id": "13b066ec",
   "metadata": {
    "execution": {
     "iopub.execute_input": "2025-07-07T03:20:39.086735Z",
     "iopub.status.busy": "2025-07-07T03:20:39.086390Z",
     "iopub.status.idle": "2025-07-07T03:20:39.098047Z",
     "shell.execute_reply": "2025-07-07T03:20:39.097108Z"
    },
    "papermill": {
     "duration": 0.018489,
     "end_time": "2025-07-07T03:20:39.099460",
     "exception": false,
     "start_time": "2025-07-07T03:20:39.080971",
     "status": "completed"
    },
    "tags": []
   },
   "outputs": [
    {
     "data": {
      "application/javascript": [
       "parent.postMessage({\"jupyterEvent\": \"custom.exercise_interaction\", \"data\": {\"interactionType\": 2, \"questionType\": 2, \"questionId\": \"1_RoundFunctionProblem\", \"learnToolsVersion\": \"0.3.5\", \"valueTowardsCompletion\": 0.0, \"failureMessage\": \"\", \"exceptionClass\": \"\", \"trace\": \"\", \"outcomeType\": 4}}, \"*\")"
      ],
      "text/plain": [
       "<IPython.core.display.Javascript object>"
      ]
     },
     "metadata": {},
     "output_type": "display_data"
    },
    {
     "data": {
      "text/markdown": [
       "<span style=\"color:#3366cc\">Hint:</span> Run `help(round)` in the console (or in a code cell) to learn more about the round function. You'll need to use the function's optional second argument."
      ],
      "text/plain": [
       "Hint: Run `help(round)` in the console (or in a code cell) to learn more about the round function. You'll need to use the function's optional second argument."
      ]
     },
     "metadata": {},
     "output_type": "display_data"
    },
    {
     "data": {
      "application/javascript": [
       "parent.postMessage({\"jupyterEvent\": \"custom.exercise_interaction\", \"data\": {\"interactionType\": 3, \"questionType\": 2, \"questionId\": \"1_RoundFunctionProblem\", \"learnToolsVersion\": \"0.3.5\", \"valueTowardsCompletion\": 0.0, \"failureMessage\": \"\", \"exceptionClass\": \"\", \"trace\": \"\", \"outcomeType\": 4}}, \"*\")"
      ],
      "text/plain": [
       "<IPython.core.display.Javascript object>"
      ]
     },
     "metadata": {},
     "output_type": "display_data"
    },
    {
     "data": {
      "text/markdown": [
       "<span style=\"color:#33cc99\">Solution:</span> \n",
       "```python\n",
       "return round(num, 2)\n",
       "```"
      ],
      "text/plain": [
       "Solution: \n",
       "```python\n",
       "return round(num, 2)\n",
       "```"
      ]
     },
     "metadata": {},
     "output_type": "display_data"
    }
   ],
   "source": [
    "# Uncomment the following for a hint\n",
    "q1.hint()\n",
    "# Or uncomment the following to peek at the solution\n",
    "q1.solution()"
   ]
  },
  {
   "cell_type": "markdown",
   "id": "2d910d00",
   "metadata": {
    "papermill": {
     "duration": 0.003668,
     "end_time": "2025-07-07T03:20:39.107371",
     "exception": false,
     "start_time": "2025-07-07T03:20:39.103703",
     "status": "completed"
    },
    "tags": []
   },
   "source": [
    "# 2.\n",
    "The help for `round` says that `ndigits` (the second argument) may be negative.\n",
    "What do you think will happen when it is? Try some examples in the following cell."
   ]
  },
  {
   "cell_type": "code",
   "execution_count": 4,
   "id": "f3006e74",
   "metadata": {
    "execution": {
     "iopub.execute_input": "2025-07-07T03:20:39.116772Z",
     "iopub.status.busy": "2025-07-07T03:20:39.116434Z",
     "iopub.status.idle": "2025-07-07T03:20:39.123626Z",
     "shell.execute_reply": "2025-07-07T03:20:39.122380Z"
    },
    "papermill": {
     "duration": 0.01373,
     "end_time": "2025-07-07T03:20:39.125058",
     "exception": false,
     "start_time": "2025-07-07T03:20:39.111328",
     "status": "completed"
    },
    "tags": []
   },
   "outputs": [
    {
     "name": "stdout",
     "output_type": "stream",
     "text": [
      "Help on built-in function round in module builtins:\n",
      "\n",
      "round(number, ndigits=None)\n",
      "    Round a number to a given precision in decimal digits.\n",
      "    \n",
      "    The return value is an integer if ndigits is omitted or None.  Otherwise\n",
      "    the return value has the same type as the number.  ndigits may be negative.\n",
      "\n",
      "100\n",
      "0\n",
      "1.24\n",
      "1.236\n"
     ]
    }
   ],
   "source": [
    "help(round)# Put your test code here\n",
    "print(round(123,-2))\n",
    "print(round(123,-3))\n",
    "print(round(1.235,2))\n",
    "print(round(1.2355,3))"
   ]
  },
  {
   "cell_type": "markdown",
   "id": "65a6125e",
   "metadata": {
    "papermill": {
     "duration": 0.003882,
     "end_time": "2025-07-07T03:20:39.133276",
     "exception": false,
     "start_time": "2025-07-07T03:20:39.129394",
     "status": "completed"
    },
    "tags": []
   },
   "source": [
    "Can you think of a case where this would be useful?  Once you're ready, run the code cell below to see the answer and to receive credit for completing the problem."
   ]
  },
  {
   "cell_type": "code",
   "execution_count": 5,
   "id": "40fab451",
   "metadata": {
    "execution": {
     "iopub.execute_input": "2025-07-07T03:20:39.143110Z",
     "iopub.status.busy": "2025-07-07T03:20:39.142733Z",
     "iopub.status.idle": "2025-07-07T03:20:39.150710Z",
     "shell.execute_reply": "2025-07-07T03:20:39.149751Z"
    },
    "papermill": {
     "duration": 0.015207,
     "end_time": "2025-07-07T03:20:39.152483",
     "exception": false,
     "start_time": "2025-07-07T03:20:39.137276",
     "status": "completed"
    },
    "tags": []
   },
   "outputs": [
    {
     "data": {
      "application/javascript": [
       "parent.postMessage({\"jupyterEvent\": \"custom.exercise_interaction\", \"data\": {\"interactionType\": 3, \"questionType\": 4, \"questionId\": \"2_RoundNdigitsProblem\", \"learnToolsVersion\": \"0.3.5\", \"valueTowardsCompletion\": 0.0, \"failureMessage\": \"\", \"exceptionClass\": \"\", \"trace\": \"\", \"outcomeType\": 4}}, \"*\")"
      ],
      "text/plain": [
       "<IPython.core.display.Javascript object>"
      ]
     },
     "metadata": {},
     "output_type": "display_data"
    },
    {
     "data": {
      "text/markdown": [
       "<span style=\"color:#33cc99\">Solution:</span> As you've seen, `ndigits=-1` rounds to the nearest 10, `ndigits=-2` rounds to the nearest 100 and so on. Where might this be useful? Suppose we're dealing with large numbers:\n",
       "\n",
       "> The area of Finland is 338,424 km²  \n",
       "> The area of Greenland is 2,166,086 km²\n",
       "\n",
       "We probably don't care whether it's really 338,424, or 338,425, or 338,177. All those digits of accuracy are just distracting. We can chop them off by calling `round()` with `ndigits=-3`:\n",
       "\n",
       "> The area of Finland is 338,000 km²  \n",
       "> The area of Greenland is 2,166,000 km²\n",
       "\n",
       "(We'll talk about how we would get the commas later when we talk about string formatting :))\n"
      ],
      "text/plain": [
       "Solution: As you've seen, `ndigits=-1` rounds to the nearest 10, `ndigits=-2` rounds to the nearest 100 and so on. Where might this be useful? Suppose we're dealing with large numbers:\n",
       "\n",
       "> The area of Finland is 338,424 km²  \n",
       "> The area of Greenland is 2,166,086 km²\n",
       "\n",
       "We probably don't care whether it's really 338,424, or 338,425, or 338,177. All those digits of accuracy are just distracting. We can chop them off by calling `round()` with `ndigits=-3`:\n",
       "\n",
       "> The area of Finland is 338,000 km²  \n",
       "> The area of Greenland is 2,166,000 km²\n",
       "\n",
       "(We'll talk about how we would get the commas later when we talk about string formatting :))"
      ]
     },
     "metadata": {},
     "output_type": "display_data"
    }
   ],
   "source": [
    "# Check your answer (Run this code cell to receive credit!)\n",
    "q2.solution()"
   ]
  },
  {
   "cell_type": "markdown",
   "id": "8af2edb0",
   "metadata": {
    "papermill": {
     "duration": 0.003909,
     "end_time": "2025-07-07T03:20:39.161071",
     "exception": false,
     "start_time": "2025-07-07T03:20:39.157162",
     "status": "completed"
    },
    "tags": []
   },
   "source": [
    "# 3.\n",
    "\n",
    "In the previous exercise, the candy-sharing friends Alice, Bob and Carol tried to split candies evenly. For the sake of their friendship, any candies left over would be smashed. For example, if they collectively bring home 91 candies, they'll take 30 each and smash 1.\n",
    "\n",
    "Below is a simple function that will calculate the number of candies to smash for *any* number of total candies.\n",
    "\n",
    "Modify it so that it optionally takes a second argument representing the number of friends the candies are being split between. If no second argument is provided, it should assume 3 friends, as before.\n",
    "\n",
    "Update the docstring to reflect this new behaviour."
   ]
  },
  {
   "cell_type": "code",
   "execution_count": 6,
   "id": "a98909e1",
   "metadata": {
    "execution": {
     "iopub.execute_input": "2025-07-07T03:20:39.170384Z",
     "iopub.status.busy": "2025-07-07T03:20:39.170085Z",
     "iopub.status.idle": "2025-07-07T03:20:39.178244Z",
     "shell.execute_reply": "2025-07-07T03:20:39.177419Z"
    },
    "papermill": {
     "duration": 0.014487,
     "end_time": "2025-07-07T03:20:39.179555",
     "exception": false,
     "start_time": "2025-07-07T03:20:39.165068",
     "status": "completed"
    },
    "tags": []
   },
   "outputs": [
    {
     "data": {
      "application/javascript": [
       "parent.postMessage({\"jupyterEvent\": \"custom.exercise_interaction\", \"data\": {\"outcomeType\": 1, \"valueTowardsCompletion\": 0.16666666666666666, \"interactionType\": 1, \"questionType\": 2, \"questionId\": \"3_CandySmashingFunctionProblem\", \"learnToolsVersion\": \"0.3.5\", \"failureMessage\": \"\", \"exceptionClass\": \"\", \"trace\": \"\"}}, \"*\")"
      ],
      "text/plain": [
       "<IPython.core.display.Javascript object>"
      ]
     },
     "metadata": {},
     "output_type": "display_data"
    },
    {
     "data": {
      "text/markdown": [
       "<span style=\"color:#33cc33\">Correct</span>"
      ],
      "text/plain": [
       "Correct"
      ]
     },
     "metadata": {},
     "output_type": "display_data"
    }
   ],
   "source": [
    "def to_smash(total_candies,friends=3):\n",
    "    \"\"\"Return the number of leftover candies that must be smashed after distributing\n",
    "    the given number of candies evenly between 3 friends.\n",
    "    \n",
    "    >>> to_smash(91)\n",
    "    1\n",
    "    \"\"\"\n",
    "    return total_candies % friends\n",
    "\n",
    "# Check your answer\n",
    "q3.check()"
   ]
  },
  {
   "cell_type": "code",
   "execution_count": 7,
   "id": "678ebc15",
   "metadata": {
    "execution": {
     "iopub.execute_input": "2025-07-07T03:20:39.189755Z",
     "iopub.status.busy": "2025-07-07T03:20:39.189427Z",
     "iopub.status.idle": "2025-07-07T03:20:39.196788Z",
     "shell.execute_reply": "2025-07-07T03:20:39.196003Z"
    },
    "papermill": {
     "duration": 0.014258,
     "end_time": "2025-07-07T03:20:39.198406",
     "exception": false,
     "start_time": "2025-07-07T03:20:39.184148",
     "status": "completed"
    },
    "tags": []
   },
   "outputs": [
    {
     "data": {
      "application/javascript": [
       "parent.postMessage({\"jupyterEvent\": \"custom.exercise_interaction\", \"data\": {\"interactionType\": 2, \"questionType\": 2, \"questionId\": \"3_CandySmashingFunctionProblem\", \"learnToolsVersion\": \"0.3.5\", \"valueTowardsCompletion\": 0.0, \"failureMessage\": \"\", \"exceptionClass\": \"\", \"trace\": \"\", \"outcomeType\": 4}}, \"*\")"
      ],
      "text/plain": [
       "<IPython.core.display.Javascript object>"
      ]
     },
     "metadata": {},
     "output_type": "display_data"
    },
    {
     "data": {
      "text/markdown": [
       "<span style=\"color:#3366cc\">Hint:</span> Refer to the section of the last tutorial notebook where we talked about default arguments"
      ],
      "text/plain": [
       "Hint: Refer to the section of the last tutorial notebook where we talked about default arguments"
      ]
     },
     "metadata": {},
     "output_type": "display_data"
    }
   ],
   "source": [
    "q3.hint()"
   ]
  },
  {
   "cell_type": "code",
   "execution_count": 8,
   "id": "faad83b7",
   "metadata": {
    "execution": {
     "iopub.execute_input": "2025-07-07T03:20:39.209976Z",
     "iopub.status.busy": "2025-07-07T03:20:39.209609Z",
     "iopub.status.idle": "2025-07-07T03:20:39.217315Z",
     "shell.execute_reply": "2025-07-07T03:20:39.216459Z"
    },
    "papermill": {
     "duration": 0.015764,
     "end_time": "2025-07-07T03:20:39.219088",
     "exception": false,
     "start_time": "2025-07-07T03:20:39.203324",
     "status": "completed"
    },
    "tags": []
   },
   "outputs": [
    {
     "data": {
      "application/javascript": [
       "parent.postMessage({\"jupyterEvent\": \"custom.exercise_interaction\", \"data\": {\"interactionType\": 3, \"questionType\": 2, \"questionId\": \"3_CandySmashingFunctionProblem\", \"learnToolsVersion\": \"0.3.5\", \"valueTowardsCompletion\": 0.0, \"failureMessage\": \"\", \"exceptionClass\": \"\", \"trace\": \"\", \"outcomeType\": 4}}, \"*\")"
      ],
      "text/plain": [
       "<IPython.core.display.Javascript object>"
      ]
     },
     "metadata": {},
     "output_type": "display_data"
    },
    {
     "data": {
      "text/markdown": [
       "<span style=\"color:#33cc99\">Solution:</span> \n",
       "```python\n",
       "def to_smash(total_candies, n_friends=3):\n",
       "    return total_candies % n_friends\n",
       "```"
      ],
      "text/plain": [
       "Solution: \n",
       "```python\n",
       "def to_smash(total_candies, n_friends=3):\n",
       "    return total_candies % n_friends\n",
       "```"
      ]
     },
     "metadata": {},
     "output_type": "display_data"
    }
   ],
   "source": [
    "q3.solution()"
   ]
  },
  {
   "cell_type": "markdown",
   "id": "cca662b0",
   "metadata": {
    "papermill": {
     "duration": 0.004447,
     "end_time": "2025-07-07T03:20:39.228973",
     "exception": false,
     "start_time": "2025-07-07T03:20:39.224526",
     "status": "completed"
    },
    "tags": []
   },
   "source": [
    "# 4. (Optional)\n",
    "\n",
    "It may not be fun, but reading and understanding error messages will be an important part of your Python career.\n",
    "\n",
    "Each code cell below contains some commented buggy code. For each cell...\n",
    "\n",
    "1. Read the code and predict what you think will happen when it's run.\n",
    "2. Then uncomment the code and run it to see what happens. (**Tip**: In the kernel editor, you can highlight several lines and press `ctrl`+`/` to toggle commenting.)\n",
    "3. Fix the code (so that it accomplishes its intended purpose without throwing an exception)\n",
    "\n",
    "<!-- TODO: should this be autochecked? Delta is probably pretty small. -->"
   ]
  },
  {
   "cell_type": "code",
   "execution_count": 9,
   "id": "eef8d610",
   "metadata": {
    "execution": {
     "iopub.execute_input": "2025-07-07T03:20:39.239623Z",
     "iopub.status.busy": "2025-07-07T03:20:39.239263Z",
     "iopub.status.idle": "2025-07-07T03:20:39.246782Z",
     "shell.execute_reply": "2025-07-07T03:20:39.245868Z"
    },
    "papermill": {
     "duration": 0.014792,
     "end_time": "2025-07-07T03:20:39.248261",
     "exception": false,
     "start_time": "2025-07-07T03:20:39.233469",
     "status": "completed"
    },
    "tags": []
   },
   "outputs": [
    {
     "data": {
      "text/plain": [
       "10.0"
      ]
     },
     "execution_count": 9,
     "metadata": {},
     "output_type": "execute_result"
    }
   ],
   "source": [
    "def ruound_to_two_places(num):\n",
    "    return round(num, 2)\n",
    "\n",
    "ruound_to_two_places(9.9999)"
   ]
  },
  {
   "cell_type": "code",
   "execution_count": 10,
   "id": "4c9f5b79",
   "metadata": {
    "execution": {
     "iopub.execute_input": "2025-07-07T03:20:39.259143Z",
     "iopub.status.busy": "2025-07-07T03:20:39.258851Z",
     "iopub.status.idle": "2025-07-07T03:20:39.265089Z",
     "shell.execute_reply": "2025-07-07T03:20:39.263888Z"
    },
    "papermill": {
     "duration": 0.01374,
     "end_time": "2025-07-07T03:20:39.266783",
     "exception": false,
     "start_time": "2025-07-07T03:20:39.253043",
     "status": "completed"
    },
    "tags": []
   },
   "outputs": [
    {
     "name": "stdout",
     "output_type": "stream",
     "text": [
      "Help on built-in function min in module builtins:\n",
      "\n",
      "min(...)\n",
      "    min(iterable, *[, default=obj, key=func]) -> value\n",
      "    min(arg1, arg2, *args, *[, key=func]) -> value\n",
      "    \n",
      "    With a single iterable argument, return its smallest item. The\n",
      "    default keyword-only argument specifies an object to return if\n",
      "    the provided iterable is empty.\n",
      "    With two or more arguments, return the smallest argument.\n",
      "\n",
      "Help on built-in function abs in module builtins:\n",
      "\n",
      "abs(x, /)\n",
      "    Return the absolute value of the argument.\n",
      "\n",
      "5\n"
     ]
    }
   ],
   "source": [
    " x = -10\n",
    " y = 5\n",
    " # Which of the two variables above has the smallest absolute value?\n",
    " smallest_abs = min(abs(x), abs(y))\n",
    "help(min)\n",
    "help(abs)\n",
    "print(smallest_abs)"
   ]
  },
  {
   "cell_type": "code",
   "execution_count": 11,
   "id": "f404eebf",
   "metadata": {
    "execution": {
     "iopub.execute_input": "2025-07-07T03:20:39.278684Z",
     "iopub.status.busy": "2025-07-07T03:20:39.278363Z",
     "iopub.status.idle": "2025-07-07T03:20:39.284128Z",
     "shell.execute_reply": "2025-07-07T03:20:39.283079Z"
    },
    "papermill": {
     "duration": 0.013719,
     "end_time": "2025-07-07T03:20:39.285722",
     "exception": false,
     "start_time": "2025-07-07T03:20:39.272003",
     "status": "completed"
    },
    "tags": []
   },
   "outputs": [
    {
     "name": "stdout",
     "output_type": "stream",
     "text": [
      "5\n",
      "3\n"
     ]
    }
   ],
   "source": [
    " def f(x):\n",
    "     y = abs(x)\n",
    "     return y\n",
    "\n",
    " print(f(5))\n",
    "print(f(-3))"
   ]
  },
  {
   "cell_type": "markdown",
   "id": "0b6c5901",
   "metadata": {
    "papermill": {
     "duration": 0.004667,
     "end_time": "2025-07-07T03:20:39.295695",
     "exception": false,
     "start_time": "2025-07-07T03:20:39.291028",
     "status": "completed"
    },
    "tags": []
   },
   "source": [
    "# Keep Going\n",
    "\n",
    "Nice job with the code. Next up, you'll learn about *conditionals*, which you'll need to **[write interesting programs](https://www.kaggle.com/colinmorris/booleans-and-conditionals)**. "
   ]
  },
  {
   "cell_type": "markdown",
   "id": "b78dee72",
   "metadata": {
    "papermill": {
     "duration": 0.004894,
     "end_time": "2025-07-07T03:20:39.305395",
     "exception": false,
     "start_time": "2025-07-07T03:20:39.300501",
     "status": "completed"
    },
    "tags": []
   },
   "source": [
    "---\n",
    "\n",
    "\n",
    "\n",
    "\n",
    "*Have questions or comments? Visit the [course discussion forum](https://www.kaggle.com/learn/python/discussion) to chat with other learners.*"
   ]
  }
 ],
 "metadata": {
  "kaggle": {
   "accelerator": "none",
   "dataSources": [],
   "isGpuEnabled": false,
   "isInternetEnabled": false,
   "language": "python",
   "sourceType": "notebook"
  },
  "kernelspec": {
   "display_name": "Python 3",
   "language": "python",
   "name": "python3"
  },
  "language_info": {
   "codemirror_mode": {
    "name": "ipython",
    "version": 3
   },
   "file_extension": ".py",
   "mimetype": "text/x-python",
   "name": "python",
   "nbconvert_exporter": "python",
   "pygments_lexer": "ipython3",
   "version": "3.11.11"
  },
  "learntools_metadata": {
   "lesson_index": 1,
   "type": "exercise"
  },
  "papermill": {
   "default_parameters": {},
   "duration": 7.566106,
   "end_time": "2025-07-07T03:20:39.831216",
   "environment_variables": {},
   "exception": null,
   "input_path": "__notebook__.ipynb",
   "output_path": "__notebook__.ipynb",
   "parameters": {},
   "start_time": "2025-07-07T03:20:32.265110",
   "version": "2.6.0"
  }
 },
 "nbformat": 4,
 "nbformat_minor": 5
}
