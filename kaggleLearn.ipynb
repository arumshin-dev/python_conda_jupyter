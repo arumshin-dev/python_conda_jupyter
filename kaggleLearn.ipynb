{
 "cells": [
  {
   "cell_type": "markdown",
   "id": "69dc8e9b",
   "metadata": {
    "papermill": {
     "duration": 0.005358,
     "end_time": "2025-06-28T14:32:18.725359",
     "exception": false,
     "start_time": "2025-06-28T14:32:18.720001",
     "status": "completed"
    },
    "tags": []
   },
   "source": [
    "**This notebook is an exercise in the [Intro to Programming](https://www.kaggle.com/learn/intro-to-programming) course.  You can reference the tutorial at [this link](https://www.kaggle.com/alexisbcook/data-types).**\n",
    "\n",
    "---\n"
   ]
  },
  {
   "cell_type": "markdown",
   "id": "08019400",
   "metadata": {
    "papermill": {
     "duration": 0.00416,
     "end_time": "2025-06-28T14:32:18.734225",
     "exception": false,
     "start_time": "2025-06-28T14:32:18.730065",
     "status": "completed"
    },
    "tags": []
   },
   "source": [
    "In the tutorial, you learned about four different data types: floats, integers, strings, and booleans.  In this exercise, you'll experiment with them.\n",
    "\n",
    "# Set up the notebook\n",
    "\n",
    "Run the next code cell without changes to set up the notebook."
   ]
  },
  {
   "cell_type": "code",
   "execution_count": 1,
   "id": "d1df48d7",
   "metadata": {
    "execution": {
     "iopub.execute_input": "2025-06-28T14:32:18.744778Z",
     "iopub.status.busy": "2025-06-28T14:32:18.743910Z",
     "iopub.status.idle": "2025-06-28T14:32:20.736815Z",
     "shell.execute_reply": "2025-06-28T14:32:20.735765Z"
    },
    "papermill": {
     "duration": 2.00007,
     "end_time": "2025-06-28T14:32:20.738566",
     "exception": false,
     "start_time": "2025-06-28T14:32:18.738496",
     "status": "completed"
    },
    "tags": []
   },
   "outputs": [
    {
     "name": "stdout",
     "output_type": "stream",
     "text": [
      "Setup complete.\n"
     ]
    }
   ],
   "source": [
    "# Set up the exercise\n",
    "from learntools.core import binder\n",
    "binder.bind(globals())\n",
    "from learntools.intro_to_programming.ex3 import *\n",
    "print('Setup complete.')"
   ]
  },
  {
   "cell_type": "markdown",
   "id": "3816ac76",
   "metadata": {
    "papermill": {
     "duration": 0.004352,
     "end_time": "2025-06-28T14:32:20.747826",
     "exception": false,
     "start_time": "2025-06-28T14:32:20.743474",
     "status": "completed"
    },
    "tags": []
   },
   "source": [
    "# Question 1\n",
    "\n",
    "You have seen how to convert a float to an integer with the `int` function.  Try this out yourself by running the code cell below."
   ]
  },
  {
   "cell_type": "code",
   "execution_count": 2,
   "id": "ae6df10e",
   "metadata": {
    "execution": {
     "iopub.execute_input": "2025-06-28T14:32:20.758881Z",
     "iopub.status.busy": "2025-06-28T14:32:20.757920Z",
     "iopub.status.idle": "2025-06-28T14:32:20.763697Z",
     "shell.execute_reply": "2025-06-28T14:32:20.762770Z"
    },
    "papermill": {
     "duration": 0.012747,
     "end_time": "2025-06-28T14:32:20.765150",
     "exception": false,
     "start_time": "2025-06-28T14:32:20.752403",
     "status": "completed"
    },
    "tags": []
   },
   "outputs": [
    {
     "name": "stdout",
     "output_type": "stream",
     "text": [
      "1.0\n",
      "<class 'float'>\n",
      "1\n",
      "<class 'int'>\n"
     ]
    }
   ],
   "source": [
    "# Define a float\n",
    "y = 1.\n",
    "print(y)\n",
    "print(type(y))\n",
    "\n",
    "# Convert float to integer with the int function\n",
    "z = int(y)\n",
    "print(z)\n",
    "print(type(z))"
   ]
  },
  {
   "cell_type": "markdown",
   "id": "eb08342d",
   "metadata": {
    "papermill": {
     "duration": 0.004343,
     "end_time": "2025-06-28T14:32:20.774129",
     "exception": false,
     "start_time": "2025-06-28T14:32:20.769786",
     "status": "completed"
    },
    "tags": []
   },
   "source": [
    "In this case, the float you are using has no numbers after the decimal.  \n",
    "- But what happens when you try to convert a float with a fractional part to an integer?  \n",
    "- How does the outcome of the `int` function change for positive and negative numbers?\n",
    "\n",
    "Use the next code cell to investigate and answer these questions.  Feel free to add or remove any lines of code -- it is your workspace!"
   ]
  },
  {
   "cell_type": "code",
   "execution_count": 3,
   "id": "d6fc8a50",
   "metadata": {
    "execution": {
     "iopub.execute_input": "2025-06-28T14:32:20.784241Z",
     "iopub.status.busy": "2025-06-28T14:32:20.783966Z",
     "iopub.status.idle": "2025-06-28T14:32:20.789174Z",
     "shell.execute_reply": "2025-06-28T14:32:20.788182Z"
    },
    "papermill": {
     "duration": 0.011936,
     "end_time": "2025-06-28T14:32:20.790507",
     "exception": false,
     "start_time": "2025-06-28T14:32:20.778571",
     "status": "completed"
    },
    "tags": []
   },
   "outputs": [
    {
     "name": "stdout",
     "output_type": "stream",
     "text": [
      "1\n",
      "1\n",
      "-3\n",
      "-2\n"
     ]
    }
   ],
   "source": [
    "# Uncomment and run this code to get started!\n",
    "print(int(1.2321))\n",
    "print(int(1.747))\n",
    "print(int(-3.94535))\n",
    "print(int(-2.19774))"
   ]
  },
  {
   "cell_type": "markdown",
   "id": "8922ac8d",
   "metadata": {
    "papermill": {
     "duration": 0.004375,
     "end_time": "2025-06-28T14:32:20.799590",
     "exception": false,
     "start_time": "2025-06-28T14:32:20.795215",
     "status": "completed"
    },
    "tags": []
   },
   "source": [
    "Once you have an answer, run the code cell below to see the solution.  Viewing the solution will give you credit for answering the problem."
   ]
  },
  {
   "cell_type": "code",
   "execution_count": 4,
   "id": "476e24c2",
   "metadata": {
    "execution": {
     "iopub.execute_input": "2025-06-28T14:32:20.809928Z",
     "iopub.status.busy": "2025-06-28T14:32:20.809608Z",
     "iopub.status.idle": "2025-06-28T14:32:20.817447Z",
     "shell.execute_reply": "2025-06-28T14:32:20.816633Z"
    },
    "papermill": {
     "duration": 0.014771,
     "end_time": "2025-06-28T14:32:20.818858",
     "exception": false,
     "start_time": "2025-06-28T14:32:20.804087",
     "status": "completed"
    },
    "tags": []
   },
   "outputs": [
    {
     "data": {
      "application/javascript": [
       "parent.postMessage({\"jupyterEvent\": \"custom.exercise_interaction\", \"data\": {\"outcomeType\": 1, \"valueTowardsCompletion\": 0.2, \"interactionType\": 1, \"questionType\": 4, \"questionId\": \"1_FloatToInt\", \"learnToolsVersion\": \"0.3.5\", \"failureMessage\": \"\", \"exceptionClass\": \"\", \"trace\": \"\"}}, \"*\")"
      ],
      "text/plain": [
       "<IPython.core.display.Javascript object>"
      ]
     },
     "metadata": {},
     "output_type": "display_data"
    },
    {
     "data": {
      "text/markdown": [
       "<span style=\"color:#33cc33\">Correct:</span> \n",
       "\n",
       "Negative floats are always rounded UP to the closest integer (for instance, both -1.1 and -1.9 are rounded up to -1). Positive floats are always rounded DOWN to the closest integer (for instance, 2.1 and 2.9 are rounded down to 2)."
      ],
      "text/plain": [
       "Correct: \n",
       "\n",
       "Negative floats are always rounded UP to the closest integer (for instance, both -1.1 and -1.9 are rounded up to -1). Positive floats are always rounded DOWN to the closest integer (for instance, 2.1 and 2.9 are rounded down to 2)."
      ]
     },
     "metadata": {},
     "output_type": "display_data"
    }
   ],
   "source": [
    "# Check your answer (Run this code cell to receive credit!)\n",
    "q1.check()"
   ]
  },
  {
   "cell_type": "markdown",
   "id": "c0e5895e",
   "metadata": {
    "papermill": {
     "duration": 0.004483,
     "end_time": "2025-06-28T14:32:20.828329",
     "exception": false,
     "start_time": "2025-06-28T14:32:20.823846",
     "status": "completed"
    },
    "tags": []
   },
   "source": [
    "# Question 2\n",
    "\n",
    "In the tutorial, you learned about booleans (which can take a value of `True` or `False`), in addition to integers, floats, and strings.  For this question, your goal is to determine what happens when you multiply a boolean by any of these data types.  Specifically, \n",
    "- What happens when you multiply an integer or float by `True`?  What happens when you multiply them by `False`?  How does the answer change if the numbers are positive or negative?\n",
    "- What happens when you multiply a string by `True`?  By `False`?\n",
    "\n",
    "Use the next code cell for your investigation. "
   ]
  },
  {
   "cell_type": "code",
   "execution_count": 5,
   "id": "74b02989",
   "metadata": {
    "execution": {
     "iopub.execute_input": "2025-06-28T14:32:20.839508Z",
     "iopub.status.busy": "2025-06-28T14:32:20.838702Z",
     "iopub.status.idle": "2025-06-28T14:32:20.843986Z",
     "shell.execute_reply": "2025-06-28T14:32:20.842977Z"
    },
    "papermill": {
     "duration": 0.012453,
     "end_time": "2025-06-28T14:32:20.845501",
     "exception": false,
     "start_time": "2025-06-28T14:32:20.833048",
     "status": "completed"
    },
    "tags": []
   },
   "outputs": [
    {
     "name": "stdout",
     "output_type": "stream",
     "text": [
      "3\n",
      "-3.1\n",
      "<class 'str'>\n",
      "0\n"
     ]
    }
   ],
   "source": [
    "# Uncomment and run this code to get started!\n",
    "print(3 * True)\n",
    "print(-3.1 * True)\n",
    "print(type(\"abc\" * False))\n",
    "print(len(\"abc\" * False))"
   ]
  },
  {
   "cell_type": "markdown",
   "id": "9f5446ac",
   "metadata": {
    "papermill": {
     "duration": 0.004473,
     "end_time": "2025-06-28T14:32:20.855550",
     "exception": false,
     "start_time": "2025-06-28T14:32:20.851077",
     "status": "completed"
    },
    "tags": []
   },
   "source": [
    "Once you have an answer, run the code cell below to see the solution.  Viewing the solution will give you credit for answering the problem."
   ]
  },
  {
   "cell_type": "code",
   "execution_count": 6,
   "id": "1e457b26",
   "metadata": {
    "execution": {
     "iopub.execute_input": "2025-06-28T14:32:20.866176Z",
     "iopub.status.busy": "2025-06-28T14:32:20.865595Z",
     "iopub.status.idle": "2025-06-28T14:32:20.872006Z",
     "shell.execute_reply": "2025-06-28T14:32:20.871273Z"
    },
    "papermill": {
     "duration": 0.013367,
     "end_time": "2025-06-28T14:32:20.873484",
     "exception": false,
     "start_time": "2025-06-28T14:32:20.860117",
     "status": "completed"
    },
    "tags": []
   },
   "outputs": [
    {
     "data": {
      "application/javascript": [
       "parent.postMessage({\"jupyterEvent\": \"custom.exercise_interaction\", \"data\": {\"outcomeType\": 1, \"valueTowardsCompletion\": 0.2, \"interactionType\": 1, \"questionType\": 4, \"questionId\": \"2_MultiplyBooleans\", \"learnToolsVersion\": \"0.3.5\", \"failureMessage\": \"\", \"exceptionClass\": \"\", \"trace\": \"\"}}, \"*\")"
      ],
      "text/plain": [
       "<IPython.core.display.Javascript object>"
      ]
     },
     "metadata": {},
     "output_type": "display_data"
    },
    {
     "data": {
      "text/markdown": [
       "<span style=\"color:#33cc33\">Correct:</span> \n",
       "\n",
       "When you multiple an integer or float by a boolean with value `True`, it just returns that same integer or float (and is equivalent to multiplying by 1).  If you multiply an integer or float by a boolean with value `False`, it always returns 0.  This is true for both positive and negative numbers.  If you multiply a string by a boolean with value `True`, it just returns that same string.  And if you multiply a string by a boolean with value `False`, it returns an empty string (or a string with length zero)."
      ],
      "text/plain": [
       "Correct: \n",
       "\n",
       "When you multiple an integer or float by a boolean with value `True`, it just returns that same integer or float (and is equivalent to multiplying by 1).  If you multiply an integer or float by a boolean with value `False`, it always returns 0.  This is true for both positive and negative numbers.  If you multiply a string by a boolean with value `True`, it just returns that same string.  And if you multiply a string by a boolean with value `False`, it returns an empty string (or a string with length zero)."
      ]
     },
     "metadata": {},
     "output_type": "display_data"
    }
   ],
   "source": [
    "# Check your answer (Run this code cell to receive credit!)\n",
    "q2.check()"
   ]
  },
  {
   "cell_type": "markdown",
   "id": "0887a06b",
   "metadata": {
    "papermill": {
     "duration": 0.004738,
     "end_time": "2025-06-28T14:32:20.883421",
     "exception": false,
     "start_time": "2025-06-28T14:32:20.878683",
     "status": "completed"
    },
    "tags": []
   },
   "source": [
    "# Question 3\n",
    "\n",
    "In this question, you will build off your work from the previous exercise to write a function that estimates the value of a house.\n",
    "\n",
    "Use the next code cell to create a function `get_expected_cost` that takes as input three variables:\n",
    "- `beds` - number of bedrooms (data type float)\n",
    "- `baths` - number of bathrooms (data type float)\n",
    "- `has_basement` - whether or not the house has a basement (data type boolean)\n",
    "\n",
    "It should return the expected cost of a house with those characteristics. Assume that:\n",
    "- the expected cost for a house with 0 bedrooms and 0 bathrooms, and no basement is 80000, \n",
    "- each bedroom adds 30000 to the expected cost,\n",
    "- each bathroom adds 10000 to the expected cost, and\n",
    "- a basement adds 40000 to the expected cost.\n",
    "\n",
    "For instance,\n",
    "- a house with 1 bedroom, 1 bathroom, and no basement has an expected cost of 80000 + 30000 + 10000 = 120000.  This value will be calculated with `get_expected_cost(1, 1, False)`.\n",
    "- a house with 2 bedrooms, 1 bathroom, and a basement has an expected cost of 80000 + 2*30000 + 10000 + 40000 = 190000.  This value will be calculated with `get_expected_cost(2, 1, True)`.\n",
    "\n",
    "Remember you can always get a hint by uncommenting `q3.hint()` in the code cell following the next!"
   ]
  },
  {
   "cell_type": "code",
   "execution_count": 7,
   "id": "1752c33e",
   "metadata": {
    "execution": {
     "iopub.execute_input": "2025-06-28T14:32:20.894823Z",
     "iopub.status.busy": "2025-06-28T14:32:20.894254Z",
     "iopub.status.idle": "2025-06-28T14:32:20.902315Z",
     "shell.execute_reply": "2025-06-28T14:32:20.901448Z"
    },
    "papermill": {
     "duration": 0.015559,
     "end_time": "2025-06-28T14:32:20.903950",
     "exception": false,
     "start_time": "2025-06-28T14:32:20.888391",
     "status": "completed"
    },
    "tags": []
   },
   "outputs": [
    {
     "data": {
      "application/javascript": [
       "parent.postMessage({\"jupyterEvent\": \"custom.exercise_interaction\", \"data\": {\"outcomeType\": 1, \"valueTowardsCompletion\": 0.2, \"interactionType\": 1, \"questionType\": 2, \"questionId\": \"3_EstimateHouseValueBool\", \"learnToolsVersion\": \"0.3.5\", \"failureMessage\": \"\", \"exceptionClass\": \"\", \"trace\": \"\"}}, \"*\")"
      ],
      "text/plain": [
       "<IPython.core.display.Javascript object>"
      ]
     },
     "metadata": {},
     "output_type": "display_data"
    },
    {
     "data": {
      "text/markdown": [
       "<span style=\"color:#33cc33\">Correct</span>"
      ],
      "text/plain": [
       "Correct"
      ]
     },
     "metadata": {},
     "output_type": "display_data"
    }
   ],
   "source": [
    "# TODO: Complete the function\n",
    "def get_expected_cost(beds, baths, has_basement):\n",
    "    value = 80000+beds*30000+baths*10000+has_basement*40000\n",
    "    return value\n",
    "\n",
    "# Check your answer \n",
    "q3.check()"
   ]
  },
  {
   "cell_type": "code",
   "execution_count": 8,
   "id": "1a067bb3",
   "metadata": {
    "execution": {
     "iopub.execute_input": "2025-06-28T14:32:20.916060Z",
     "iopub.status.busy": "2025-06-28T14:32:20.915714Z",
     "iopub.status.idle": "2025-06-28T14:32:20.925626Z",
     "shell.execute_reply": "2025-06-28T14:32:20.924800Z"
    },
    "papermill": {
     "duration": 0.017428,
     "end_time": "2025-06-28T14:32:20.926977",
     "exception": false,
     "start_time": "2025-06-28T14:32:20.909549",
     "status": "completed"
    },
    "tags": []
   },
   "outputs": [
    {
     "data": {
      "application/javascript": [
       "parent.postMessage({\"jupyterEvent\": \"custom.exercise_interaction\", \"data\": {\"interactionType\": 2, \"questionType\": 2, \"questionId\": \"3_EstimateHouseValueBool\", \"learnToolsVersion\": \"0.3.5\", \"valueTowardsCompletion\": 0.0, \"failureMessage\": \"\", \"exceptionClass\": \"\", \"trace\": \"\", \"outcomeType\": 4}}, \"*\")"
      ],
      "text/plain": [
       "<IPython.core.display.Javascript object>"
      ]
     },
     "metadata": {},
     "output_type": "display_data"
    },
    {
     "data": {
      "text/markdown": [
       "<span style=\"color:#3366cc\">Hint:</span> The variable `has_basement` is either `True` or `False`.  What happens when you multiply it by 40000 (the value of a basement)?  Refer to the previous question if you are unsure."
      ],
      "text/plain": [
       "Hint: The variable `has_basement` is either `True` or `False`.  What happens when you multiply it by 40000 (the value of a basement)?  Refer to the previous question if you are unsure."
      ]
     },
     "metadata": {},
     "output_type": "display_data"
    },
    {
     "data": {
      "application/javascript": [
       "parent.postMessage({\"jupyterEvent\": \"custom.exercise_interaction\", \"data\": {\"interactionType\": 3, \"questionType\": 2, \"questionId\": \"3_EstimateHouseValueBool\", \"learnToolsVersion\": \"0.3.5\", \"valueTowardsCompletion\": 0.0, \"failureMessage\": \"\", \"exceptionClass\": \"\", \"trace\": \"\", \"outcomeType\": 4}}, \"*\")"
      ],
      "text/plain": [
       "<IPython.core.display.Javascript object>"
      ]
     },
     "metadata": {},
     "output_type": "display_data"
    },
    {
     "data": {
      "text/markdown": [
       "<span style=\"color:#33cc99\">Solution:</span> \n",
       "```python\n",
       "def get_expected_cost(beds, baths, has_basement):\n",
       "    value = 80000 + 30000 * beds + 10000 * baths + 40000 * has_basement\n",
       "    return value\n",
       "\n",
       "```"
      ],
      "text/plain": [
       "Solution: \n",
       "```python\n",
       "def get_expected_cost(beds, baths, has_basement):\n",
       "    value = 80000 + 30000 * beds + 10000 * baths + 40000 * has_basement\n",
       "    return value\n",
       "\n",
       "```"
      ]
     },
     "metadata": {},
     "output_type": "display_data"
    }
   ],
   "source": [
    "# Uncomment to see a hint\n",
    "q3.hint()\n",
    "\n",
    "# Uncomment to view the solution\n",
    "q3.solution()"
   ]
  },
  {
   "cell_type": "markdown",
   "id": "dde62c3f",
   "metadata": {
    "papermill": {
     "duration": 0.005506,
     "end_time": "2025-06-28T14:32:20.938090",
     "exception": false,
     "start_time": "2025-06-28T14:32:20.932584",
     "status": "completed"
    },
    "tags": []
   },
   "source": [
    "# Question 4\n",
    "\n",
    "We'll continue our study of boolean arithmetic.  For this question, your task is to provide a description of what happpens when you add booleans. \n",
    "\n",
    "Use the next code cell for your investigation.  Feel free to add or remove any lines of code - use it as your workspace!"
   ]
  },
  {
   "cell_type": "code",
   "execution_count": 9,
   "id": "abed6181",
   "metadata": {
    "execution": {
     "iopub.execute_input": "2025-06-28T14:32:20.950748Z",
     "iopub.status.busy": "2025-06-28T14:32:20.950408Z",
     "iopub.status.idle": "2025-06-28T14:32:20.955766Z",
     "shell.execute_reply": "2025-06-28T14:32:20.954709Z"
    },
    "papermill": {
     "duration": 0.013487,
     "end_time": "2025-06-28T14:32:20.957152",
     "exception": false,
     "start_time": "2025-06-28T14:32:20.943665",
     "status": "completed"
    },
    "tags": []
   },
   "outputs": [
    {
     "name": "stdout",
     "output_type": "stream",
     "text": [
      "0\n",
      "1\n",
      "1\n",
      "2\n",
      "3\n"
     ]
    }
   ],
   "source": [
    "print(False + False)\n",
    "print(True + False)\n",
    "print(False + True)\n",
    "print(True + True)\n",
    "print(False + True + True + True)"
   ]
  },
  {
   "cell_type": "markdown",
   "id": "f4440fff",
   "metadata": {
    "papermill": {
     "duration": 0.005568,
     "end_time": "2025-06-28T14:32:20.968925",
     "exception": false,
     "start_time": "2025-06-28T14:32:20.963357",
     "status": "completed"
    },
    "tags": []
   },
   "source": [
    "Once you have an answer, run the code cell below to see the solution.  Viewing the solution will give you credit for answering the problem."
   ]
  },
  {
   "cell_type": "code",
   "execution_count": 10,
   "id": "f3ed9565",
   "metadata": {
    "execution": {
     "iopub.execute_input": "2025-06-28T14:32:20.981853Z",
     "iopub.status.busy": "2025-06-28T14:32:20.981168Z",
     "iopub.status.idle": "2025-06-28T14:32:20.988602Z",
     "shell.execute_reply": "2025-06-28T14:32:20.987523Z"
    },
    "papermill": {
     "duration": 0.015536,
     "end_time": "2025-06-28T14:32:20.990158",
     "exception": false,
     "start_time": "2025-06-28T14:32:20.974622",
     "status": "completed"
    },
    "tags": []
   },
   "outputs": [
    {
     "data": {
      "application/javascript": [
       "parent.postMessage({\"jupyterEvent\": \"custom.exercise_interaction\", \"data\": {\"outcomeType\": 1, \"valueTowardsCompletion\": 0.2, \"interactionType\": 1, \"questionType\": 4, \"questionId\": \"4_AddingBooleans\", \"learnToolsVersion\": \"0.3.5\", \"failureMessage\": \"\", \"exceptionClass\": \"\", \"trace\": \"\"}}, \"*\")"
      ],
      "text/plain": [
       "<IPython.core.display.Javascript object>"
      ]
     },
     "metadata": {},
     "output_type": "display_data"
    },
    {
     "data": {
      "text/markdown": [
       "<span style=\"color:#33cc33\">Correct:</span> \n",
       "\n",
       "When you add booleans, adding `False` is equivalent to adding 0, and adding `True` is equivalent to adding 1."
      ],
      "text/plain": [
       "Correct: \n",
       "\n",
       "When you add booleans, adding `False` is equivalent to adding 0, and adding `True` is equivalent to adding 1."
      ]
     },
     "metadata": {},
     "output_type": "display_data"
    }
   ],
   "source": [
    "# Check your answer (Run this code cell to receive credit!)\n",
    "q4.check()"
   ]
  },
  {
   "cell_type": "markdown",
   "id": "1f047fd0",
   "metadata": {
    "papermill": {
     "duration": 0.005598,
     "end_time": "2025-06-28T14:32:21.001829",
     "exception": false,
     "start_time": "2025-06-28T14:32:20.996231",
     "status": "completed"
    },
    "tags": []
   },
   "source": [
    "# 🌶️ Question 5\n",
    "\n",
    "You own an online shop where you sell rings with custom engravings.  You offer both gold plated and solid gold rings.\n",
    "- Gold plated rings have a base cost of \\\\$50, and you charge \\\\$7 per engraved unit.  \n",
    "- Solid gold rings have a base cost of \\\\$100, and you charge \\\\$10 per engraved unit.\n",
    "- Spaces and punctuation are counted as engraved units.\n",
    "\n",
    "Write a function `cost_of_project()` that takes two arguments:\n",
    "- `engraving` - a Python string with the text of the engraving\n",
    "- `solid_gold` - a Boolean that indicates whether the ring is solid gold\n",
    "\n",
    "It should return the cost of the project.  This question should be fairly challenging, and you may need a hint."
   ]
  },
  {
   "cell_type": "code",
   "execution_count": 11,
   "id": "208f1fbc",
   "metadata": {
    "execution": {
     "iopub.execute_input": "2025-06-28T14:32:21.016078Z",
     "iopub.status.busy": "2025-06-28T14:32:21.015654Z",
     "iopub.status.idle": "2025-06-28T14:32:21.024322Z",
     "shell.execute_reply": "2025-06-28T14:32:21.023434Z"
    },
    "papermill": {
     "duration": 0.017439,
     "end_time": "2025-06-28T14:32:21.026073",
     "exception": false,
     "start_time": "2025-06-28T14:32:21.008634",
     "status": "completed"
    },
    "tags": []
   },
   "outputs": [
    {
     "data": {
      "application/javascript": [
       "parent.postMessage({\"jupyterEvent\": \"custom.exercise_interaction\", \"data\": {\"outcomeType\": 1, \"valueTowardsCompletion\": 0.2, \"interactionType\": 1, \"questionType\": 2, \"questionId\": \"5_CustomEngravings\", \"learnToolsVersion\": \"0.3.5\", \"failureMessage\": \"\", \"exceptionClass\": \"\", \"trace\": \"\"}}, \"*\")"
      ],
      "text/plain": [
       "<IPython.core.display.Javascript object>"
      ]
     },
     "metadata": {},
     "output_type": "display_data"
    },
    {
     "data": {
      "text/markdown": [
       "<span style=\"color:#33cc33\">Correct</span>"
      ],
      "text/plain": [
       "Correct"
      ]
     },
     "metadata": {},
     "output_type": "display_data"
    }
   ],
   "source": [
    "def cost_of_project(engraving, solid_gold):\n",
    "    cost = solid_gold * (100 + 10 * len(engraving)) + (not solid_gold) * (50 + 7 * len(engraving))\n",
    "    return cost\n",
    "\n",
    "# Check your answer\n",
    "q5.check()"
   ]
  },
  {
   "cell_type": "code",
   "execution_count": 12,
   "id": "d1084514",
   "metadata": {
    "execution": {
     "iopub.execute_input": "2025-06-28T14:32:21.040236Z",
     "iopub.status.busy": "2025-06-28T14:32:21.039901Z",
     "iopub.status.idle": "2025-06-28T14:32:21.050250Z",
     "shell.execute_reply": "2025-06-28T14:32:21.049134Z"
    },
    "papermill": {
     "duration": 0.019169,
     "end_time": "2025-06-28T14:32:21.051767",
     "exception": false,
     "start_time": "2025-06-28T14:32:21.032598",
     "status": "completed"
    },
    "tags": []
   },
   "outputs": [
    {
     "data": {
      "application/javascript": [
       "parent.postMessage({\"jupyterEvent\": \"custom.exercise_interaction\", \"data\": {\"interactionType\": 2, \"questionType\": 2, \"questionId\": \"5_CustomEngravings\", \"learnToolsVersion\": \"0.3.5\", \"valueTowardsCompletion\": 0.0, \"failureMessage\": \"\", \"exceptionClass\": \"\", \"trace\": \"\", \"outcomeType\": 4}}, \"*\")"
      ],
      "text/plain": [
       "<IPython.core.display.Javascript object>"
      ]
     },
     "metadata": {},
     "output_type": "display_data"
    },
    {
     "data": {
      "text/markdown": [
       "<span style=\"color:#3366cc\">Hint:</span> There are two options - either the project uses solid gold or does not.  With this in mind, you can structure your solution like this: `cost = solid_gold * ____ + (not solid_gold) * ____`.  You need to figure out how to fill in the blanks. Also, remember that:\n",
       "- If `solid_gold = True`, then `(not solid_gold) = False`, and if `solid_gold = False`, then `(not solid_gold) = True`.\n",
       "- Multiplying an integer by `True` is equivalent to multiplying it by 1, and multiplying an integer by `False` is equivalent to multiplying it by 0."
      ],
      "text/plain": [
       "Hint: There are two options - either the project uses solid gold or does not.  With this in mind, you can structure your solution like this: `cost = solid_gold * ____ + (not solid_gold) * ____`.  You need to figure out how to fill in the blanks. Also, remember that:\n",
       "- If `solid_gold = True`, then `(not solid_gold) = False`, and if `solid_gold = False`, then `(not solid_gold) = True`.\n",
       "- Multiplying an integer by `True` is equivalent to multiplying it by 1, and multiplying an integer by `False` is equivalent to multiplying it by 0."
      ]
     },
     "metadata": {},
     "output_type": "display_data"
    },
    {
     "data": {
      "application/javascript": [
       "parent.postMessage({\"jupyterEvent\": \"custom.exercise_interaction\", \"data\": {\"interactionType\": 3, \"questionType\": 2, \"questionId\": \"5_CustomEngravings\", \"learnToolsVersion\": \"0.3.5\", \"valueTowardsCompletion\": 0.0, \"failureMessage\": \"\", \"exceptionClass\": \"\", \"trace\": \"\", \"outcomeType\": 4}}, \"*\")"
      ],
      "text/plain": [
       "<IPython.core.display.Javascript object>"
      ]
     },
     "metadata": {},
     "output_type": "display_data"
    },
    {
     "data": {
      "text/markdown": [
       "<span style=\"color:#33cc99\">Solution:</span> \n",
       "```python\n",
       "def cost_of_project(engraving, solid_gold):\n",
       "    cost = solid_gold * (100 + 10 * len(engraving)) + (not solid_gold) * (50 + 7 * len(engraving))\n",
       "    return cost\n",
       "\n",
       "```"
      ],
      "text/plain": [
       "Solution: \n",
       "```python\n",
       "def cost_of_project(engraving, solid_gold):\n",
       "    cost = solid_gold * (100 + 10 * len(engraving)) + (not solid_gold) * (50 + 7 * len(engraving))\n",
       "    return cost\n",
       "\n",
       "```"
      ]
     },
     "metadata": {},
     "output_type": "display_data"
    }
   ],
   "source": [
    "# Uncomment to see a hint\n",
    "q5.hint()\n",
    "\n",
    "# Uncomment to view the solution\n",
    "q5.solution()"
   ]
  },
  {
   "cell_type": "markdown",
   "id": "d3051212",
   "metadata": {
    "papermill": {
     "duration": 0.006212,
     "end_time": "2025-06-28T14:32:21.064465",
     "exception": false,
     "start_time": "2025-06-28T14:32:21.058253",
     "status": "completed"
    },
    "tags": []
   },
   "source": [
    "Run the next code cell to calculate the cost of engraving `Charlie+Denver` on a solid gold ring."
   ]
  },
  {
   "cell_type": "code",
   "execution_count": 13,
   "id": "f46a50e2",
   "metadata": {
    "execution": {
     "iopub.execute_input": "2025-06-28T14:32:21.078247Z",
     "iopub.status.busy": "2025-06-28T14:32:21.077936Z",
     "iopub.status.idle": "2025-06-28T14:32:21.083009Z",
     "shell.execute_reply": "2025-06-28T14:32:21.082142Z"
    },
    "papermill": {
     "duration": 0.013687,
     "end_time": "2025-06-28T14:32:21.084445",
     "exception": false,
     "start_time": "2025-06-28T14:32:21.070758",
     "status": "completed"
    },
    "tags": []
   },
   "outputs": [
    {
     "name": "stdout",
     "output_type": "stream",
     "text": [
      "240\n"
     ]
    }
   ],
   "source": [
    "project_one = cost_of_project(\"Charlie+Denver\", True)\n",
    "print(project_one)"
   ]
  },
  {
   "cell_type": "markdown",
   "id": "8d208381",
   "metadata": {
    "papermill": {
     "duration": 0.006027,
     "end_time": "2025-06-28T14:32:21.097030",
     "exception": false,
     "start_time": "2025-06-28T14:32:21.091003",
     "status": "completed"
    },
    "tags": []
   },
   "source": [
    "Use the next code cell to calculate the cost of engraving `08/10/2000` on a gold plated ring."
   ]
  },
  {
   "cell_type": "code",
   "execution_count": 14,
   "id": "59c6bd02",
   "metadata": {
    "execution": {
     "iopub.execute_input": "2025-06-28T14:32:21.110889Z",
     "iopub.status.busy": "2025-06-28T14:32:21.110591Z",
     "iopub.status.idle": "2025-06-28T14:32:21.115197Z",
     "shell.execute_reply": "2025-06-28T14:32:21.114413Z"
    },
    "papermill": {
     "duration": 0.013138,
     "end_time": "2025-06-28T14:32:21.116438",
     "exception": false,
     "start_time": "2025-06-28T14:32:21.103300",
     "status": "completed"
    },
    "tags": []
   },
   "outputs": [
    {
     "name": "stdout",
     "output_type": "stream",
     "text": [
      "120\n"
     ]
    }
   ],
   "source": [
    "project_two = cost_of_project(\"08/10/2000\", False)\n",
    "print(project_two)"
   ]
  },
  {
   "cell_type": "markdown",
   "id": "0420aac0",
   "metadata": {
    "papermill": {
     "duration": 0.00605,
     "end_time": "2025-06-28T14:32:21.128805",
     "exception": false,
     "start_time": "2025-06-28T14:32:21.122755",
     "status": "completed"
    },
    "tags": []
   },
   "source": [
    "# Keep going\n",
    "\n",
    "Continue to the next lesson to **[learn about conditions and conditional statements](https://www.kaggle.com/alexisbcook/conditions-and-conditional-statements)**."
   ]
  },
  {
   "cell_type": "markdown",
   "id": "60c5964c",
   "metadata": {
    "papermill": {
     "duration": 0.005944,
     "end_time": "2025-06-28T14:32:21.141016",
     "exception": false,
     "start_time": "2025-06-28T14:32:21.135072",
     "status": "completed"
    },
    "tags": []
   },
   "source": [
    "---\n",
    "\n",
    "\n",
    "\n",
    "\n",
    "*Have questions or comments? Visit the [course discussion forum](https://www.kaggle.com/learn/intro-to-programming/discussion) to chat with other learners.*"
   ]
  }
 ],
 "metadata": {
  "kaggle": {
   "accelerator": "none",
   "dataSources": [],
   "isGpuEnabled": false,
   "isInternetEnabled": false,
   "language": "python",
   "sourceType": "notebook"
  },
  "kernelspec": {
   "display_name": "Python 3",
   "language": "python",
   "name": "python3"
  },
  "language_info": {
   "codemirror_mode": {
    "name": "ipython",
    "version": 3
   },
   "file_extension": ".py",
   "mimetype": "text/x-python",
   "name": "python",
   "nbconvert_exporter": "python",
   "pygments_lexer": "ipython3",
   "version": "3.11.11"
  },
  "papermill": {
   "default_parameters": {},
   "duration": 7.803894,
   "end_time": "2025-06-28T14:32:21.666681",
   "environment_variables": {},
   "exception": null,
   "input_path": "__notebook__.ipynb",
   "output_path": "__notebook__.ipynb",
   "parameters": {},
   "start_time": "2025-06-28T14:32:13.862787",
   "version": "2.3.3"
  }
 },
 "nbformat": 4,
 "nbformat_minor": 5
}
