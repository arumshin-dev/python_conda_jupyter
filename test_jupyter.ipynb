{
 "cells": [
  {
   "cell_type": "code",
   "execution_count": 1,
   "id": "a957d784-d516-4b48-8dcc-ab6e452f306a",
   "metadata": {},
   "outputs": [
    {
     "name": "stdout",
     "output_type": "stream",
     "text": [
      "Hello World\n"
     ]
    }
   ],
   "source": [
    "print('Hello World')"
   ]
  },
  {
   "cell_type": "code",
   "execution_count": 2,
   "id": "7d29e767-afe4-40c7-8461-c8b334700241",
   "metadata": {},
   "outputs": [
    {
     "data": {
      "text/plain": [
       "3"
      ]
     },
     "execution_count": 2,
     "metadata": {},
     "output_type": "execute_result"
    }
   ],
   "source": [
    "#더하기 +\n",
    "#빼기 -\n",
    "#곱하기 *\n",
    "#나누기 /\n",
    "# 지수 **\n",
    "a=1\n",
    "b=2\n",
    "a+b"
   ]
  },
  {
   "cell_type": "markdown",
   "id": "3ebcaa73-1ee4-44dd-bbe6-0d68f57cbd8d",
   "metadata": {},
   "source": [
    "#주피터 노트북 단축키\n",
    "- enter : 편집상태로 변환\n",
    "- Shift + Enter : 셀이 실행이 되고 커서가 다음셀로 이동\n",
    "- Ctrl + Enter : 셀이 실행되고 커서가 그 셀에 유지\n",
    "- a : 위에 셀 한 개 추가\n",
    "- b : 아래 셀 한 개 추가\n",
    "- dd : 셀 삭제\n",
    "- m : 셀을 마크다운 셀로 변환\n",
    "- h : 다양한 주피터 노트북의 단축키를 확인"
   ]
  },
  {
   "cell_type": "markdown",
   "id": "4bf4c6c5-44db-4bb2-a943-c99eaa429511",
   "metadata": {},
   "source": [
    "Markdown\n",
    "# h1\n",
    "## h2\n",
    "### h3\n",
    "#### h4\n",
    "h5\n",
    "##### h5\n",
    "**#5**개는 없는거나 *같아*\n"
   ]
  },
  {
   "cell_type": "markdown",
   "id": "98e7611b-5ce8-4289-987f-bf7cf3733795",
   "metadata": {},
   "source": []
  }
 ],
 "metadata": {
  "kernelspec": {
   "display_name": "Python 3 (ipykernel)",
   "language": "python",
   "name": "python3"
  },
  "language_info": {
   "codemirror_mode": {
    "name": "ipython",
    "version": 3
   },
   "file_extension": ".py",
   "mimetype": "text/x-python",
   "name": "python",
   "nbconvert_exporter": "python",
   "pygments_lexer": "ipython3",
   "version": "3.13.2"
  }
 },
 "nbformat": 4,
 "nbformat_minor": 5
}
